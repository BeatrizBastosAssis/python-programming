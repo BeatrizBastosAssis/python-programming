{
 "cells": [
  {
   "cell_type": "markdown",
   "metadata": {},
   "source": [
    "# Prova #1 C126-L2 (2S2020)\n",
    "\n",
    "### ATENCÃO: Leia as instruções abaixo com bastante calma.\n",
    "\n",
    "1. Para cada um dos exercícios a seguir, faça o seguinte:\n",
    "    * Adicione comentários ao seu código explicando o que você fez.\n",
    "    * Caso o exercício involva a implementação de uma função:\n",
    "        + Coloque um comentário dizendo o que a função faz, use **docstrings**.\n",
    "        + Escolha nomes auto-explicativos para suas funções e parâmetros.\n",
    "    \n",
    "2. Quando você terminar a prova, vá ao menu do Jupyter ou Colab e selecione a opção para fazer download do notebook.\n",
    "    * Os notebooks tem extensão .ipynb. \n",
    "    * Este deve ser o arquivo que você irá entregar.\n",
    "    * No Jupyter vá até a opção **File** -> **Download as** -> **Notebook (.ipynb)**.\n",
    "    * No Colab vá até a opção **File** -> **Download .ipynb**.\n",
    "   \n",
    "3. Em seguida, faça a entrega do notebook da prova (ou seja, anexe o arquivo) na tarefa criada no MS Teams.\n",
    "4. Atente-se ao prazo de entrega definido na tarefa do MS Teams. \n",
    "5. **A prova deve ser resolvida individualmente**.\n",
    "6. Todas as questões tem o mesmo peso.\n",
    "7. Não se esqueça de colocar seu nome e número de matrícula nos campos abaixo.\n",
    "8. Você pode consultar o material de aula.\n",
    "9. A interpretação faz parte da prova.\n",
    "10. Boa sorte!"
   ]
  },
  {
   "cell_type": "markdown",
   "metadata": {},
   "source": [
    "**Nome**:\n",
    "\n",
    "**Matrícula**:"
   ]
  },
  {
   "cell_type": "markdown",
   "metadata": {},
   "source": [
    "## Exercícios"
   ]
  },
  {
   "cell_type": "markdown",
   "metadata": {},
   "source": [
    "#### 1) Exercício sobre recursão. \n",
    "\n",
    "Escreva uma função recursiva, chamada de `multiplicacaoRecursiva`, que calcule a multiplicação de todos os números de `1` a `n`, onde `n` é o parâmetro de entrada da função."
   ]
  },
  {
   "cell_type": "code",
   "execution_count": 13,
   "metadata": {},
   "outputs": [],
   "source": [
    "# Implemente o código do exercício aqui."
   ]
  },
  {
   "cell_type": "markdown",
   "metadata": {},
   "source": [
    "Execute o trecho de código abaixo para testar sua função. Se a sua função estiver correta, então a seguinte frase será impressa: `Implementação da função está correta!`, caso contrário, a seguinte frase será impressa: `Implementação da função NÃO está correta!`\n",
    "\n",
    "**NÃO ALTERE O CÓDIGO ABAIXO EM HIPÓTESE ALGUMA. SUA IMPLEMENTAÇÃO DEVE FUNCIONAR COM O TRECHO DE CÓDIGO ABAIXO SEM NENHUMA ALTERAÇÃO.**"
   ]
  },
  {
   "cell_type": "code",
   "execution_count": 14,
   "metadata": {},
   "outputs": [
    {
     "name": "stdout",
     "output_type": "stream",
     "text": [
      "Implementação da função está correta!\n"
     ]
    }
   ],
   "source": [
    "resultados_corretos = [1, 2, 6, 24, 120, 720]\n",
    "\n",
    "for n in range(0, len(resultados_corretos)):\n",
    "    ret = True\n",
    "    if multiplicacaoRecursiva(n+1) != resultados_corretos[n]:\n",
    "        ret = False\n",
    "        break\n",
    "\n",
    "if(ret==True):\n",
    "    print('Implementação da função está correta!')\n",
    "else:\n",
    "    print('Implementação da função NÃO está correta!')"
   ]
  },
  {
   "cell_type": "markdown",
   "metadata": {},
   "source": [
    "#### 2) Exercício sobre laços de repetição, operadores e funções. \n",
    "\n",
    "Implemente uma função chamada `decToBin` que converta um número decimal em um número binário. Por exemplo, o número decimal `18` quando convertido em binário é representado como `10010`. O número binário deve ser representado como um número inteiro (tipo `int`), ou seja, sua função `decToBin` deve retornar um número inteiro que é a representação do valor binário.\n",
    "\n",
    "Para converter o número decimal em binário, siga os seguintes passos:\n",
    "1. Divida o número por 2.\n",
    "2. Obtenha o quociente **inteiro** da divisão por 2, o qual será usado na próxima iteração.\n",
    "3. Obtenha o **resto** da divisão por 2, o qual será o dígito binário.\n",
    "4. Multiplique o **resto** da divisão pela posição do dígito binário quando representado como um número decimal, ou seja, se o bit está na posição das unidades, multiplique seu valor por $10^0$, se o bit está na posição das dezenas, multiple seu valor por $10^1$ e assim por diante.\n",
    "5. Acumule os valores resultantes da multiplicação do passo anterior (**Dica**: inicialize a variável de acumulação com 0).\n",
    "6. Repita os passos anteriores até que o quociente seja igual a 0.\n",
    "\n",
    "Exemplo: convertendo o valor decimal `13` em binário\n",
    "\n",
    "| Divisão por 2 | Quociente | Resto | Bit # |  10**(Bit #) | Resto * 10**(Bit #) |     Acumulação    |\n",
    "|:-------------:|:---------:|:-----:|:-----:|:------------:|:-------------------:|:-----------------:|\n",
    "|      13/2     |     6     |   1   |   0   |   10**0 = 1  |      1 * 1 = 1      |     0 + 1 = 1     |\n",
    "|      6/2      |     3     |   0   |   1   |  10**1 = 10  |      0 * 10 = 0     |     1 + 0  = 1    |\n",
    "|      3/2      |     1     |   1   |   2   |  10**2 = 100 |       1 * 100       |   100 + 1 = 101   |\n",
    "|      1/2      |     0     |   1   |   3   | 10**3 = 1000 |       1 * 1000      | 1000 + 101 = 1101 |\n",
    "\n",
    "\n",
    "Utilizando os resultados da tabela acima podemos converter o número decimal `13` como:\n",
    "\n",
    "$$1*(10^0) = 1$$\n",
    "$$1 + 0*(10^1) = 1$$\n",
    "$$1 + 1*(10^2) = 101$$\n",
    "$$101 + 1*(10^3) = 1101$$\n",
    "\n",
    "\n",
    "\n",
    "\n",
    "\n",
    "Então, `13`= `1101`."
   ]
  },
  {
   "cell_type": "code",
   "execution_count": 15,
   "metadata": {},
   "outputs": [],
   "source": [
    "# Implemente o código do exercício aqui."
   ]
  },
  {
   "cell_type": "markdown",
   "metadata": {},
   "source": [
    "Execute o trecho de código abaixo para testar sua função. Se a sua função estiver correta, então a seguinte frase será impressa: `Implementação da função está correta!`, caso contrário, a seguinte frase será impressa: `Implementação da função NÃO está correta!`\n",
    "\n",
    "**NÃO ALTERE O CÓDIGO ABAIXO EM HIPÓTESE ALGUMA. SUA IMPLEMENTAÇÃO DEVE FUNCIONAR COM O TRECHO DE CÓDIGO ABAIXO SEM NENHUMA ALTERAÇÃO.**"
   ]
  },
  {
   "cell_type": "code",
   "execution_count": 16,
   "metadata": {},
   "outputs": [
    {
     "name": "stdout",
     "output_type": "stream",
     "text": [
      "Implementação da função está correta!\n"
     ]
    }
   ],
   "source": [
    "entradas = [13, 7, 16, 734]\n",
    "resultados_esperados = [1101, 111, 10000, 1011011110]\n",
    "\n",
    "for i in range(0, len(entradas)):\n",
    "    ret = True\n",
    "    if decToBin(entradas[i]) != resultados_esperados[i]:\n",
    "        ret = False\n",
    "        break\n",
    "        \n",
    "if(ret==True):\n",
    "    print('Implementação da função está correta!')\n",
    "else:\n",
    "    print('Implementação da função NÃO está correta!')"
   ]
  },
  {
   "cell_type": "markdown",
   "metadata": {},
   "source": [
    "#### 3) Exercício sobre listas e funções. \n",
    "\n",
    "Escreva uma função chamada `imprimeMenoresPrecos` que receba uma lista contendo informações sobre preços de produtos em diferentes datas e que mostre como resultado a **data** e **menor** preço que cada produto já teve. Utilize os valores abaixo como entrada da função. Veja que a lista com os valores já está disponibilizada, portanto, apenas implemente a função e execute a célula com o trecho de código de teste.\n",
    "\n",
    "|    Data    |  Produto  | Preço |\n",
    "|:----------:|:---------:|:-----:|\n",
    "| 29/06/2020 |   cebola  |  2.19 |\n",
    "| 29/06/2020 |   batata  |  1.98 |\n",
    "| 29/06/2020 |   alface  |  1.88 |\n",
    "| 22/06/2020 | beterraba |  2.48 |\n",
    "| 22/06/2020 |   alface  |  2.00 |\n",
    "| 22/06/2020 |   cebola  |  2.03 |\n",
    "| 15/06/2020 | beterraba |  2.44 |\n",
    "| 15/06/2020 |   alface  |  1.75 |\n",
    "| 15/06/2020 |   batata  |  2.11 |\n",
    "\n",
    "```python\n",
    "lista = ['29/06/2020', 'cebola', 2.19, '29/06/2020', 'batata', 1.98, '29/06/2020', 'alface', 1.88, '22/06/2020', 'beterraba', 2.48, '22/06/2020', 'alface', 2.00, '22/06/2020', 'cebola', 2.03, '15/06/2020', 'beterraba', 2.44, '15/06/2020', 'alface', 1.75, '15/06/2020', 'batata', 2.11]\n",
    "```"
   ]
  },
  {
   "cell_type": "code",
   "execution_count": 17,
   "metadata": {},
   "outputs": [],
   "source": [
    "# Implemente o código do exercício aqui."
   ]
  },
  {
   "cell_type": "markdown",
   "metadata": {},
   "source": [
    "Teste sua função com o código abaixo, o qual deve resultar na seguinte saída esperada:\n",
    "\n",
    "```python\n",
    "Produto: cebola - data: 22/06/2020 - preço: 2.03\n",
    "Produto: batata - data: 29/06/2020 - preço: 1.98\n",
    "Produto: alface - data: 15/06/2020 - preço: 1.75\n",
    "Produto: beterraba - data: 15/06/2020 - preço: 2.44\n",
    "```\n",
    "\n",
    "**NÃO ALTERE O CÓDIGO ABAIXO EM HIPÓTESE ALGUMA. SUA IMPLEMENTAÇÃO DEVE FUNCIONAR COM O TRECHO DE CÓDIGO ABAIXO SEM NENHUMA ALTERAÇÃO.**"
   ]
  },
  {
   "cell_type": "code",
   "execution_count": 18,
   "metadata": {},
   "outputs": [
    {
     "name": "stdout",
     "output_type": "stream",
     "text": [
      "Produto: cebola - data: 22/06/2020 - preço: 2.03\n",
      "Produto: batata - data: 29/06/2020 - preço: 1.98\n",
      "Produto: alface - data: 15/06/2020 - preço: 1.75\n",
      "Produto: beterraba - data: 15/06/2020 - preço: 2.44\n"
     ]
    }
   ],
   "source": [
    "lista = ['29/06/2020', 'cebola', 2.19, '29/06/2020', 'batata', 1.98, '29/06/2020', 'alface', 1.88, '22/06/2020', 'beterraba', 2.48, '22/06/2020', 'alface', 2.00, '22/06/2020', 'cebola', 2.03, '15/06/2020', 'beterraba', 2.44, '15/06/2020', 'alface', 1.75, '15/06/2020', 'batata', 2.11]\n",
    "\n",
    "imprimeMenoresPrecos(lista)"
   ]
  },
  {
   "cell_type": "markdown",
   "metadata": {},
   "source": [
    "#### 4) Exercício sobre strings, dicionários e funções. \n",
    "\n",
    "Uma string, representando uma data no fomato (mês-dia-ano) `MAR-08-85` inclui o nome do mês, que deve ser traduzido para um **número** que represente o mês. Implemente uma função chamada `converteData` que use operações da classe **string** para dividir a data em 3 itens usando o caractere `-` como caracter de separação em seguida traduza o nome do mês em um número de 1 a 12 (use um **dicionário** para traduzir nomes de meses em números) e corrija o ano para incluir todos os dígitos. Considere que os valores de anos passados para a função estão no intervalo entre `1900` e `1999`.\n",
    "\n",
    "A função deve aceitar uma string, representando uma data no fomato `MMM-dd-aa` e deve **retornar** uma tupla de **strings** da seguinte forma `(dia, mês, ano)`.\n",
    "\n",
    "**Dicas**:\n",
    "\n",
    "1. Tabela de Abreviaturas dos Meses: http://metodologia.lilacs.bvsalud.org/docs/pt/tabela-abreviatura-meses.htm\n",
    "2. Utilize os seguintes métodos da classe `string`\n",
    "    + `split()` para dividir uma string em sub-strings utilizando um separador específico.\n",
    "    + `lower()` para transformar todas os carecteres em letras minúsculas.\n",
    "    + `+` para concatenar strings\n",
    "    \n",
    "3. A documentação dos métodos da classe string podem ser accessados através do seguinte link: https://www.w3schools.com/python/python_ref_string.asp"
   ]
  },
  {
   "cell_type": "code",
   "execution_count": 19,
   "metadata": {},
   "outputs": [],
   "source": [
    "# Implemente o código do exercício aqui."
   ]
  },
  {
   "cell_type": "markdown",
   "metadata": {},
   "source": [
    "Execute o trecho de código abaixo para testar sua função. Se a sua função estiver correta, então a seguinte frase será impressa: `Implementação da função está correta!`, caso contrário, a seguinte frase será impressa: `Implementação da função NÃO está correta!`\n",
    "\n",
    "**NÃO ALTERE O CÓDIGO ABAIXO EM HIPÓTESE ALGUMA. SUA IMPLEMENTAÇÃO DEVE FUNCIONAR COM O TRECHO DE CÓDIGO ABAIXO SEM NENHUMA ALTERAÇÃO.**"
   ]
  },
  {
   "cell_type": "code",
   "execution_count": 20,
   "metadata": {},
   "outputs": [
    {
     "name": "stdout",
     "output_type": "stream",
     "text": [
      "Implementação da função está correta!\n"
     ]
    }
   ],
   "source": [
    "entradas = ['MAR-01-00', 'abr-30-99', 'FeV-14-81']\n",
    "resultados_esperados = [('01', '3', '1900'), ('30', '4', '1999'), ('14', '2', '1981')]\n",
    "\n",
    "for i in range(0, len(entradas)):\n",
    "    ret = True\n",
    "    if converteData(entradas[i]) != resultados_esperados[i]:\n",
    "        ret = False\n",
    "        break\n",
    "        \n",
    "if(ret==True):\n",
    "    print('Implementação da função está correta!')\n",
    "else:\n",
    "    print('Implementação da função NÃO está correta!')"
   ]
  },
  {
   "cell_type": "markdown",
   "metadata": {},
   "source": [
    "#### 5) Exercício sobre módulos e pacotes.\n",
    "\n",
    "Implemente o pacote, sub-pacotes e módulos mostrados na figura abaixo. \n",
    "\n",
    "**IMPORTANTE**: Você **NÃO** precisa anexar o pacote, sub-pacotes e módulos ao MS Teams, anexe apenas o notebook Jupyter da prova com suas resoluções.\n",
    "\n",
    "<img src=\"../figures/pacotes_e_modulos_robot.png\" width=\"500\" height=\"500\">\n",
    "\n",
    "1. O módulo `Design.py` do pacote `Robot` deve conter:\n",
    "    + um dicionário chamado `info` com os seguintes pares chaves-valor: `id:1`, `modelo:'Maria'`, `anoDeFabricação:1927`, adicione valores \n",
    "2. O módulo `Processamento.py` do sub-pacote `Sound` deve conter:\n",
    "    + uma função chamada `carregar()` que retorne a string `Carregando som`\n",
    "    + uma função chamada `tocar()` que retorne a string `Tocando som`\n",
    "    + uma função chamada `pausar()` que retorne a string `Pausando som`\n",
    "3. O módulo `Processamento.py` do sub-pacote `Actions` deve conter:\n",
    "    + uma função chamada `andar()` que retorne a string `Robô andando`\n",
    "    + uma função chamada `falar()` que retorne a string `Robô falando`\n",
    "    + uma função chamada `cheirar()` que retorne a string `Robô cheirando`\n",
    "\n",
    "**DICA**: Não se esqueça de re-iniciar o Kernel quando fizer qualquer modificação em um dos arquivos `.py`. Vá até a opção `Kernel`e selecione `Restart`.\n",
    "\n",
    "**NÃO ALTERE OS TRECHOS DE CÓDIGO ABAIXO, EXCETO QUANDO DITO O CONTRÁRIO. SUA IMPLEMENTAÇÃO DEVE FUNCIONAR COM OS TRECHOS DE CÓDIGO ABAIXO SEM NENHUMA ALTERAÇÃO.**\n",
    "\n",
    "Após a implementação, execute o trecho de código da célula abaixo, **não o altere**. Se sua implementação do pacote, sub-pacotes e módulos estiver correta, então o resultado da execução da célula abaixo será bem sucedida."
   ]
  },
  {
   "cell_type": "code",
   "execution_count": 23,
   "metadata": {},
   "outputs": [
    {
     "ename": "AttributeError",
     "evalue": "module 'Robot' has no attribute 'Sound'",
     "output_type": "error",
     "traceback": [
      "\u001b[1;31m---------------------------------------------------------------------------\u001b[0m",
      "\u001b[1;31mAttributeError\u001b[0m                            Traceback (most recent call last)",
      "\u001b[1;32m<ipython-input-23-57b5c802f38f>\u001b[0m in \u001b[0;36m<module>\u001b[1;34m\u001b[0m\n\u001b[0;32m      4\u001b[0m \u001b[1;33m\u001b[0m\u001b[0m\n\u001b[0;32m      5\u001b[0m \u001b[0mret\u001b[0m \u001b[1;33m=\u001b[0m \u001b[1;32mTrue\u001b[0m\u001b[1;33m\u001b[0m\u001b[1;33m\u001b[0m\u001b[0m\n\u001b[1;32m----> 6\u001b[1;33m \u001b[1;32mif\u001b[0m\u001b[1;33m(\u001b[0m\u001b[0mRobot\u001b[0m\u001b[1;33m.\u001b[0m\u001b[0mSound\u001b[0m\u001b[1;33m.\u001b[0m\u001b[0mProcessamento\u001b[0m\u001b[1;33m.\u001b[0m\u001b[0mcarregar\u001b[0m\u001b[1;33m(\u001b[0m\u001b[1;33m)\u001b[0m \u001b[1;33m!=\u001b[0m \u001b[1;34m'Carregando som'\u001b[0m\u001b[1;33m)\u001b[0m\u001b[1;33m:\u001b[0m\u001b[1;33m\u001b[0m\u001b[1;33m\u001b[0m\u001b[0m\n\u001b[0m\u001b[0;32m      7\u001b[0m     \u001b[0mret\u001b[0m \u001b[1;33m=\u001b[0m \u001b[1;32mFalse\u001b[0m\u001b[1;33m\u001b[0m\u001b[1;33m\u001b[0m\u001b[0m\n\u001b[0;32m      8\u001b[0m \u001b[1;33m\u001b[0m\u001b[0m\n",
      "\u001b[1;31mAttributeError\u001b[0m: module 'Robot' has no attribute 'Sound'"
     ]
    }
   ],
   "source": [
    "import Robot.Sound.Processamento\n",
    "import Robot.Actions.Processamento\n",
    "import Robot.Design\n",
    "\n",
    "ret = True\n",
    "if(Robot.Sound.Processamento.carregar() != 'Carregando som'):\n",
    "    ret = False\n",
    "\n",
    "if(Robot.Actions.Processamento.andar() != 'Robô andando'):\n",
    "    ret = False\n",
    "    \n",
    "if(Robot.Design.info['modelo'] != 'Maria'):\n",
    "    ret = False\n",
    "    \n",
    "if(ret == True):\n",
    "    print('Teste 1 - Pacote Robot foi importando corretamente')\n",
    "else:\n",
    "    print('Teste 1 - Pacote Robot NÃO foi importando corretamente')"
   ]
  },
  {
   "cell_type": "markdown",
   "metadata": {},
   "source": [
    "A execução do trecho de código abaixo irá retornar um erro. Resolva os  problemas até que o código da célula execute corretamente."
   ]
  },
  {
   "cell_type": "code",
   "execution_count": 24,
   "metadata": {},
   "outputs": [
    {
     "name": "stdout",
     "output_type": "stream",
     "text": [
      "O pacote Robot foi deletado.\n",
      "Teste 2 - Sub-Pacote Sound foi importando corretamente\n",
      "Teste 3 - Sub-Pacote Actions foi importando corretamente\n",
      "Teste 4 - Módulo Design foi importando corretamente\n"
     ]
    }
   ],
   "source": [
    "import sys\n",
    "if 'Robot' in sys.modules:\n",
    "    del sys.modules['Robot']\n",
    "    print('O pacote Robot foi deletado.')\n",
    "\n",
    "from Robot.Sound import *\n",
    "\n",
    "if Processamento.tocar() == 'Tocando som':\n",
    "    print('Teste 2 - Sub-Pacote Sound foi importando corretamente')\n",
    "else:\n",
    "    print('Teste 2 - Sub-Pacote Sound NÃO foi importando corretamente')\n",
    "\n",
    "from Robot.Actions import *\n",
    "\n",
    "if Processamento.andar() == 'Robô andando':\n",
    "    print('Teste 3 - Sub-Pacote Actions foi importando corretamente')\n",
    "else:\n",
    "    print('Teste 3 - Sub-Pacote Actions NÃO foi importando corretamente')\n",
    "    \n",
    "from Robot.Design import *\n",
    "\n",
    "if info['anoDeFabricação'] == 1927:\n",
    "    print('Teste 4 - Módulo Design foi importando corretamente')\n",
    "else:\n",
    "    print('Teste 4 - Módulo Design NÃO foi importando corretamente')"
   ]
  },
  {
   "cell_type": "markdown",
   "metadata": {},
   "source": [
    "Na célula abaixo, importe apenas a função `cheirar()`, de forma que não ocorra nenhum erro na célula. \n",
    "\n",
    "**OBS**.: Não mude a chamada da função `cheirar()`, resolva o erro apenas importando a função corretamente."
   ]
  },
  {
   "cell_type": "code",
   "execution_count": 25,
   "metadata": {},
   "outputs": [
    {
     "name": "stdout",
     "output_type": "stream",
     "text": [
      "Teste 5 - Função do módulo Robot.Actions.Processamento foi importada corretamente\n"
     ]
    }
   ],
   "source": [
    "# Adicione aqui a linha de códique que importa apenas a função desejada.\n",
    "\n",
    "if cheirar() == 'Robô cheirando':\n",
    "    print('Teste 5 - Função do módulo Robot.Actions.Processamento foi importada corretamente')\n",
    "else:\n",
    "    print('Teste 5 - Função do módulo Robot.Actions.Processamento NÃO foi importada corretamente')"
   ]
  }
 ],
 "metadata": {
  "kernelspec": {
   "display_name": "Python 3",
   "language": "python",
   "name": "python3"
  },
  "language_info": {
   "codemirror_mode": {
    "name": "ipython",
    "version": 3
   },
   "file_extension": ".py",
   "mimetype": "text/x-python",
   "name": "python",
   "nbconvert_exporter": "python",
   "pygments_lexer": "ipython3",
   "version": "3.7.7"
  }
 },
 "nbformat": 4,
 "nbformat_minor": 4
}
