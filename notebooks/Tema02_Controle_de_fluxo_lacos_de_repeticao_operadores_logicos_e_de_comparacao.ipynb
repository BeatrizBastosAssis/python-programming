{
 "cells": [
  {
   "cell_type": "markdown",
   "metadata": {},
   "source": [
    "# Operadores de comparação, lógicos, controle de fluxo e laços de repetição"
   ]
  },
  {
   "cell_type": "markdown",
   "metadata": {},
   "source": [
    "## Introdução\n",
    "\n",
    "Vimos anteriormente como o Python resolve as expressões aritméticas, agora vamor ver como trabalhar com expressões lógicas e relacionais."
   ]
  },
  {
   "cell_type": "markdown",
   "metadata": {},
   "source": [
    "## Operadores de comparação\n",
    "\n",
    "* O Python permite comparar valores usando os seguintes **operadores relacionais ou de comparação**:\n",
    "\n",
    "| Operador |    Tipo    |                      Descrição                     | Exemplo | Resultado |\n",
    "|:--------:|:----------:|:--------------------------------------------------:|:-------:|:---------:|\n",
    "|    ==    |  Igualdade |    Verifica a igualdade entre os valores A e B.    |   2==3  |   False   |\n",
    "|   !=     |  Igualdade |       Verifica a diferença os valores A e B.       |   2!=3  |    True   |\n",
    "|    >     | Comparação |    Verificar se o valor A é maior que o valor B.   |   3>3   |   False   |\n",
    "|    <     | Comparação |    Verifica se o valor A é menor que o valor B.    |   2<3   |    True   |\n",
    "|    >=    | Comparação | Verifica se o valor A é maior ou igual ao valor B. |   3>=3  |    True   |\n",
    "|    <=    | Comparação | Verifica se o valor A é menor ou igual ao valor B. |   2<=1  |   False   |\n",
    "\n",
    "* Operadores relacionais comparam dois valores e o resultado pode ser ```True``` ou ```False```. \n",
    "* Esses dois valores são chamados de valores **booleanos** em homenagem ao matemático George Boole (https://pt.wikipedia.org/wiki/George_Boole).\n",
    "\n",
    "<img src=\"../figures/boole.jpg\" width=\"200\" height=\"200\">\n",
    "\n",
    "* As expressões relacionais são reduzidas a um valor booleano (i.e., ```True``` ou ```False```). \n",
    "* As expressões relacionais podem conter expressões aritméticas, como no seguinte exemplo:"
   ]
  },
  {
   "cell_type": "code",
   "execution_count": 6,
   "metadata": {},
   "outputs": [
    {
     "data": {
      "text/plain": [
       "True"
      ]
     },
     "execution_count": 6,
     "metadata": {},
     "output_type": "execute_result"
    }
   ],
   "source": [
    "2 + 3 == 3 + 2 * 1"
   ]
  },
  {
   "cell_type": "markdown",
   "metadata": {},
   "source": [
    "* Esse exemplo mostra que o resultado da expressão 2 + 3 == 3 + 2 * 1 é o valor booleano ```True```. \n",
    "* Isso porque a precedência dos operadores relacionais é menor que a dos operadores aritméticos, ou seja, as operações aritméticas são reduzidas primeiro, que resulta na comparação 5 == 5, e depois a expressão relacional é reduzida (no caso o operador ==), resultando em True."
   ]
  },
  {
   "cell_type": "markdown",
   "metadata": {},
   "source": [
    "### Tarefa\n",
    "\n",
    "1. <span style=\"color:blue\">**QUIZ - Operadores relacionais**</span>: respondam ao questionário sobre operadores relacionais no MS teams, por favor."
   ]
  },
  {
   "cell_type": "markdown",
   "metadata": {},
   "source": [
    "## Operadores lógicos\n",
    "\n",
    "* Expressões aritméticas, como ```2 + 3 * 4```, são formadas por valores e operadores aritméticos +, *, -, /, entre outros. De maneira semelhante, expressões lógicas ou booleanas são formadas por valores e os operadores lógicos tais como and, or e not.\n",
    "* O resultado das cexpressões lógicas é sempre um booleano.\n",
    "* A tabela a seguir mostra a precedência dos operadores lógicos usados em Python:\n",
    "\n",
    "| Operador |    Descrição   |     Exemplo    | Resultado |\n",
    "|:--------:|:--------------:|:--------------:|:---------:|\n",
    "|    not   | negação lógica |    not True    |   False   |\n",
    "|    and   |    E lógico    | True and False |   False   |\n",
    "|    or    |    OR lógico   |  True or False |    True   |\n",
    "\n",
    "* Expressões lógicas (ou booleanas) combinam valores booleanos com operadores lógicos.\n",
    "* O operador ```not``` nega o valor do operando, ou seja, troca o valor booleano de ```True``` para ```False``` ou de ```False``` para ```True```.\n",
    "* O operador ```and``` retorna ```True``` apenas quando seus dois operandos são ```True``` e retorna ```False``` caso contrário, ou seja, quando ao menos um dos operandos é ```False```.\n",
    "* Já o operador ```or``` retorna ```False``` apenas quando seus dois operandos são ```False``` e retorna ```True``` caso contrário , ou seja, quando ao menos um dos operandos é ```True```.\n",
    "* Os operadores lógicos podem ser utilizados para combinar os resultados de operadores relacionais. \n",
    "    * Por exemplo, considere ```x``` um valor real qualquer. A expressão ```x >= -1 and x <= 1``` pode ser usada para testar se ```x``` pertence ao intervalo ```[-1, 1]```. Assim, para ```x = 0``` temos que a expressão é ```True``` pois as duas expressões relacionais se tornam verdadeiras. Mas quando ```x = 2```, a comparação ```x <= 1``` se torna falsa e portanto o resultado do operador and é ```False```.\n",
    "    \n",
    "### Exemplo"
   ]
  },
  {
   "cell_type": "code",
   "execution_count": 7,
   "metadata": {},
   "outputs": [
    {
     "name": "stdout",
     "output_type": "stream",
     "text": [
      "False\n",
      "x está fora do intervalo...\n"
     ]
    }
   ],
   "source": [
    "x = 2\n",
    "\n",
    "log_comp = x >= -1 and x <= 1\n",
    "print(log_comp)\n",
    "\n",
    "# Ou usando estruturas de controle de fluxo, como veremos a seguir:\n",
    "\n",
    "if(x >= -1 and x <= 1):\n",
    "    print('X está dentro do intervalo!')\n",
    "else:\n",
    "    print('x está fora do intervalo...')"
   ]
  },
  {
   "cell_type": "markdown",
   "metadata": {},
   "source": [
    "### Tarefa\n",
    "\n",
    "1. <span style=\"color:blue\">**QUIZ - Operadores lógicos**</span>: respondam ao questionário sobre operadores lógicos no MS teams, por favor."
   ]
  },
  {
   "cell_type": "markdown",
   "metadata": {},
   "source": [
    "## Operadores de associação\n",
    "\n",
    "Operadores de associação são usados para testar se uma sequência esta presente em um objeto, como strings, listas ou tuplas, etc. Existem dois operadores de associação, conforme listado abaixo.\n",
    "\n",
    "\n",
    "| Operador |                                       Descrição                                       |       Exemplo      | Resultado |\n",
    "|:--------:|:-------------------------------------------------------------------------------------:|:------------------:|:---------:|\n",
    "|    in    |   Retorna True se uma sequência com o valor especificado estiver presente no objeto   |   1 in [1, 2, 3]   |    True   |\n",
    "|  not in  | Retorna True se uma sequência com o valor especificado não estiver presente no objeto | 1 not in [1, 2, 3] |   False   |\n",
    "\n",
    "### Exemplos"
   ]
  },
  {
   "cell_type": "code",
   "execution_count": 8,
   "metadata": {},
   "outputs": [
    {
     "name": "stdout",
     "output_type": "stream",
     "text": [
      "True\n"
     ]
    }
   ],
   "source": [
    "x = [\"apple\", \"banana\"]\n",
    "\n",
    "print(\"banana\" in x)"
   ]
  },
  {
   "cell_type": "code",
   "execution_count": 9,
   "metadata": {},
   "outputs": [
    {
     "name": "stdout",
     "output_type": "stream",
     "text": [
      "True\n"
     ]
    }
   ],
   "source": [
    "x = [\"apple\", \"banana\"]\n",
    "\n",
    "print(\"pineapple\" not in x)"
   ]
  },
  {
   "cell_type": "markdown",
   "metadata": {},
   "source": [
    "## Ordem de precedência atualizada\n",
    "\n",
    "Nós adicionamos vários operadores adicionais àqueles que aprendemos. É importante entender como esses operadores se relacionam com os outros no que diz respeito à precedência do operador. A tabela a seguir resume a precedência de operadores discutida até agora, da mais alta para a mais baixa.\n",
    "\n",
    "\n",
    "|   Nível  |   Categoria   |            Operadores            |\n",
    "|:--------:|:-------------:|:--------------------------------:|\n",
    "| 8 (alta) |   parênteses  |                ()                |\n",
    "|     7    |    expoente   |                **                |\n",
    "|     6    | multiplicação, divisão, resto |            *, /, //, %           |\n",
    "|     5    |     adição, subtração    |               +, -               |\n",
    "|     4    |   relacional  | ==, !=, <=, >=, >, <, in, not in |\n",
    "|     3    |     lógico    |                not               |\n",
    "|     2    |     lógico    |                and               |\n",
    "| 1(baixa) |     lógico    |                or                |"
   ]
  },
  {
   "cell_type": "markdown",
   "metadata": {},
   "source": [
    "### Tarefa\n",
    "\n",
    "1. <span style=\"color:blue\">**QUIZ - Ordem de precedência**</span>: respondam ao questionário sobre ordem de precedência no MS teams, por favor."
   ]
  },
  {
   "cell_type": "markdown",
   "metadata": {},
   "source": [
    "## Controle de fluxo\n",
    "\n",
    "* É muito comum que durante a escrita de um programa você precise verificar se a condição de uma expressão é verdadeira ou falsa. Isto é feito com **estruturas de controle de fluxo**.\n",
    "* Portanto, estruturas de controle de fluxo verificam a condição dos argumentos passados e, executa um bloco de código caso a condição seja verdadeira ou outro bloco de código caso seja falsa.\n",
    "* Um bom exemplo é a validação das entradas de dados de um programa (e.g., idade > 0 e < 130, cpf válido, etc.)\n",
    "* As estruturas de controle de fluxo são também conhecidas como **estruturas condicionais**.\n",
    "\n",
    "Sintaxe:\n",
    "\n",
    "    if <condição>:\n",
    "        <bloco de código>\n",
    "    elif <condição>:\n",
    "        <bloco de código>\n",
    "    elif <condição>:\n",
    "        <bloco de código>\n",
    "    else:\n",
    "        <bloco de código>\n",
    "        \n",
    "Onde:\n",
    "\n",
    "+ `<condição>`: expressão que possa ser avaliada como verdadeira ou falsa.\n",
    "+ `<bloco de código>`: sequência de linhas de comando.\n",
    "+ As clausulas `elif` e `else` são opcionais e podem existir vários `elifs` para o mesmo `if`, porém apenas um else ao final.\n",
    "+ Parênteses só são necessários para evitar ambiguidades."
   ]
  },
  {
   "cell_type": "code",
   "execution_count": 2,
   "metadata": {},
   "outputs": [
    {
     "ename": "SyntaxError",
     "evalue": "Missing parentheses in call to 'print'. Did you mean print('Congelando...')? (<ipython-input-2-0ecce6c7dabb>, line 4)",
     "output_type": "error",
     "traceback": [
      "\u001b[1;36m  File \u001b[1;32m\"<ipython-input-2-0ecce6c7dabb>\"\u001b[1;36m, line \u001b[1;32m4\u001b[0m\n\u001b[1;33m    print 'Congelando...'\u001b[0m\n\u001b[1;37m          ^\u001b[0m\n\u001b[1;31mSyntaxError\u001b[0m\u001b[1;31m:\u001b[0m Missing parentheses in call to 'print'. Did you mean print('Congelando...')?\n"
     ]
    }
   ],
   "source": [
    "temp = 23 # valor de temperatura usado para teste\n",
    "\n",
    "if temp < 0:\n",
    "    print 'Congelando...'\n",
    "elif 0 <= temp <= 20:\n",
    "    print 'Frio'\n",
    "elif 21 <= temp <= 25:\n",
    "    print 'Normal'\n",
    "elif 26 <= temp <= 35:\n",
    "    print 'Quente'\n",
    "else:\n",
    "    print 'Muito quente!'"
   ]
  },
  {
   "cell_type": "markdown",
   "metadata": {},
   "source": [
    "Imagine que no programa acima, `23` é a temperatura que foi lida de algum sensor ou entrada manualmente pelo usuário e `Normal` é a resposta do programa.\n",
    "\n",
    "Se o bloco de código for composto de apenas uma linha, ele pode ser escrito após os dois pontos:\n",
    "\n",
    "    if temp < 0: print 'Congelando...'\n",
    "\n",
    "A partir da versão 2.5, o Python suporta a expressão:\n",
    "\n",
    "    <variável> = <valor 1> if <condição> else <valor 2>\n",
    "\n",
    "Na qual `<variável>` receberá `<valor 1>` se `<condição>` for verdadeira e `<valor 2>`  caso contrário."
   ]
  },
  {
   "cell_type": "code",
   "execution_count": null,
   "metadata": {},
   "outputs": [],
   "source": []
  },
  {
   "cell_type": "code",
   "execution_count": null,
   "metadata": {},
   "outputs": [],
   "source": []
  },
  {
   "cell_type": "code",
   "execution_count": null,
   "metadata": {},
   "outputs": [],
   "source": []
  },
  {
   "cell_type": "code",
   "execution_count": null,
   "metadata": {},
   "outputs": [],
   "source": []
  },
  {
   "cell_type": "markdown",
   "metadata": {},
   "source": [
    "## Avisos\n",
    "\n",
    "* Se atentem aos prazos de entrega das tarefas na aba de **Avaliações** do MS Teams.\n",
    "* Horário de atendimento todas as Quintas-feiras as 17:30 às 19:30 via MS Teams enquanto as aulas presenciais não retornam."
   ]
  },
  {
   "cell_type": "markdown",
   "metadata": {},
   "source": [
    "<img src=\"../figures/obrigado.png\" width=\"1000\" height=\"1000\">"
   ]
  }
 ],
 "metadata": {
  "kernelspec": {
   "display_name": "Python 3",
   "language": "python",
   "name": "python3"
  },
  "language_info": {
   "codemirror_mode": {
    "name": "ipython",
    "version": 3
   },
   "file_extension": ".py",
   "mimetype": "text/x-python",
   "name": "python",
   "nbconvert_exporter": "python",
   "pygments_lexer": "ipython3",
   "version": "3.8.3"
  }
 },
 "nbformat": 4,
 "nbformat_minor": 4
}
