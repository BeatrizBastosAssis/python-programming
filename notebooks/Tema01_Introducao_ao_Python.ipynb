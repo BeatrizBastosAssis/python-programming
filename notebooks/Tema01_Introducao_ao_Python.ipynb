{
 "cells": [
  {
   "cell_type": "markdown",
   "metadata": {},
   "source": [
    "# C126 - Programação em Python\n",
    "\n",
    "\n",
    "## Objetivos\n",
    "\n",
    "Meu objetivo principal é o de criar em vocês o interesse pela linguagem Python.\n",
    "\n",
    "Ao final da disciplina, eu espero que vocês:\n",
    "* Conheçam os conceitos básicos e os principais recursos disponibilizados pela linguagem de programação Python.\n",
    "* Apliquem conceitos e desenvolvam programas usando Python.\n",
    "* Sejam capazes de solucionar problemas utilizando Python.\n",
    "* Possuam a base necessária para a aprendizagem de novos conceitos.\n",
    "\n",
    "## Critério de Avaliação\n",
    "\n",
    "* 2 Provas com conteúdo prático/teórico com peso de 85% cada.\n",
    "* Exercícios práticos/teóricos com peso de 15%.\n",
    "    * Nota composta por exercícios feitos em sala de aula e em casa.\n",
    "   \n",
    "## Uma breve história\n",
    "\n",
    "* A linguagem de programação **Python** foi lançada em 1991 por Guido van Rossum. <img src=\"../figures/guido.jpg\" width=\"200\" height=\"200\">\n",
    "* O nome **Python** é uma homenagem ao grupo de humor britânico, Monty Python.\n",
    "<img src=\"../figures/monty.jpg\" width=\"100\" height=\"200\">\n",
    "* Guido resistiu por muito tempo em associar a linguagem à cobra Python, mas isso acabou quando a editora  O’Reilly publicou o primeiro livro sobre a linguagem. <img src=\"../figures/livro.jpg\" width=\"100\" height=\"200\">\n",
    "* Hoje, a linguagem Python possui um modelo de desenvolvimento comunitário, de código aberto e gerenciado pela Python Software Foundation. <img src=\"../figures/psf-logo.png\">\n",
    "\n",
    "## O que é o Python?\n",
    "\n",
    "* É uma linguagem de programação:\n",
    "    * de **alto nível**: usam uma sintaxe que se aproxima mais da nossa linguagem e se distancia da linguagem de máquina.    \n",
    "    * **Multi-paradigma**, pois suporta diversos paradigmas de programação como: programação orientada a objetos, programação imperativa ou estruturada e programação funcional.\n",
    "    * **Interpretada**, ou seja, o código fonte é transformado em uma linguagem intermediária, que será interpretada pela máquina virtual da linguagem quando o programa for executado.\n",
    "    * de **tipagem dinâmica**, isso, significa que o interpretador do Python infere o tipo dos dados que uma variável recebe, sem a necessidade que o programador defina o tipo de uma determinada variável.\n",
    "    * **Fortemente tipada**, ou seja, ela proibe operações que não são bem definidas (por exemplo, adicionar um número a uma string) em vez de tentar silenciosamente tentar converter os valores.\n",
    "    * **Multiplataforma**: roda em plataformas Windows, Linux, UNIX e MacOS, e até em telefones celulares.\n",
    "    * **Grátis** e de **código aberto**.\n",
    "    \n",
    "## Por que Python?\n",
    "\n",
    "* É uma das linguagens mais fáceis de se aprender, com uma sintaxe clara, intuitiva e concisa, que favorece a legibilidade do código fonte, tornando a linguagem mais produtiva.\n",
    "* É uma linguagem muito popular e será mais ainda nos próximos anos. <img src=\"../figures/popularity.png\" >\n",
    "* Grandes empresas usam Python. <img src=\"../figures/empresas.png\" width=\"500\" height=\"500\">\n",
    "* Possui um rico ecossistema de bibliotecas. <img src=\"../figures/libraries.png\" width=\"500\" height=\"500\">\n",
    "* Muito utilizada no meio científico devido a uma enorme quantidade de bibliotecas específicas para engenharias, química, biologia, astrofísica, física, etc.\n",
    "* Pyhton é a linguagem mais usada para aplicações de Machine Learning. <img src=\"../figures/ml.jpg\" width=\"200\" height=\"200\">\n",
    "* Possui um vasto suporte on-line: Tutorials, Videos e StackOverflow. <img src=\"../figures/so-logo.png\" width=\"500\" height=\"500\">\n",
    "* Python é usada como linguagem educativa para ensino de computação e eletrônica (e.g., Raspberry Pi, LEGO Mindstormstem suas aplicações desenvolvidas em Python). <img src=\"../figures/raspi-lego.png\" width=\"500\" height=\"500\">\n",
    "* Python é gratuito e open-source, isso significa que você não precisa pagar nada e que pode criar e distribuir suas próprias bibliotecas, modificar/melhorar/debugar bibliotecas existentes e a própria linguagem.\n",
    "* Assim como Java, o Python utiliza gerenciamento automático de memória, significando que o ele rastreia a utilização de objetos automaticamente e os deleta quando não estão sendo mais utilizados para liberar espaço.\n",
    "\n",
    "## Importante antes de começarmos\n",
    "\n",
    "* Esqueça de declarações de tipos de variáveis\n",
    "* Esqueça de { e } \n",
    "* Esqueça de ; \n",
    "* Se você já era organizado, não sofrerá! \n",
    "* A identação é obrigatória! :)\n",
    "\n",
    "## Executando códigos Python na núvem\n",
    "\n",
    "Para evitarmos a instalação de softwares localmente, nós utilizaremos ambientes computacionais interativos baseados em aplicações web para criação de documentos virtuais, chamados de notebooks, que permitem a execução de códigos de uma linguagem de programação juntamente com ferramentas para edição de textos, ou seja, além das rotinas usuais de programação, o usuário pode documentar todo o processo de escrita do código. Dessa forma, um notebook permite uma maneira interativa de programar.\n",
    "\n",
    "Hoje em dias, existem vários ambientes computacionais interativos gratuitos disponíveis, mas durante nosso curso, usaremos o Jupyter ou o Google Colab.\n",
    "\n",
    "### Jupyter e Google Colab <img src=\"../figures/jupyter_colab.png\" width=\"300\" height=\"300\">\n",
    "\n",
    "* Usaremos Jupyter ou o Google Colab para execução e documentação de exemplos e exercícios.\n",
    "* O Jupyter Notebook é uma aplicação web gratuita que permite a edição de notebooks em um navegador web, tais como Google Chrome, Firefox, Microsoft Edge, etc.\n",
    "* Notebooks Jupyter permitem a criação e compartilhamento de documentos contendo código, equações, visualizações e texto explicativo.\n",
    "* O nome Jupyter é um acrônimo criado a partir das linguagens de programação que inicialmente eram suportadas pelo Projeto Jupyter: Julia, Python e R. \n",
    "* Além dessas, hoje, o Projeto Jupyter suporta também C++, C#, PHP, Ruby, Fortran e outras.\n",
    "* Site do Projeto Jupyter: https://jupyter.org/\n",
    "* O Colaboratory (também conhecido como Colab, ou Google Colab) é aplicação web gratuita que suporta a execução de notebooks Jupyter que roda na nuvem e armazena seus notebooks no Google Drive.\n",
    "* Site do Colab: https://colab.research.google.com/\n",
    "\n",
    "## Versão de Python que utilizaremos\n",
    "\n",
    "* **Neste curso nós utilizaremos a versão 3.x do Python pois a versão 2.x foi descontinuada este ano.**\n",
    "\n",
    "*DEPRECATION: Python 2.7 reached the end of its life on January 1st, 2020.*\n",
    "\n",
    "## Instalando o Python, Jupyter e outras ferramentas\n",
    "\n",
    "Caso você deseje executar os notebooks localmente, ou seja, sem uma conexão com a internet, você pode instalar o Python e Jupyter seguindo o tutorial a seguir.\n",
    "\n",
    "* O documento no link a seguir contém um tutorial de como instalar o Python, Jupyter e outras ferramentas através da distribuição [Anaconda](../docs/Tutorial-de-Instalação-Ambiente-Python-Jupyter.pdf)\n",
    "\n",
    "## Exemplos\n",
    "\n",
    "A seguir, eu apresento alguns exemplos de programas escritos em Python. Alguns deles utilizam algumas das bilbiotecas disponibilizados pelo ecosistema do Python."
   ]
  },
  {
   "cell_type": "markdown",
   "metadata": {},
   "source": [
    "### Exemplo 1 - O famoso \"Hello, World!\""
   ]
  },
  {
   "cell_type": "code",
   "execution_count": 5,
   "metadata": {},
   "outputs": [
    {
     "name": "stdout",
     "output_type": "stream",
     "text": [
      "Hello, World!\n"
     ]
    }
   ],
   "source": [
    "print(\"Hello, World!\")"
   ]
  },
  {
   "cell_type": "markdown",
   "metadata": {},
   "source": [
    "### Exemplo 2 - Um comentário de uma linha\n",
    "\n",
    "Utilizamos o caractere cerquilha (#), em Inglês, hash, para demarcarmos que tudo que estiver a frente desse caractere, deve ser ignorado pelo interpretador do Python, por exemplo:"
   ]
  },
  {
   "cell_type": "code",
   "execution_count": 6,
   "metadata": {},
   "outputs": [],
   "source": [
    "# Esta é uma linha de comentário. Comentários são precedidos pela cerquilha (#), em Inglês, hash."
   ]
  },
  {
   "cell_type": "markdown",
   "metadata": {},
   "source": [
    "### Exemplo 2 - Comentário com várias linhas\n",
    "\n",
    "A linguagem Python também disponibiliza uma notação para demarcarmos que um conjunto de linhas deve ser ignorado pelo interpretador. Essa notação se dá pelo uso de 3 aspas simples, ou entao, 3 aspas duplas. Nestes casos, tudo que estiver delimitado pelas aspas não será interpretado, por exemplo:"
   ]
  },
  {
   "cell_type": "code",
   "execution_count": 9,
   "metadata": {},
   "outputs": [
    {
     "data": {
      "text/plain": [
       "'\\ntoda informações contida entre 3 aspas SIMPLES\\né considerada como caracteres que devem ser ignorados.\\n'"
      ]
     },
     "execution_count": 9,
     "metadata": {},
     "output_type": "execute_result"
    }
   ],
   "source": [
    "'''\n",
    "toda informações contida entre 3 aspas SIMPLES\n",
    "é considerada como caracteres que devem ser ignorados.\n",
    "'''"
   ]
  },
  {
   "cell_type": "markdown",
   "metadata": {},
   "source": [
    "### Exemplo 2 - Operadores\n",
    "\n",
    "#### Regras de precedência\n",
    "1. Expressões entre parênteses\n",
    "2. Exponenciação\n",
    "3. Multiplicação, Divisão e Módulo (da esquerda para direita)\n",
    "4. Adição e Subtração (da esquerda para direita)"
   ]
  },
  {
   "cell_type": "code",
   "execution_count": 29,
   "metadata": {},
   "outputs": [
    {
     "data": {
      "text/plain": [
       "3"
      ]
     },
     "execution_count": 29,
     "metadata": {},
     "output_type": "execute_result"
    }
   ],
   "source": [
    "# Importamos as bilbiotecas que iremos precisar.\n",
    "import math as m\n",
    "\n",
    "# Operações com números inteiros.\n",
    "a = 2 # 2.0 para operações em ponto flutuante.\n",
    "b = 3 # 3.0\n",
    "\n",
    "# Adição.\n",
    "add = a + b\n",
    "# Subtração.\n",
    "sub = a - b\n",
    "# Multiplicação.\n",
    "mul = a * b\n",
    "# Divisão.\n",
    "div = a / b\n",
    "# Módulo.\n",
    "mod = a % b\n",
    "\n",
    "# Exponenciação.\n",
    "a_ao_quadrado = a ** 2\n",
    "a_ao_quadrado = m.pow(a, 2)\n",
    "\n",
    "# Radiciação.\n",
    "raiz_quadrada_de_a = a ** (1 / 2)\n",
    "raiz_quadrada_de_a = m.sqrt(a)\n",
    "raiz_cubica_de_a = a ** (1 / 3)\n",
    "\n",
    "# Operações de arredondamento.\n",
    "c = 3.456\n",
    "\n",
    "# floor() retorna o maior valor inteiro menor do que c\n",
    "m.floor(c)\n",
    "# ceil() retorna o menor valor inteiro maior do que c\n",
    "m.ceil(c)\n",
    "\n",
    "# round() é uma das várias funções e tipos \"embutidos\" no interpetador do Python, e portanto, não fazem parte de nenhum lib.\n",
    "# round() retorna o valor inteiro mais proximo de c.\n",
    "round(c)"
   ]
  },
  {
   "cell_type": "markdown",
   "metadata": {},
   "source": [
    "# <span style=\"color:red\">  QUIZ - Sequência de operações\n",
    "    \n",
    "Agora responda ao quiz sobre sequência correta de operações no MS teams."
   ]
  },
  {
   "cell_type": "markdown",
   "metadata": {},
   "source": [
    "\n",
    "\n",
    "\n",
    "\n",
    "Executando programas\n",
    "--------------------\n",
    "\n",
    "Exemplo de programa em Python:"
   ]
  },
  {
   "cell_type": "code",
   "execution_count": null,
   "metadata": {},
   "outputs": [],
   "source": [
    "# Instala alguns pacotes necessários no kernel Jupyter corrente.\n",
    "import sys\n",
    "!{sys.executable} -m pip install numpy\n",
    "!{sys.executable} -m pip install matplotlib\n",
    "!{sys.executable} -m pip install sklearn\n",
    "\n",
    "# Importa todas as bibliotecas necessárias.\n",
    "import numpy as np\n",
    "import matplotlib.pyplot as plt\n",
    "# Importa a classe MLPRegressor da biblioteca do módulo de redes neurais da Sci-Kit.\n",
    "from sklearn.neural_network import MLPRegressor\n",
    "\n",
    "%matplotlib inline\n",
    "\n",
    "x = np.arange(-10, 10, 0.1)\n",
    "\n",
    "# Dados originais.\n",
    "y = 3 * np.exp(-0.05*x) + 12 + 1.4 * np.sin(1.2*x) + 2.1 * np.sin(-2.2*x + 3)\n",
    "\n",
    "# faz com que o gerador de numeros aleatorios sempre forneca os mesmos valores\n",
    "np.random.seed(42) \n",
    "\n",
    "# adicionando ruido aos dados originais\n",
    "y_noise = y + np.random.normal(0, 0.5, size = len(y))\n",
    "\n",
    "# trata o ajuste de curva como um problema de regressao e treina um modelo para que se ajuste aos dados.\n",
    "mlp = MLPRegressor(hidden_layer_sizes=(30,20,10), max_iter=5000, solver='lbfgs', alpha=0.9, activation='tanh', random_state=8)\n",
    "yfit = mlp.fit(x[:, None], y_noise).predict(x[:, None])\n",
    "\n",
    "plt.figure(figsize = (10,8))\n",
    "plt.plot(x, y_noise, 'o', label = 'dado original + ruido')\n",
    "plt.plot(x, y, 'k', label = 'dado original')\n",
    "plt.plot(x, yfit, '-r', label = 'curva ajustada com MLP', zorder = 10)\n",
    "plt.legend()\n",
    "plt.xlabel('X')\n",
    "plt.ylabel('y')"
   ]
  },
  {
   "cell_type": "markdown",
   "metadata": {},
   "source": [
    "### Arrays e Matrizes"
   ]
  },
  {
   "cell_type": "code",
   "execution_count": 28,
   "metadata": {},
   "outputs": [
    {
     "data": {
      "text/plain": [
       "array([[[-2.70749170e-01,  8.09299633e-01,  1.12592794e+00,\n",
       "          2.31155919e+00, -1.10886159e+00],\n",
       "        [-1.69746439e+00,  9.35011043e-01,  1.17146198e+00,\n",
       "         -9.72549886e-01, -1.02139436e+00],\n",
       "        [ 1.63770524e-01, -2.17908738e-01, -8.59002402e-01,\n",
       "         -6.17762453e-02,  2.30325075e-01],\n",
       "        [ 1.09700899e+00, -1.62754266e+00,  1.98977819e+00,\n",
       "          1.63474177e+00,  4.14911566e-01]],\n",
       "\n",
       "       [[ 3.99094477e-01,  4.60734684e-01, -8.32077232e-01,\n",
       "         -4.36728995e-01, -1.20260609e+00],\n",
       "        [-4.30994567e-01, -1.10233562e-01,  9.65819612e-01,\n",
       "          1.89001333e-01,  2.76482592e-02],\n",
       "        [ 3.73796005e-01, -9.12688820e-01, -1.94180368e-02,\n",
       "         -7.45149059e-01, -1.95649178e+00],\n",
       "        [-1.81669934e+00, -2.82238679e-03,  9.99502834e-01,\n",
       "          3.61959680e-01,  5.59228925e-03]],\n",
       "\n",
       "       [[-4.22390777e-01,  4.37780986e-01,  2.40708700e-01,\n",
       "         -1.07054676e-01,  8.41402512e-01],\n",
       "        [ 1.32302278e-03, -7.33242507e-01, -3.77449532e-01,\n",
       "         -1.16562259e+00,  2.73687731e-01],\n",
       "        [-2.43103530e-01,  7.39863531e-01,  3.86082781e-01,\n",
       "          1.19496054e+00, -4.52520433e-01],\n",
       "        [-4.51555833e-01,  3.34278365e-01,  2.21817392e-01,\n",
       "         -1.47231613e+00,  6.45039047e-01]]])"
      ]
     },
     "execution_count": 28,
     "metadata": {},
     "output_type": "execute_result"
    }
   ],
   "source": [
    "import numpy as np\n",
    "\n",
    "# Criação de matriz 2x3.\n",
    "matriz = np.array([[1, 2, 3], [4, 5, 6]])\n",
    "\n",
    "# Multiplicacao de matrizes.\n",
    "matriz = matriz.dot(matriz.transpose())\n",
    "\n",
    "# Determinante de uma matriz.\n",
    "np.linalg.det(matriz) # necessita do módulo de algebra linear, linalg.\n",
    "\n",
    "# Sequências.\n",
    "np.arange(0, 10, 0.1) \n",
    "np.linspace(0, 2 * np.pi, 100)\n",
    "\n",
    "# Matrizes diagonal, de zeros e uns.\n",
    "np.eye(10)\n",
    "np.zeros((5, 5)) \n",
    "np.ones((5, 5))\n",
    "\n",
    "# Números aleatórios. \n",
    "np.random.random(size=(3, 4)) # Cria matriz 3x4 com números aleatórios dentro do intervalo de 0.0 a 1.0\n",
    "np.random.normal(size=(3, 4, 5))  # Cria matriz 3x4x5 com números aleatórios seguindo a distribuição Gaussiana normal."
   ]
  },
  {
   "cell_type": "markdown",
   "metadata": {},
   "source": [
    "## Folha de Dicas (Cheat Sheet)\n",
    "\n",
    "* O documento no link seguinte contêm várias dicas para que você não precise decorar nenhum comando: [cheat sheet](../docs/folha-de-dicas-cheat-sheet-python3.pdf)\n",
    "\n",
    "## Referências: apostilas e tutoriais disponíveis gratuitamente na web\n",
    "\n",
    "1. LABAKI, Josué, Introdução a Python - Módulo A, http://www.dcc.ufrj.br/~fabiom/python/pythonbasico.pdf\n",
    "\n",
    "2. BORGES, Luís Eduardo, Python para Desenvolvedores, https://ark4n.files.wordpress.com/2010/01/python_para_desenvolvedores_2ed.pdf\n",
    "\n",
    "3. VAN ROSSUM, Guido, O Tutorial Python, https://docs.python.org/pt-br/3/tutorial/index.html\n",
    "\n",
    "4. DOWNEY, Allen Downey; ELKNER, Jeff, e MEYERS, Chris, Aprenda Computação com Python 3.0, https://mange.ifrn.edu.br/python/aprenda-com-py3/index.html\n",
    "\n",
    "5. MILLER, Brad Miller e RANUM, David, How to Think Like a Computer Scientist: Interactive Edition, https://runestone.academy/runestone/books/published/thinkcspy/index.html\n",
    "\n",
    "\n",
    "<img src=\"../figures/obrigado.png\" width=\"1000\" height=\"1000\">\n",
    "\n",
    "\n"
   ]
  },
  {
   "cell_type": "code",
   "execution_count": null,
   "metadata": {},
   "outputs": [],
   "source": []
  }
 ],
 "metadata": {
  "kernelspec": {
   "display_name": "Python 3",
   "language": "python",
   "name": "python3"
  },
  "language_info": {
   "codemirror_mode": {
    "name": "ipython",
    "version": 3
   },
   "file_extension": ".py",
   "mimetype": "text/x-python",
   "name": "python",
   "nbconvert_exporter": "python",
   "pygments_lexer": "ipython3",
   "version": "3.8.3"
  }
 },
 "nbformat": 4,
 "nbformat_minor": 4
}
