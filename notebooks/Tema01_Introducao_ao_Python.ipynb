{
 "cells": [
  {
   "cell_type": "markdown",
   "metadata": {},
   "source": [
    "# C126 - Programação em Python\n",
    "\n",
    "\n",
    "## Objetivos\n",
    "\n",
    "Meu objetivo principal é o de criar em vocês o interesse pela linguagem Python.\n",
    "\n",
    "Ao final da disciplina, eu espero que vocês:\n",
    "* Conheçam os conceitos básicos e os principais recursos disponibilizados pela linguagem de programação Python.\n",
    "* Apliquem conceitos e desenvolvam programas usando Python.\n",
    "* Sejam capazes de solucionar problemas utilizando Python.\n",
    "* Possuam a base necessária para a aprendizagem de novos conceitos.\n",
    "\n",
    "## Critério de Avaliação\n",
    "\n",
    "* 2 Provas com conteúdo prático/teórico com peso de 85% cada.\n",
    "* Exercícios práticos/teóricos com peso de 15%.\n",
    "    * Nota composta por exercícios feitos em sala de aula e em casa.\n",
    "   \n",
    "## Uma breve história\n",
    "\n",
    "* A linguagem de programação **Python** foi lançada em 1991 por Guido van Rossum. \n",
    "\n",
    "<img src=\"../figures/guido.jpg\" width=\"30%\" height=\"30%\">\n",
    "\n",
    "* O nome **Python** é uma homenagem ao grupo de humor britânico, Monty Python.\n",
    "\n",
    "<img src=\"../figures/monty.jpg\" width=\"20%\" height=\"20%\">\n",
    "\n",
    "* Guido resistiu por muito tempo em associar a linguagem à cobra Python, mas isso acabou quando a editora  O’Reilly publicou o primeiro livro sobre a linguagem. \n",
    "\n",
    "<img src=\"../figures/livro.jpg\" width=\"20%\" height=\"20%\">\n",
    "\n",
    "* Hoje, a linguagem Python possui um modelo de desenvolvimento comunitário, de código aberto e gerenciado pela Python Software Foundation. \n",
    "\n",
    "<img src=\"../figures/psf-logo.png\">\n",
    "\n",
    "## O que é o Python?\n",
    "\n",
    "* É uma linguagem de programação:\n",
    "    * de **alto nível**: usam uma sintaxe que se aproxima mais da nossa linguagem e se distancia da linguagem de máquina.    \n",
    "    * **Multi-paradigma**, pois suporta diversos paradigmas de programação como: programação orientada a objetos, programação imperativa ou estruturada e programação funcional.\n",
    "    * **Interpretada**, ou seja, o código fonte é transformado em uma linguagem intermediária, que será interpretada pela máquina virtual da linguagem quando o programa for executado.\n",
    "    * de **tipagem dinâmica**, isso, significa que o interpretador do Python infere o tipo dos dados que uma variável recebe em tempo de execução, sem a necessidade que o programador defina o tipo de uma determinada variável.\n",
    "    * **Fortemente tipada**, ou seja, ela proibe operações que não são bem definidas (por exemplo, adicionar um número a uma string) em vez de tentar silenciosamente tentar converter os valores. Para realizar a operação entre tipos não compatíveis, é necessário converter explicitamente o tipo da variável ou variáveis antes da operação.\n",
    "    * **Multiplataforma**: roda em plataformas Windows, Linux, UNIX e MacOS, e até em telefones celulares.\n",
    "    * **Grátis** e de **código aberto**.\n",
    "    \n",
    "## Compilação e interpretação\n",
    "\n",
    "* O código fonte, ou seja, um programa, é traduzido pelo Python para **bytecode**, que é um formato binário com instruções para o interpretador. \n",
    "* O bytecode é multiplataforma (tipos diferentes de computadores e sistemas operacionais) e pode ser distribuído e executado sem o código fonte original.\n",
    "* Quando um programa é chamado, o interpretador realiza a análise do código fonte, o converte para símbolos, compila (gera o **bytecode**) e executa na máquina virtual Python.\n",
    "    \n",
    "## Por que Python?\n",
    "\n",
    "* É uma das linguagens mais fáceis de se aprender, com uma sintaxe clara, intuitiva e concisa, que favorece a legibilidade do código fonte, tornando a linguagem mais produtiva.\n",
    "* É uma linguagem muito popular e será mais ainda nos próximos anos. \n",
    "\n",
    "<img src=\"../figures/popularity.png\" width=\"50%\" height=\"50%\">\n",
    "\n",
    "* Grandes empresas usam Python. \n",
    "\n",
    "<img src=\"../figures/empresas.png\" width=\"50%\" height=\"50%\">\n",
    "\n",
    "* Possui um rico ecossistema de bibliotecas. \n",
    "\n",
    "<img src=\"../figures/libraries.png\" width=\"50%\" height=\"50%\">\n",
    "\n",
    "* Muito utilizada no meio científico devido a uma enorme quantidade de bibliotecas específicas para engenharias, química, biologia, astrofísica, física, etc.\n",
    "* Pyhton é a linguagem mais usada para aplicações de Machine Learning. \n",
    "\n",
    "<img src=\"../figures/ml.jpg\" width=\"20%\" height=\"20%\">\n",
    "\n",
    "* Possui um vasto suporte on-line: Tutorials, Videos e StackOverflow. \n",
    "\n",
    "<img src=\"../figures/so-logo.png\" width=\"40%\" height=\"40%\">\n",
    "\n",
    "* Python é usada como linguagem educativa para ensino de computação e eletrônica (e.g., Raspberry Pi, LEGO Mindstormstem suas aplicações desenvolvidas em Python). \n",
    "\n",
    "<img src=\"../figures/raspi-lego.png\" width=\"40%\" height=\"40%\">\n",
    "\n",
    "* Python é gratuito e open-source, isso significa que você não precisa pagar nada e que pode criar e distribuir suas próprias bibliotecas, modificar/melhorar/debugar bibliotecas existentes e a própria linguagem.\n",
    "* Assim como Java, o Python utiliza gerenciamento automático de memória, significando que o ele rastreia a utilização de objetos automaticamente e os deleta quando não estão sendo mais utilizados para liberar espaço.\n",
    "\n",
    "## Importante antes de começarmos\n",
    "\n",
    "* Esqueça de declarações de tipos de variáveis\n",
    "* Esqueça de { e } \n",
    "* Esqueça de ; \n",
    "* Se você já era organizado, não sofrerá! \n",
    "* A indentação é obrigatória! :)\n",
    "\n",
    "## Executando códigos Python na núvem\n",
    "\n",
    "Para evitarmos a instalação de softwares localmente, nós utilizaremos ambientes computacionais interativos baseados em aplicações web para criação de documentos virtuais, chamados de notebooks, que permitem a execução de códigos de uma linguagem de programação juntamente com ferramentas para edição de textos, ou seja, além das rotinas usuais de programação, o usuário pode documentar todo o processo de escrita do código. Dessa forma, um notebook permite uma maneira interativa de programar.\n",
    "\n",
    "Hoje em dias, existem vários ambientes computacionais interativos gratuitos disponíveis, mas durante nosso curso, usaremos o Jupyter ou o Google Colab.\n",
    "\n",
    "### Jupyter e Google Colab \n",
    "\n",
    "<img src=\"../figures/jupyter_colab.png\" width=\"30%\" height=\"30%\">\n",
    "\n",
    "* Usaremos Jupyter ou o Google Colab para execução e documentação de exemplos e exercícios.\n",
    "* O Jupyter Notebook é uma aplicação web gratuita que permite a edição de notebooks em um navegador web, tais como Google Chrome, Firefox, Microsoft Edge, etc.\n",
    "* Notebooks Jupyter permitem a criação e compartilhamento de documentos contendo código, equações, visualizações e texto explicativo.\n",
    "* O nome Jupyter é um acrônimo criado a partir das linguagens de programação que inicialmente eram suportadas pelo Projeto Jupyter: Julia, Python e R. \n",
    "* Além dessas, hoje, o Projeto Jupyter suporta também C++, C#, PHP, Ruby, Fortran e outras.\n",
    "* Site do Projeto Jupyter: https://jupyter.org/\n",
    "* O Colaboratory (também conhecido como Colab, ou Google Colab) é aplicação web gratuita que suporta a execução de notebooks Jupyter que roda na nuvem e armazena seus notebooks no Google Drive.\n",
    "* Site do Colab: https://colab.research.google.com/\n",
    "\n",
    "## Versão de Python que utilizaremos\n",
    "\n",
    "* **Neste curso nós utilizaremos a versão 3.x do Python pois a versão 2.x foi descontinuada este ano.**\n",
    "\n",
    "*DEPRECATION: Python 2.7 reached the end of its life on January 1st, 2020.*\n",
    "\n",
    "## Instalando o Python, Jupyter e outras ferramentas\n",
    "\n",
    "Para resolver os exercícios é recomendado que você instale o Jupyter localmente, ou seja, que você o possa executar sem uma conexão com a internet. Isot vai evitar que vocês percam os notebooks devido a desconexões. O Python e o Jupyter podem ser instalados seguindo-se o tutorial a seguir.\n",
    "\n",
    "* O documento no link a seguir contém um tutorial de como instalar o Python, Jupyter e outras ferramentas através da distribuição [Anaconda](../docs/Tutorial-de-Instalação-Ambiente-Python-Jupyter.pdf)\n",
    "\n",
    "## Exemplos\n",
    "\n",
    "A seguir, eu apresento alguns exemplos para ensinar alguns conceitos básicos de Python."
   ]
  },
  {
   "cell_type": "markdown",
   "metadata": {},
   "source": [
    "### Exemplo 1 - Saídas\n",
    "\n",
    "#### O famoso \"Hello, World!\""
   ]
  },
  {
   "cell_type": "code",
   "execution_count": 20,
   "metadata": {},
   "outputs": [
    {
     "name": "stdout",
     "output_type": "stream",
     "text": [
      "Hello, World!\n"
     ]
    }
   ],
   "source": [
    "print(\"Hello, World!\")"
   ]
  },
  {
   "cell_type": "markdown",
   "metadata": {},
   "source": [
    "#### Um exemplo mais elaborado."
   ]
  },
  {
   "cell_type": "code",
   "execution_count": 21,
   "metadata": {},
   "outputs": [
    {
     "name": "stdout",
     "output_type": "stream",
     "text": [
      "O Resultado do teste é igual a 2, 3.1400, True.\n"
     ]
    }
   ],
   "source": [
    "string_1 = \"do teste é igual a\"\n",
    "valor1 = 2\n",
    "valor2 = 3.14\n",
    "valor3 = True\n",
    "print(\"O Resultado %s %d, %1.4f, %s.\" % (string_1, valor1, valor2, valor3))"
   ]
  },
  {
   "cell_type": "markdown",
   "metadata": {},
   "source": [
    "### Exemplo 2 - Um comentário de uma linha\n",
    "\n",
    "Utilizamos o caractere cerquilha (#), em Inglês, hash, para demarcarmos que tudo que estiver a frente desse caractere, deve ser ignorado pelo interpretador do Python, por exemplo:"
   ]
  },
  {
   "cell_type": "code",
   "execution_count": 22,
   "metadata": {},
   "outputs": [],
   "source": [
    "# Esta é uma linha de comentário. Comentários são precedidos pela cerquilha (#), em Inglês, hash."
   ]
  },
  {
   "cell_type": "markdown",
   "metadata": {},
   "source": [
    "### Exemplo 3 - Comentários em bloco\n",
    "\n",
    "A linguagem Python também disponibiliza uma notação para demarcarmos que um conjunto de linhas deve ser ignorado pelo interpretador. Essa notação se dá pelo uso de 3 aspas simples, ou entao, 3 aspas duplas. Nestes casos, tudo que estiver delimitado pelas aspas não será interpretado, por exemplo:"
   ]
  },
  {
   "cell_type": "code",
   "execution_count": 23,
   "metadata": {},
   "outputs": [
    {
     "data": {
      "text/plain": [
       "'\\ntoda informações contida entre 3 aspas SIMPLES\\né considerada como caracteres que devem ser ignorados.\\n'"
      ]
     },
     "execution_count": 23,
     "metadata": {},
     "output_type": "execute_result"
    }
   ],
   "source": [
    "'''\n",
    "toda informações contida entre 3 aspas SIMPLES\n",
    "é considerada como caracteres que devem ser ignorados.\n",
    "'''"
   ]
  },
  {
   "cell_type": "markdown",
   "metadata": {},
   "source": [
    "**OBS.: Aspas duplas também funciona.**"
   ]
  },
  {
   "cell_type": "code",
   "execution_count": 24,
   "metadata": {},
   "outputs": [
    {
     "data": {
      "text/plain": [
       "'\\ntoda informações contida entre 3 aspas SIMPLES\\né considerada como caracteres que devem ser ignorados.\\n'"
      ]
     },
     "execution_count": 24,
     "metadata": {},
     "output_type": "execute_result"
    }
   ],
   "source": [
    "\"\"\"\n",
    "toda informações contida entre 3 aspas SIMPLES\n",
    "é considerada como caracteres que devem ser ignorados.\n",
    "\"\"\""
   ]
  },
  {
   "cell_type": "markdown",
   "metadata": {},
   "source": [
    "### Exemplo 4 - Variáveis\n",
    "\n",
    "Em Python, as variáveis não:\n",
    "\n",
    "* precisam ser declaradas ou definidas com antecedência. Para criar uma variável, basta atribuir um valor a ela.\n",
    "* pode ser utilizada em uma expressão sem ter sido inicializada.\n",
    "* são estáticas, como em outras linguagens de programação, ou seja, o tipo da variável pode mudar."
   ]
  },
  {
   "cell_type": "code",
   "execution_count": 25,
   "metadata": {},
   "outputs": [
    {
     "name": "stdout",
     "output_type": "stream",
     "text": [
      "type(a): <class 'int'>\n",
      "type(b): <class 'int'>\n",
      "type(c): <class 'float'>\n",
      "type(a): <class 'float'>\n",
      "type(a): <class 'str'>\n"
     ]
    }
   ],
   "source": [
    "a = 1\n",
    "# OBS.: type() é uma função embutida do Python que retorna o tipo de um objeto ou variável.\n",
    "print('type(a):',type(a))\n",
    "\n",
    "b = 2\n",
    "print('type(b):',type(b))\n",
    "\n",
    "c = 3.1\n",
    "print('type(c):',type(c))\n",
    "\n",
    "# A variável 'a', agora será do tipo float.\n",
    "a = 4.2\n",
    "print('type(a):',type(a))\n",
    "\n",
    "# A variável 'a', agora será do tipo string.\n",
    "a = \"teste\"\n",
    "print('type(a):',type(a))"
   ]
  },
  {
   "cell_type": "markdown",
   "metadata": {},
   "source": [
    "### Exemplo 5 - Nomes de variáveis\n",
    "\n",
    "Uma variável pode ter um nome curto (como x e y) ou um nome mais descritivo (idade, modelo_carro, volume_total). Regras para variáveis em Python são:\n",
    "\n",
    "* Um nome de variável deve começar com uma letra ou o com caractere sublinhado (_)\n",
    "* Um nome de variável não pode começar com um número\n",
    "* Um nome de variável pode conter apenas caracteres alfanuméricos e sublinhados (A-z, 0-9 e _)\n",
    "* Os nomes das variáveis diferenciam maiúsculas de minúsculas (idade, Idade e IDADE são três variáveis diferentes)"
   ]
  },
  {
   "cell_type": "code",
   "execution_count": 26,
   "metadata": {},
   "outputs": [
    {
     "ename": "SyntaxError",
     "evalue": "invalid syntax (<ipython-input-26-5e083aadc37c>, line 10)",
     "output_type": "error",
     "traceback": [
      "\u001b[1;36m  File \u001b[1;32m\"<ipython-input-26-5e083aadc37c>\"\u001b[1;36m, line \u001b[1;32m10\u001b[0m\n\u001b[1;33m    2myvar = \"John\"\u001b[0m\n\u001b[1;37m     ^\u001b[0m\n\u001b[1;31mSyntaxError\u001b[0m\u001b[1;31m:\u001b[0m invalid syntax\n"
     ]
    }
   ],
   "source": [
    "# Nomes válidos para variáveis.\n",
    "myvar = \"John\"\n",
    "my_var = \"John\"\n",
    "_my_var = \"John\"\n",
    "myVar = \"John\"\n",
    "MYVAR = \"John\"\n",
    "myvar2 = \"John\"\n",
    "\n",
    "# Nomes inválidos para variáveis.\n",
    "2myvar = \"John\"\n",
    "my-var = \"John\"\n",
    "my var = \"John\""
   ]
  },
  {
   "cell_type": "markdown",
   "metadata": {},
   "source": [
    "### Exemplo 6 - Valor nulo (null)\n",
    "\n",
    "* Em Python, **None** equivale ao valor nulo (null).\n",
    "* Podemos iniciar variáveis com o valor **None**."
   ]
  },
  {
   "cell_type": "code",
   "execution_count": 27,
   "metadata": {},
   "outputs": [
    {
     "name": "stdout",
     "output_type": "stream",
     "text": [
      "varNula:  None\n"
     ]
    }
   ],
   "source": [
    "varNula = None\n",
    "print('varNula: ',varNula)"
   ]
  },
  {
   "cell_type": "markdown",
   "metadata": {},
   "source": [
    "### Exemplo 7 - Strings\n",
    "\n",
    "* Em Python, strings são cercados por aspas simples ou aspas duplas.\n",
    "* Como muitas outras linguagens de programação populares, as strings em Python são vetores de bytes que representam caracteres.\n",
    "* Entretanto, o Python não possui um tipo de dados de caractere; um único caractere é simplesmente uma string com o comprimento 1."
   ]
  },
  {
   "cell_type": "markdown",
   "metadata": {},
   "source": [
    "#### Strings podem ser concatenadas com o sinal +."
   ]
  },
  {
   "cell_type": "code",
   "execution_count": 28,
   "metadata": {},
   "outputs": [
    {
     "name": "stdout",
     "output_type": "stream",
     "text": [
      "Programação em Python\n"
     ]
    }
   ],
   "source": [
    "str1 = \"C126\"\n",
    "str2 = \" - \"\n",
    "str3 = \"Programação em Python\"\n",
    "\n",
    "str4 = str1 + str2 + str3\n",
    "print(str3)"
   ]
  },
  {
   "cell_type": "markdown",
   "metadata": {},
   "source": [
    "#### Quando concatenamos com um número, precisamos fazer a conversão."
   ]
  },
  {
   "cell_type": "code",
   "execution_count": 29,
   "metadata": {},
   "outputs": [
    {
     "name": "stdout",
     "output_type": "stream",
     "text": [
      "O valor de pi é aproximadamente 3.14\n"
     ]
    }
   ],
   "source": [
    "str1 = \"O valor de pi é aproximadamente \" + str(3.14)\n",
    "print(str1)"
   ]
  },
  {
   "cell_type": "markdown",
   "metadata": {},
   "source": [
    "#### Métodos básicos de string\n",
    "\n",
    "* len():     mostra o tamanho da string\n",
    "* lower():   caixa baixa\n",
    "* upper():   caixa alta\n",
    "* str():     converte em string\n",
    "* isalpha(): retorna False se a string contiver algum caracter que não seja letras\n"
   ]
  },
  {
   "cell_type": "code",
   "execution_count": 30,
   "metadata": {},
   "outputs": [
    {
     "name": "stdout",
     "output_type": "stream",
     "text": [
      "Caixa alta:  FELIPE\n",
      "Caixa baixa:  felipe\n",
      "Tamanho:  6\n",
      "Pi:  3.1415\n",
      "Contém apenas letras? False\n"
     ]
    }
   ],
   "source": [
    "print(\"Caixa alta: \", \"felipe\".upper())\n",
    "\n",
    "print(\"Caixa baixa: \",\"FELIPE\".lower())\n",
    "\n",
    "print('Tamanho: ', len(\"felipe\"))\n",
    "\n",
    "print(\"Pi: \", str(3.1415))\n",
    "\n",
    "print(\"Contém apenas letras?\", \"ws34rt\".isalpha())"
   ]
  },
  {
   "cell_type": "markdown",
   "metadata": {},
   "source": [
    "#### Acessando strings pelo índice"
   ]
  },
  {
   "cell_type": "code",
   "execution_count": 31,
   "metadata": {},
   "outputs": [
    {
     "name": "stdout",
     "output_type": "stream",
     "text": [
      "p\n",
      "y\n",
      "t\n",
      "h\n",
      "o\n",
      "n\n"
     ]
    }
   ],
   "source": [
    "'''\n",
    "+---+---+---+---+---+---+\n",
    "| p | y | t | h | o | n |\n",
    "+---+---+---+---+---+---+\n",
    "  0   1   2   3   4   5\n",
    "'''\n",
    "\n",
    "str1 = 'python'\n",
    "\n",
    "print(str1[0])\n",
    "print(str1[1])\n",
    "print(str1[2])\n",
    "print(str1[3])\n",
    "print(str1[4])\n",
    "print(str1[5])"
   ]
  },
  {
   "cell_type": "markdown",
   "metadata": {},
   "source": [
    "### Exemplo 8 - Operadores artiméticos\n",
    "\n",
    "#### Regras de precedência\n",
    "1. Expressões entre parênteses\n",
    "2. Exponenciação\n",
    "3. Multiplicação, Divisão e Módulo (da esquerda para direita)\n",
    "4. Adição e Subtração (da esquerda para direita)"
   ]
  },
  {
   "cell_type": "code",
   "execution_count": 32,
   "metadata": {},
   "outputs": [
    {
     "name": "stdout",
     "output_type": "stream",
     "text": [
      "a + b: 5\n",
      "a - b: -1\n",
      "a * b: 6\n",
      "a / b: 0.6666666666666666\n",
      "a // b: 0\n",
      "a % b: 2\n",
      "a ** 2: 4\n",
      "a ** (1/2):  1.4142135623730951\n",
      "a ** (1/3):  1.2599210498948732\n",
      "m.floor(c):  3\n",
      "m.ceil(c):  4\n",
      "round(c):  3\n"
     ]
    }
   ],
   "source": [
    "# Importamos as bilbiotecas que iremos precisar.\n",
    "import math as m\n",
    "\n",
    "# ------------ Operações com números inteiros ------------\n",
    "a = 2 # 2.0 para operações em ponto flutuante.\n",
    "b = 3 # 3.0\n",
    "\n",
    "# ------------ Adição ------------\n",
    "add = a + b\n",
    "print('a + b:', add)\n",
    "\n",
    "# ------------ Subtração ------------\n",
    "sub = a - b\n",
    "print('a - b:', sub)\n",
    "\n",
    "# ------------ Multiplicação ------------ \n",
    "mul = a * b\n",
    "print('a * b:', mul)\n",
    "\n",
    "# ------------ Divisão ------------\n",
    "# OBS.: O resultado da divisão padrão é sempre um float.\n",
    "div = a / b\n",
    "print('a / b:', div)\n",
    "\n",
    "# ------------ Divisão inteira ------------\n",
    "divInt = a // b\n",
    "print('a // b:', divInt)\n",
    "\n",
    "# ------------ Módulo ------------\n",
    "# OBS.: Esse é o operador que extraí o resto de uma divisão.\n",
    "mod = a % b\n",
    "print('a % b:', mod)\n",
    "\n",
    "# ------------ Exponenciação ------------\n",
    "a_ao_quadrado = a ** 2\n",
    "print('a ** 2:', a_ao_quadrado)\n",
    "\n",
    "# Outra forma de realizar exponenciação é através do uso da função pow da biblioteca math.\n",
    "a_ao_quadrado2 = m.pow(a, 2)\n",
    "\n",
    "# ------------ Radiciação ------------\n",
    "raiz_quadrada_de_a = a ** (1 / 2)\n",
    "print('a ** (1/2): ', raiz_quadrada_de_a)\n",
    "raiz_cubica_de_a = a ** (1 / 3)\n",
    "print('a ** (1/3): ', raiz_cubica_de_a)\n",
    "# Outra forma de calcular a raiz quadrada é através do uso da função sqrt da biblioteca math.\n",
    "raiz_quadrada_de_a = m.sqrt(a)\n",
    "\n",
    "# ------------ Operações de arredondamento ------------\n",
    "c = 3.456\n",
    "# floor() retorna o maior valor inteiro menor do que c\n",
    "floorc = m.floor(c)\n",
    "print('m.floor(c): ',floorc)\n",
    "\n",
    "# ceil() retorna o menor valor inteiro maior do que c\n",
    "ceilc = m.ceil(c)\n",
    "print('m.ceil(c): ',ceilc)\n",
    "\n",
    "# round() é uma das várias funções e tipos \"embutidos\" no interpetador do Python, e portanto, não fazem parte de nenhum lib.\n",
    "# round() retorna o valor inteiro mais proximo de c.\n",
    "roundc = round(c)\n",
    "print('round(c): ',roundc)"
   ]
  },
  {
   "cell_type": "markdown",
   "metadata": {},
   "source": [
    "### Exemplo 9 - Operadores de atribuição\n",
    "\n",
    "Python possui o que se chama de **operadores de atribuição**. Esses operadores realizam operações com uma variável e atribuem o resultado da operação à aquela mesma variável. Ambos (atribuição e operação) são expressos de maneira compacta em apenas uma instrução.\n",
    "\n",
    "Por exemplo, a expressão:\n",
    "\n",
    "A = A + 2\n",
    "\n",
    "pode ser expressade forma compacta como\n",
    "\n",
    "A += 2\n",
    "\n",
    "Essa forma compacta pode ser utilizada com qualquer operador, seja ele aritmético ou lógico. Veja alguns exemplos abaixo."
   ]
  },
  {
   "cell_type": "code",
   "execution_count": 33,
   "metadata": {},
   "outputs": [
    {
     "name": "stdout",
     "output_type": "stream",
     "text": [
      "a += b:  3\n",
      "a -= b:  0\n",
      "a /= b:  1.0\n",
      "a //= b:  1\n",
      "a *= b:  4\n"
     ]
    }
   ],
   "source": [
    "a = 1\n",
    "b = 2\n",
    "\n",
    "a += b\n",
    "print('a += b: ',a)\n",
    "\n",
    "a = 2\n",
    "b = 2\n",
    "a -= b\n",
    "print('a -= b: ',a)\n",
    "\n",
    "a = 2\n",
    "b = 2\n",
    "a /= b\n",
    "print('a /= b: ',a)\n",
    "\n",
    "a = 2\n",
    "b = 2\n",
    "a //= b\n",
    "print('a //= b: ',a)\n",
    "\n",
    "a = 2\n",
    "b = 2\n",
    "a *= b\n",
    "print('a *= b: ',a)"
   ]
  },
  {
   "cell_type": "markdown",
   "metadata": {},
   "source": [
    "### Exemplo 10 - Definindo uma função em Python\n",
    "\n",
    "* Uma função é um bloco de código **reutilizável** que só é executado quando é chamado.\n",
    "* As funções fornecem uma melhor modularidade para seu programa e um alto grau de reutilização de código.\n",
    "* Você pode passar dados/valores, conhecidos como parâmetros, para uma função.\n",
    "* Uma função pode ou não retornar dados como resultado.\n",
    "* Uma função pode retornar mais de uma expressão/resultado.\n",
    "\n",
    "Você define funções para implementar uma funcionalidade necessária. Algumas regras simples para definir uma função em Python são:\n",
    "\n",
    "* O bloco de código de uma função começa com a palavra-reservada **def** seguida pelo nome da função e parênteses, ().\n",
    "* Quaisquer parâmetros de entrada devem ser colocados entre os parênteses.\n",
    "* A primeira parte do bloco de código de uma função é opcional e define a string de documentação da função ou **docstring**.\n",
    "* O bloco de código de uma função começa com dois pontos (:) e é recudaod, ou seja, indentado.\n",
    "* A instrução **return [expression]** termina a execução de uma função, opcionalmente retornando uma expressão ao chamador da função.\n",
    "* Uma declaração de retorno sem argumentos é igual a retorno **None**.\n",
    "* Uma função sem uma especificação explicita de retorno sempre retorna **None**."
   ]
  },
  {
   "cell_type": "code",
   "execution_count": 34,
   "metadata": {},
   "outputs": [],
   "source": [
    "def nome_da_função(lista_de_parametros):\n",
    "    '''Como se define uma função em Python'''\n",
    "    return valor_de_retorno"
   ]
  },
  {
   "cell_type": "code",
   "execution_count": 35,
   "metadata": {},
   "outputs": [],
   "source": [
    "# A função a seguir realiza a soma de 2 números.\n",
    "\n",
    "def soma(a, b):\n",
    "    '''Esta função soma dois valores.'''\n",
    "    soma = a + b\n",
    "    return soma"
   ]
  },
  {
   "cell_type": "markdown",
   "metadata": {},
   "source": [
    "A função a seguir retorna mais de um resultado.\n",
    "\n",
    "**OBS.: Os diferentes valores/expressões de retorno são separadas por vírgulas.**"
   ]
  },
  {
   "cell_type": "code",
   "execution_count": 36,
   "metadata": {},
   "outputs": [],
   "source": [
    "def foo(a, b):\n",
    "    return a+b, a-b"
   ]
  },
  {
   "cell_type": "markdown",
   "metadata": {},
   "source": [
    "### Exemplo 11 - Chamando uma função\n",
    "\n",
    "A definição de uma função apenas fornece/define um nome, especifica os parâmetros que devem ser incluídos na função e o bloco de código da função.\n",
    "\n",
    "Depois que a estrutura básica de uma função é finalizada, você pode executá-la chamando-a de outra função, diretamente do prompt do Python, ou de uma célula do notebook Jupyter. A seguir está o exemplo para chamar a função **soma()**:"
   ]
  },
  {
   "cell_type": "code",
   "execution_count": 37,
   "metadata": {},
   "outputs": [
    {
     "name": "stdout",
     "output_type": "stream",
     "text": [
      "soma(a, b):  3\n"
     ]
    }
   ],
   "source": [
    "a = 1\n",
    "b = 2\n",
    "resultado = soma(a, b)\n",
    "\n",
    "print('soma(a, b): ', resultado)"
   ]
  },
  {
   "cell_type": "markdown",
   "metadata": {},
   "source": [
    "#### Recebendo os valores de retorno de uma função com mais de um valor de retorno"
   ]
  },
  {
   "cell_type": "code",
   "execution_count": 38,
   "metadata": {},
   "outputs": [
    {
     "name": "stdout",
     "output_type": "stream",
     "text": [
      "soma:  10\n",
      "subtração:  0\n"
     ]
    }
   ],
   "source": [
    "soma, sub = foo(5, 5)\n",
    "\n",
    "print('soma: ',soma)\n",
    "print('subtração: ',sub)"
   ]
  },
  {
   "cell_type": "markdown",
   "metadata": {},
   "source": [
    "### Exemplo 12 - Parâmetros padrão\n",
    "\n",
    "Um parâmetro padrão é um parâmetro que assume um valor padrão se um valor não for fornecido na chamada da função para esse parâmetro."
   ]
  },
  {
   "cell_type": "code",
   "execution_count": 39,
   "metadata": {},
   "outputs": [
    {
     "name": "stdout",
     "output_type": "stream",
     "text": [
      "Nome: felipe\n",
      "Idade:  50\n",
      "Nome: felipe\n",
      "Idade:  35\n"
     ]
    }
   ],
   "source": [
    "def imprimeInfo(nome, idade=35):\n",
    "    '''Imprime as informações passadas para a função.'''\n",
    "    print('Nome:', nome)\n",
    "    print('Idade: ', idade)\n",
    "\n",
    "# Agora chamamos a  função.\n",
    "imprimeInfo(idade=50, nome=\"felipe\")\n",
    "imprimeInfo(nome=\"felipe\")"
   ]
  },
  {
   "cell_type": "markdown",
   "metadata": {},
   "source": [
    "## Mensagens de Erro\n",
    "\n",
    "Ao tentar interpretar o código que escrevemos, o Python avisa quando alguma coisa não foi compreendida através de mensagens de erro. **É importante ler as mensagens para saber onde erramos.**\n",
    "\n",
    "### Erros Frequentes\n",
    "\n",
    "* **SyntaxError**: erros de sintaxe. Esses erros significam que alguma palavra foi escrita incorretamente, ou que algum símbolo foi esquecido (por exemplo, o **:** ao final da definição de uma função).\n",
    "* **IndentationError**: alguma linha está com a indentação incorreta.\n",
    "* **NameError**: erro de nome. Significa que algum nome foi usado sem ser anteriormente definido. Ocorre por exemplo ao chamar uma função que ainda não foi definida.\n",
    "\n",
    "Veja os exemplos a seguir:"
   ]
  },
  {
   "cell_type": "code",
   "execution_count": 40,
   "metadata": {},
   "outputs": [
    {
     "ename": "SyntaxError",
     "evalue": "invalid syntax (<ipython-input-40-9a0a6b25afeb>, line 1)",
     "output_type": "error",
     "traceback": [
      "\u001b[1;36m  File \u001b[1;32m\"<ipython-input-40-9a0a6b25afeb>\"\u001b[1;36m, line \u001b[1;32m1\u001b[0m\n\u001b[1;33m    def mult(x,y)\u001b[0m\n\u001b[1;37m                 ^\u001b[0m\n\u001b[1;31mSyntaxError\u001b[0m\u001b[1;31m:\u001b[0m invalid syntax\n"
     ]
    }
   ],
   "source": [
    "def mult(x,y)\n",
    "    return x*y"
   ]
  },
  {
   "cell_type": "code",
   "execution_count": 41,
   "metadata": {},
   "outputs": [
    {
     "ename": "IndentationError",
     "evalue": "expected an indented block (<ipython-input-41-743a3735b31f>, line 2)",
     "output_type": "error",
     "traceback": [
      "\u001b[1;36m  File \u001b[1;32m\"<ipython-input-41-743a3735b31f>\"\u001b[1;36m, line \u001b[1;32m2\u001b[0m\n\u001b[1;33m    return x*y\u001b[0m\n\u001b[1;37m    ^\u001b[0m\n\u001b[1;31mIndentationError\u001b[0m\u001b[1;31m:\u001b[0m expected an indented block\n"
     ]
    }
   ],
   "source": [
    "def mult(x,y):\n",
    "return x*y"
   ]
  },
  {
   "cell_type": "code",
   "execution_count": 42,
   "metadata": {},
   "outputs": [
    {
     "ename": "NameError",
     "evalue": "name 'bar' is not defined",
     "output_type": "error",
     "traceback": [
      "\u001b[1;31m---------------------------------------------------------------------------\u001b[0m",
      "\u001b[1;31mNameError\u001b[0m                                 Traceback (most recent call last)",
      "\u001b[1;32m<ipython-input-42-fa75f8a42ea0>\u001b[0m in \u001b[0;36m<module>\u001b[1;34m\u001b[0m\n\u001b[1;32m----> 1\u001b[1;33m \u001b[0mbar\u001b[0m\u001b[1;33m(\u001b[0m\u001b[0ma\u001b[0m\u001b[1;33m,\u001b[0m\u001b[0mb\u001b[0m\u001b[1;33m)\u001b[0m\u001b[1;33m\u001b[0m\u001b[1;33m\u001b[0m\u001b[0m\n\u001b[0m",
      "\u001b[1;31mNameError\u001b[0m: name 'bar' is not defined"
     ]
    }
   ],
   "source": [
    "bar(a,b)"
   ]
  },
  {
   "cell_type": "markdown",
   "metadata": {},
   "source": [
    "# <span style=\"color:red\">  QUIZ - Conceitos iniciais\n",
    "    \n",
    "**Agora responda ao quiz sobre conceitos básicos no MS teams.**"
   ]
  },
  {
   "cell_type": "markdown",
   "metadata": {},
   "source": [
    "## Alguns exemplos com bilbiotecas específicas.\n",
    "\n",
    "Alguns deles utilizam algumas das bilbiotecas disponibilizados pelo ecosistema do Python."
   ]
  },
  {
   "cell_type": "code",
   "execution_count": 43,
   "metadata": {},
   "outputs": [
    {
     "name": "stdout",
     "output_type": "stream",
     "text": [
      "Requirement already satisfied: numpy in c:\\users\\felipe.figueiredo\\anaconda3\\lib\\site-packages (1.19.1)\n",
      "Requirement already satisfied: matplotlib in c:\\users\\felipe.figueiredo\\anaconda3\\lib\\site-packages (3.2.2)\n",
      "Requirement already satisfied: numpy>=1.11 in c:\\users\\felipe.figueiredo\\anaconda3\\lib\\site-packages (from matplotlib) (1.19.1)\n",
      "Requirement already satisfied: kiwisolver>=1.0.1 in c:\\users\\felipe.figueiredo\\anaconda3\\lib\\site-packages (from matplotlib) (1.2.0)\n",
      "Requirement already satisfied: python-dateutil>=2.1 in c:\\users\\felipe.figueiredo\\anaconda3\\lib\\site-packages (from matplotlib) (2.8.1)\n",
      "Requirement already satisfied: pyparsing!=2.0.4,!=2.1.2,!=2.1.6,>=2.0.1 in c:\\users\\felipe.figueiredo\\anaconda3\\lib\\site-packages (from matplotlib) (2.4.7)\n",
      "Requirement already satisfied: cycler>=0.10 in c:\\users\\felipe.figueiredo\\anaconda3\\lib\\site-packages (from matplotlib) (0.10.0)\n",
      "Requirement already satisfied: six>=1.5 in c:\\users\\felipe.figueiredo\\anaconda3\\lib\\site-packages (from python-dateutil>=2.1->matplotlib) (1.15.0)\n",
      "Requirement already satisfied: sklearn in c:\\users\\felipe.figueiredo\\anaconda3\\lib\\site-packages (0.0)\n",
      "Requirement already satisfied: scikit-learn in c:\\users\\felipe.figueiredo\\anaconda3\\lib\\site-packages (from sklearn) (0.23.1)\n",
      "Requirement already satisfied: joblib>=0.11 in c:\\users\\felipe.figueiredo\\anaconda3\\lib\\site-packages (from scikit-learn->sklearn) (0.16.0)\n",
      "Requirement already satisfied: scipy>=0.19.1 in c:\\users\\felipe.figueiredo\\anaconda3\\lib\\site-packages (from scikit-learn->sklearn) (1.5.0)\n",
      "Requirement already satisfied: threadpoolctl>=2.0.0 in c:\\users\\felipe.figueiredo\\anaconda3\\lib\\site-packages (from scikit-learn->sklearn) (2.1.0)\n",
      "Requirement already satisfied: numpy>=1.13.3 in c:\\users\\felipe.figueiredo\\anaconda3\\lib\\site-packages (from scikit-learn->sklearn) (1.19.1)\n"
     ]
    },
    {
     "name": "stderr",
     "output_type": "stream",
     "text": [
      "C:\\Users\\felipe.figueiredo\\Anaconda3\\lib\\site-packages\\sklearn\\neural_network\\_multilayer_perceptron.py:471: ConvergenceWarning: lbfgs failed to converge (status=1):\n",
      "STOP: TOTAL NO. of ITERATIONS REACHED LIMIT.\n",
      "\n",
      "Increase the number of iterations (max_iter) or scale the data as shown in:\n",
      "    https://scikit-learn.org/stable/modules/preprocessing.html\n",
      "  self.n_iter_ = _check_optimize_result(\"lbfgs\", opt_res, self.max_iter)\n"
     ]
    },
    {
     "data": {
      "text/plain": [
       "Text(0, 0.5, 'y')"
      ]
     },
     "execution_count": 43,
     "metadata": {},
     "output_type": "execute_result"
    },
    {
     "data": {
      "image/png": "[encoded data removed]",
      "text/plain": [
       "<Figure size 720x576 with 1 Axes>"
      ]
     },
     "metadata": {
      "needs_background": "light"
     },
     "output_type": "display_data"
    }
   ],
   "source": [
    "# Instala alguns pacotes necessários no kernel Jupyter corrente.\n",
    "import sys\n",
    "!{sys.executable} -m pip install numpy\n",
    "!{sys.executable} -m pip install matplotlib\n",
    "!{sys.executable} -m pip install sklearn\n",
    "\n",
    "# Importa todas as bibliotecas necessárias.\n",
    "import numpy as np\n",
    "import matplotlib.pyplot as plt\n",
    "# Importa a classe MLPRegressor da biblioteca do módulo de redes neurais da Sci-Kit.\n",
    "from sklearn.neural_network import MLPRegressor\n",
    "\n",
    "%matplotlib inline\n",
    "\n",
    "x = np.arange(-10, 10, 0.1)\n",
    "\n",
    "# Dados originais.\n",
    "y = 3 * np.exp(-0.05*x) + 12 + 1.4 * np.sin(1.2*x) + 2.1 * np.sin(-2.2*x + 3)\n",
    "\n",
    "# faz com que o gerador de numeros aleatorios sempre forneca os mesmos valores\n",
    "np.random.seed(42) \n",
    "\n",
    "# adicionando ruido aos dados originais\n",
    "y_noise = y + np.random.normal(0, 0.5, size = len(y))\n",
    "\n",
    "# trata o ajuste de curva como um problema de regressao e treina um modelo para que se ajuste aos dados.\n",
    "mlp = MLPRegressor(hidden_layer_sizes=(30,20,10), max_iter=5000, solver='lbfgs', alpha=0.9, activation='tanh', random_state=8)\n",
    "yfit = mlp.fit(x[:, None], y_noise).predict(x[:, None])\n",
    "\n",
    "plt.figure(figsize = (10,8))\n",
    "plt.plot(x, y_noise, 'o', label = 'dado original + ruido')\n",
    "plt.plot(x, y, 'k', label = 'dado original')\n",
    "plt.plot(x, yfit, '-r', label = 'curva ajustada com MLP', zorder = 10)\n",
    "plt.legend()\n",
    "plt.xlabel('X')\n",
    "plt.ylabel('y')"
   ]
  },
  {
   "cell_type": "markdown",
   "metadata": {},
   "source": [
    "### Arrays e Matrizes"
   ]
  },
  {
   "cell_type": "code",
   "execution_count": 44,
   "metadata": {},
   "outputs": [
    {
     "data": {
      "text/plain": [
       "array([[[ 0.57089051,  1.13556564,  0.95400176,  0.65139125,\n",
       "         -0.31526924],\n",
       "        [ 0.75896922, -0.77282521, -0.23681861, -0.48536355,\n",
       "          0.08187414],\n",
       "        [ 2.31465857, -1.86726519,  0.68626019, -1.61271587,\n",
       "         -0.47193187],\n",
       "        [ 1.0889506 ,  0.06428002, -1.07774478, -0.71530371,\n",
       "          0.67959775]],\n",
       "\n",
       "       [[-0.73036663,  0.21645859,  0.04557184, -0.65160035,\n",
       "          2.14394409],\n",
       "        [ 0.63391902, -2.02514259,  0.18645431, -0.66178646,\n",
       "          0.85243333],\n",
       "        [-0.79252074, -0.11473644,  0.50498728,  0.86575519,\n",
       "         -1.20029641],\n",
       "        [-0.33450124, -0.47494531, -0.65332923,  1.76545424,\n",
       "          0.40498171]],\n",
       "\n",
       "       [[-1.26088395,  0.91786195,  2.1221562 ,  1.03246526,\n",
       "         -1.51936997],\n",
       "        [-0.48423407,  1.26691115, -0.70766947,  0.44381943,\n",
       "          0.77463405],\n",
       "        [-0.92693047, -0.05952536, -3.24126734, -1.02438764,\n",
       "         -0.25256815],\n",
       "        [-1.24778318,  1.6324113 , -1.43014138, -0.44004449,\n",
       "          0.13074058]]])"
      ]
     },
     "execution_count": 44,
     "metadata": {},
     "output_type": "execute_result"
    }
   ],
   "source": [
    "import numpy as np\n",
    "\n",
    "# Criação de matriz 2x3.\n",
    "matriz = np.array([[1, 2, 3], [4, 5, 6]])\n",
    "\n",
    "# Multiplicacao de matrizes.\n",
    "matriz = matriz.dot(matriz.transpose())\n",
    "\n",
    "# Determinante de uma matriz.\n",
    "np.linalg.det(matriz) # necessita do módulo de algebra linear, linalg.\n",
    "\n",
    "# Sequências.\n",
    "np.arange(0, 10, 0.1) \n",
    "np.linspace(0, 2 * np.pi, 100)\n",
    "\n",
    "# Matrizes diagonal, de zeros e uns.\n",
    "np.eye(10)\n",
    "np.zeros((5, 5)) \n",
    "np.ones((5, 5))\n",
    "\n",
    "# Números aleatórios. \n",
    "np.random.random(size=(3, 4)) # Cria matriz 3x4 com números aleatórios dentro do intervalo de 0.0 a 1.0\n",
    "np.random.normal(size=(3, 4, 5))  # Cria matriz 3x4x5 com números aleatórios seguindo a distribuição Gaussiana normal."
   ]
  },
  {
   "cell_type": "markdown",
   "metadata": {},
   "source": [
    "## Folha de Dicas (Cheat Sheet)\n",
    "\n",
    "* O documento no link seguinte contêm várias dicas para que você não precise decorar nenhum comando: [cheat sheet](../docs/folha-de-dicas-cheat-sheet-python3.pdf)\n",
    "\n",
    "## Referências: apostilas e tutoriais disponíveis gratuitamente na web\n",
    "\n",
    "1. LABAKI, Josué, Introdução a Python - Módulo A, http://www.dcc.ufrj.br/~fabiom/python/pythonbasico.pdf\n",
    "\n",
    "2. BORGES, Luís Eduardo, Python para Desenvolvedores, https://ark4n.files.wordpress.com/2010/01/python_para_desenvolvedores_2ed.pdf\n",
    "\n",
    "3. VAN ROSSUM, Guido, O Tutorial Python, https://docs.python.org/pt-br/3/tutorial/index.html\n",
    "\n",
    "4. DOWNEY, Allen Downey; ELKNER, Jeff, e MEYERS, Chris, Aprenda Computação com Python 3.0, https://mange.ifrn.edu.br/python/aprenda-com-py3/index.html\n",
    "\n",
    "5. MILLER, Brad Miller e RANUM, David, How to Think Like a Computer Scientist: Interactive Edition, https://runestone.academy/runestone/books/published/thinkcspy/index.html\n",
    "\n",
    "\n",
    "<img src=\"../figures/obrigado.png\" width=\"1000\" height=\"1000\">\n",
    "\n",
    "\n"
   ]
  },
  {
   "cell_type": "code",
   "execution_count": null,
   "metadata": {},
   "outputs": [],
   "source": []
  },
  {
   "cell_type": "code",
   "execution_count": null,
   "metadata": {},
   "outputs": [],
   "source": []
  },
  {
   "cell_type": "code",
   "execution_count": null,
   "metadata": {},
   "outputs": [],
   "source": []
  }
 ],
 "metadata": {
  "kernelspec": {
   "display_name": "Python 3",
   "language": "python",
   "name": "python3"
  }
 },
 "nbformat": 4,
 "nbformat_minor": 4
}
