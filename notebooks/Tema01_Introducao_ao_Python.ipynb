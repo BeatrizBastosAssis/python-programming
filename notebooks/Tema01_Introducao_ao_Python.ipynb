{
 "cells": [
  {
   "cell_type": "markdown",
   "metadata": {},
   "source": [
    "# C126 - Programação em Python\n",
    "\n",
    "\n",
    "## Objetivos\n",
    "\n",
    "Meu objetivo principal é o de criar em vocês o interesse pela linguagem Python.\n",
    "\n",
    "Ao final da disciplina, eu espero que vocês:\n",
    "* Conheçam os conceitos básicos e os principais recursos disponibilizados pela linguagem de programação Python.\n",
    "* Apliquem conceitos e desenvolvam programas usando Python.\n",
    "* Sejam capazes de solucionar problemas utilizando Python.\n",
    "* Possuam a base necessária para a aprendizagem de novos conceitos.\n",
    "\n",
    "## Critérios de Avaliação\n",
    "\n",
    "* 2 Provas com conteúdo prático/teórico com peso de 85% cada. (Provas nas semanas 9 e 20)\n",
    "* Exercícios práticos/teóricos com peso de 15%.\n",
    "    * Nota composta por exercícios feitos em sala de aula e em casa.\n",
    "   \n",
    "## Uma breve história\n",
    "\n",
    "* A linguagem de programação **Python** foi lançada em 1991 por Guido van Rossum. \n",
    "\n",
    "<img src=\"../figures/guido.jpg\" width=\"300\" height=\"300\">\n",
    "\n",
    "* O nome **Python** é uma homenagem ao grupo de humor britânico, Monty Python.\n",
    "\n",
    "<img src=\"../figures/monty.jpg\" width=\"200\" height=\"200\">\n",
    "\n",
    "* Guido resistiu por muito tempo em associar a linguagem à cobra Python, mas isso acabou quando a editora  O’Reilly publicou o primeiro livro sobre a linguagem. \n",
    "\n",
    "<img src=\"../figures/livro.jpg\" width=\"200\" height=\"200\">\n",
    "\n",
    "* Hoje, a linguagem Python possui um modelo de desenvolvimento comunitário, de código aberto e gerenciado pela Python Software Foundation. \n",
    "\n",
    "<img src=\"../figures/psf-logo.png\">\n",
    "\n",
    "## O que é o Python?\n",
    "\n",
    "* É uma linguagem de programação:\n",
    "    * de **alto nível**: usam uma sintaxe que se aproxima mais da nossa linguagem e se distancia da linguagem de máquina.    \n",
    "    * **Multi-paradigma**, pois suporta diversos paradigmas de programação como: programação orientada a objetos, programação imperativa ou estruturada e programação funcional.\n",
    "    * **Interpretada**, ou seja, o código fonte é transformado em uma linguagem intermediária, que será interpretada pela máquina virtual da linguagem quando o programa for executado.\n",
    "    * de **tipagem dinâmica**, isso, significa que o interpretador do Python infere o tipo dos dados que uma variável recebe em tempo de execução, sem a necessidade que o programador defina o tipo de uma determinada variável.\n",
    "    * **Fortemente tipada**, ou seja, ela proibe operações que não são bem definidas (por exemplo, adicionar um número a uma string) em vez de tentar silenciosamente tentar converter os valores. Para realizar a operação entre tipos não compatíveis, é necessário converter explicitamente o tipo da variável ou variáveis antes da operação.\n",
    "    * **Multiplataforma**: roda em plataformas Windows, Linux, UNIX e MacOS, e até em telefones celulares.\n",
    "    * **Grátis** e de **código aberto**.\n",
    "    \n",
    "## Compilação e interpretação\n",
    "\n",
    "* Quando um programa é executado, o código fonte é analisado, convertido para símbolos e traduzido (compilado) pelo Python em uma linguagem de intermediária, chamada de **bytecode**, que é um formato binário com instruções para o interpretador. \n",
    "* O **bytecode** é independente de plataforma, ou seja ele é multiplataforma (tipos diferentes de computadores e sistemas operacionais) e pode ser distribuído e executado sem o código fonte original.\n",
    "* Observe que o **bytecode** não é um código de máquina binário, por exemplo, aquele que é executado por uma CPU INTEL.\n",
    "* Ao final, após o programa ter sido compilado, o interpretador executa essa linguagem intermediária, ou seja os **bytecodes**, na máquina virtual Python, do Inglês, Python Virtual Machine (PVM).\n",
    "\n",
    "<img src=\"../figures/interpreter.png\" width=\"400\" height=\"400\">\n",
    "    \n",
    "## Por que Python?\n",
    "\n",
    "* É uma das linguagens mais fáceis de se aprender, com uma sintaxe clara, intuitiva e concisa, que favorece a legibilidade do código fonte, tornando a linguagem mais produtiva.\n",
    "* É uma linguagem muito popular e será mais ainda nos próximos anos. \n",
    "\n",
    "<img src=\"../figures/popularity.png\" width=\"400\" height=\"400\">\n",
    "\n",
    "* Grandes empresas usam Python. \n",
    "\n",
    "<img src=\"../figures/empresas.png\" width=\"500\" height=\"500\">\n",
    "\n",
    "* Possui um rico ecossistema de bibliotecas. \n",
    "\n",
    "<img src=\"../figures/libraries.png\" width=\"500\" height=\"500\">\n",
    "\n",
    "* Muito utilizada no meio científico devido a uma enorme quantidade de bibliotecas específicas para engenharias, química, biologia, astrofísica, física, etc.\n",
    "* Pyhton é a linguagem mais usada para aplicações de Machine Learning. \n",
    "\n",
    "<img src=\"../figures/ml.jpg\" width=\"200\" height=\"200\">\n",
    "\n",
    "* Possui um vasto suporte on-line: Tutorials, Videos e StackOverflow. \n",
    "\n",
    "<img src=\"../figures/so-logo.png\" width=\"400\" height=\"400\">\n",
    "\n",
    "* Python é usada como linguagem educativa para ensino de computação e eletrônica (e.g., Raspberry Pi, LEGO Mindstormstem suas aplicações desenvolvidas em Python). \n",
    "\n",
    "<img src=\"../figures/raspi-lego.png\" width=\"400\" height=\"400\">\n",
    "\n",
    "* Python é gratuito e open-source, isso significa que você não precisa pagar nada e que pode criar e distribuir suas próprias bibliotecas, modificar/melhorar/debugar bibliotecas existentes e a própria linguagem.\n",
    "* Assim como Java, o Python utiliza gerenciamento automático de memória, significando que o ele rastreia a utilização de objetos automaticamente e os deleta quando não estão sendo mais utilizados para liberar espaço.\n",
    "\n",
    "## Importante antes de começarmos\n",
    "\n",
    "* Esqueça de declarações de tipos de variáveis\n",
    "* Esqueça de { e } \n",
    "* Esqueça de ; \n",
    "* Se você já era organizado, não sofrerá! \n",
    "* A indentação é obrigatória! :)\n",
    "\n",
    "## Executando códigos Python na núvem\n",
    "\n",
    "Para evitarmos a instalação de softwares localmente, nós utilizaremos ambientes computacionais interativos baseados em aplicações web para criação de documentos virtuais, chamados de notebooks, que permitem a execução de códigos de uma linguagem de programação juntamente com ferramentas para edição de textos, ou seja, além das rotinas usuais de programação, o usuário pode documentar todo o processo de escrita do código. Dessa forma, um notebook permite uma maneira interativa de programar.\n",
    "\n",
    "Hoje em dias, existem vários ambientes computacionais interativos gratuitos disponíveis, mas durante nosso curso, usaremos o Jupyter ou o Google Colab.\n",
    "\n",
    "### Jupyter e Google Colab \n",
    "\n",
    "<img src=\"../figures/jupyter_colab.png\" width=\"300\" height=\"300\">\n",
    "\n",
    "* Usaremos Jupyter ou o Google Colab para execução e documentação de exemplos e exercícios.\n",
    "* O Jupyter Notebook é uma aplicação web gratuita que permite a edição de notebooks em um navegador web, tais como Google Chrome, Firefox, Microsoft Edge, etc.\n",
    "* Notebooks Jupyter permitem a criação e compartilhamento de documentos contendo código, equações, visualizações e texto explicativo.\n",
    "* O nome Jupyter é um acrônimo criado a partir das linguagens de programação que inicialmente eram suportadas pelo Projeto Jupyter: Julia, Python e R. \n",
    "* Além dessas, hoje, o Projeto Jupyter suporta também C++, C#, PHP, Ruby, Fortran e outras.\n",
    "* Site do Projeto Jupyter: https://jupyter.org/\n",
    "* O Colaboratory (também conhecido como Colab, ou Google Colab) é aplicação web gratuita que suporta a execução de notebooks Jupyter que roda na nuvem e armazena seus notebooks no Google Drive.\n",
    "* Site do Colab: https://colab.research.google.com/\n",
    "\n",
    "## Versão de Python que utilizaremos\n",
    "\n",
    "* **Neste curso nós utilizaremos a versão 3.x do Python pois a versão 2.x foi descontinuada este ano.**\n",
    "\n",
    "*DEPRECATION: Python 2.7 reached the end of its life on January 1st, 2020.*\n",
    "\n",
    "## Instalando o Python, Jupyter e outras ferramentas\n",
    "\n",
    "Para resolver os quizzes e exercícios, vocês podem usar o Jupyter online ou instalá-lo localmente. Eu recomendo que você instale o Jupyter localmente caso você precise executá-lo sem uma conexão com a internet. O Python e o Jupyter podem ser instalados seguindo-se o tutorial a seguir.\n",
    "\n",
    "* O documento no link a seguir contém um tutorial de como instalar o Python, Jupyter e outras ferramentas através da distribuição [Anaconda](../docs/Tutorial-de-Instalação-Ambiente-Python-Jupyter.pdf)\n",
    "\n",
    "## Exemplos\n",
    "\n",
    "A seguir, eu apresento alguns exemplos para ensinar alguns conceitos básicos de Python."
   ]
  },
  {
   "cell_type": "markdown",
   "metadata": {},
   "source": [
    "### Exemplo 1 - Saídas\n",
    "\n",
    "#### O famoso \"Hello, World!\""
   ]
  },
  {
   "cell_type": "code",
   "execution_count": 27,
   "metadata": {},
   "outputs": [
    {
     "name": "stdout",
     "output_type": "stream",
     "text": [
      "Hello, World!\n"
     ]
    }
   ],
   "source": [
    "print(\"Hello, World!\")"
   ]
  },
  {
   "cell_type": "markdown",
   "metadata": {},
   "source": [
    "#### Um exemplo mais elaborado.\n",
    "\n",
    "O Python usa formatação de strings no estilo do C para criar novas strings formatadas. O operador \"%\" é usado para formatar um conjunto de variáveis entre uma \"tupla\" (uma lista de tamanho fixo) e uma string de formatação que contém texto normal junto com \"especificadores de argumento\", símbolos especiais como \"%s\" e \"%d\", como no exemplo abaixo."
   ]
  },
  {
   "cell_type": "code",
   "execution_count": 28,
   "metadata": {},
   "outputs": [
    {
     "name": "stdout",
     "output_type": "stream",
     "text": [
      "O Resultado do teste é igual a 2, 3.1400, True.\n"
     ]
    }
   ],
   "source": [
    "string_1 = \"do teste é igual a\"\n",
    "valor1 = 2\n",
    "valor2 = 3.14\n",
    "valor3 = True\n",
    "print(\"O Resultado %s %d, %1.4f, %s.\" % (string_1, valor1, valor2, valor3))"
   ]
  },
  {
   "cell_type": "markdown",
   "metadata": {},
   "source": [
    "### Exemplo 2 - Um comentário de uma linha\n",
    "\n",
    "Utilizamos o caractere cerquilha (#), em Inglês, hash, para demarcarmos que tudo que estiver a frente desse caractere, deve ser ignorado pelo interpretador do Python, por exemplo:"
   ]
  },
  {
   "cell_type": "code",
   "execution_count": 29,
   "metadata": {},
   "outputs": [],
   "source": [
    "# Esta é uma linha de comentário. Comentários são precedidos pela cerquilha (#), em Inglês, hash."
   ]
  },
  {
   "cell_type": "markdown",
   "metadata": {},
   "source": [
    "### Exemplo 3 - Comentários em bloco\n",
    "\n",
    "A linguagem Python também disponibiliza uma notação para demarcarmos que um conjunto de linhas deve ser ignorado pelo interpretador. Essa notação se dá pelo uso de 3 aspas simples, ou entao, 3 aspas duplas. Nestes casos, tudo que estiver delimitado pelas aspas não será interpretado, por exemplo:"
   ]
  },
  {
   "cell_type": "code",
   "execution_count": 30,
   "metadata": {},
   "outputs": [
    {
     "data": {
      "text/plain": [
       "'\\ntoda informações contida entre 3 aspas SIMPLES\\né considerada como caracteres que devem ser ignorados.\\n'"
      ]
     },
     "execution_count": 30,
     "metadata": {},
     "output_type": "execute_result"
    }
   ],
   "source": [
    "'''\n",
    "toda informações contida entre 3 aspas SIMPLES\n",
    "é considerada como caracteres que devem ser ignorados.\n",
    "'''"
   ]
  },
  {
   "cell_type": "markdown",
   "metadata": {},
   "source": [
    "**OBS.: Aspas duplas também funciona.**"
   ]
  },
  {
   "cell_type": "code",
   "execution_count": 31,
   "metadata": {},
   "outputs": [
    {
     "data": {
      "text/plain": [
       "'\\ntoda informações contida entre 3 aspas SIMPLES\\né considerada como caracteres que devem ser ignorados.\\n'"
      ]
     },
     "execution_count": 31,
     "metadata": {},
     "output_type": "execute_result"
    }
   ],
   "source": [
    "\"\"\"\n",
    "toda informações contida entre 3 aspas SIMPLES\n",
    "é considerada como caracteres que devem ser ignorados.\n",
    "\"\"\""
   ]
  },
  {
   "cell_type": "markdown",
   "metadata": {},
   "source": [
    "### Exemplo 4 - Variáveis\n",
    "\n",
    "###  Tipos de dados embutidos\n",
    "\n",
    "Em programação, o tipo de dados é um conceito importante. As variáveis podem armazenar dados de diferentes tipos. Python tem os seguintes tipos de dados embutidos por padrão:\n",
    "\n",
    "|    Text Type:   | str                          |\n",
    "|:---------------:|------------------------------|\n",
    "|  Numeric Types: | int, float, complex          |\n",
    "| Sequence Types: | list, tuple, range           |\n",
    "|  Mapping Type:  | dict                         |\n",
    "|    Set Types:   | set, frozenset               |\n",
    "|  Boolean Type:  | bool                         |\n",
    "|  Binary Types:  | bytes, bytearray, memoryview |\n",
    "\n",
    "Em Python, as variáveis não:\n",
    "\n",
    "* precisam ser declaradas ou definidas com antecedência. Para criar uma variável, basta atribuir um valor a ela.\n",
    "* pode ser utilizada em uma expressão sem ter sido inicializada.\n",
    "* são estáticas, como em outras linguagens de programação, ou seja, o tipo da variável pode mudar."
   ]
  },
  {
   "cell_type": "code",
   "execution_count": 1,
   "metadata": {},
   "outputs": [
    {
     "name": "stdout",
     "output_type": "stream",
     "text": [
      "type(a): <class 'int'>\n",
      "type(b): <class 'int'>\n",
      "type(c): <class 'float'>\n",
      "type(d): <class 'complex'>\n",
      "type(a): <class 'float'>\n",
      "type(a): <class 'str'>\n",
      "type(t): <class 'bool'>\n"
     ]
    }
   ],
   "source": [
    "a = 1\n",
    "# OBS.: type() é uma função embutida do Python que retorna o tipo de um objeto ou variável.\n",
    "print('type(a):',type(a))\n",
    "\n",
    "b = 2\n",
    "print('type(b):',type(b))\n",
    "\n",
    "c = 3.1\n",
    "print('type(c):',type(c))\n",
    "\n",
    "d = 1j\n",
    "print('type(d):',type(d))\n",
    "\n",
    "# A variável 'a', agora será do tipo float.\n",
    "a = 4.2\n",
    "print('type(a):',type(a))\n",
    "\n",
    "# A variável 'a', agora será do tipo string.\n",
    "a = \"teste\"\n",
    "print('type(a):',type(a))\n",
    "\n",
    "t = True\n",
    "print('type(t):',type(t))"
   ]
  },
  {
   "cell_type": "markdown",
   "metadata": {},
   "source": [
    "### Exemplo 5 - Nomes de variáveis\n",
    "\n",
    "Uma variável pode ter um nome curto (como x e y) ou um nome mais descritivo (idade, modelo_carro, volume_total). Regras para variáveis em Python são:\n",
    "\n",
    "* Um nome de variável deve começar com uma letra ou o com caractere sublinhado (_)\n",
    "* Um nome de variável não pode começar com um número\n",
    "* Um nome de variável pode conter apenas caracteres alfanuméricos e sublinhados (A-z, 0-9 e _)\n",
    "* Os nomes das variáveis diferenciam maiúsculas de minúsculas (idade, Idade e IDADE são três variáveis diferentes)"
   ]
  },
  {
   "cell_type": "code",
   "execution_count": 33,
   "metadata": {},
   "outputs": [
    {
     "ename": "SyntaxError",
     "evalue": "invalid syntax (<ipython-input-33-5e083aadc37c>, line 10)",
     "output_type": "error",
     "traceback": [
      "\u001b[1;36m  File \u001b[1;32m\"<ipython-input-33-5e083aadc37c>\"\u001b[1;36m, line \u001b[1;32m10\u001b[0m\n\u001b[1;33m    2myvar = \"John\"\u001b[0m\n\u001b[1;37m     ^\u001b[0m\n\u001b[1;31mSyntaxError\u001b[0m\u001b[1;31m:\u001b[0m invalid syntax\n"
     ]
    }
   ],
   "source": [
    "# Nomes válidos para variáveis.\n",
    "myvar = \"John\"\n",
    "my_var = \"John\"\n",
    "_my_var = \"John\"\n",
    "myVar = \"John\"\n",
    "MYVAR = \"John\"\n",
    "myvar2 = \"John\"\n",
    "\n",
    "# Nomes inválidos para variáveis.\n",
    "2myvar = \"John\"\n",
    "my-var = \"John\"\n",
    "my var = \"John\""
   ]
  },
  {
   "cell_type": "markdown",
   "metadata": {},
   "source": [
    "### Exemplo 6 - Valor nulo (null)\n",
    "\n",
    "* Em Python, **None** equivale ao valor nulo (null).\n",
    "* Podemos iniciar variáveis com o valor **None**."
   ]
  },
  {
   "cell_type": "code",
   "execution_count": 34,
   "metadata": {},
   "outputs": [
    {
     "name": "stdout",
     "output_type": "stream",
     "text": [
      "varNula:  None\n"
     ]
    }
   ],
   "source": [
    "varNula = None\n",
    "print('varNula: ',varNula)"
   ]
  },
  {
   "cell_type": "markdown",
   "metadata": {},
   "source": [
    "### Exemplo 7 - Strings\n",
    "\n",
    "* Em Python, strings são cercadas por aspas simples ou aspas duplas.\n",
    "* Como muitas outras linguagens de programação populares, as strings em Python são vetores de bytes que representam caracteres.\n",
    "* Entretanto, o Python não possui um tipo de dados de caractere; um único caractere é simplesmente uma string com o comprimento 1."
   ]
  },
  {
   "cell_type": "code",
   "execution_count": 35,
   "metadata": {},
   "outputs": [
    {
     "name": "stdout",
     "output_type": "stream",
     "text": [
      "Hello\n",
      "Hello\n"
     ]
    }
   ],
   "source": [
    "# As duas formas são equivalentes.\n",
    "print(\"Hello\")\n",
    "print('Hello')"
   ]
  },
  {
   "cell_type": "markdown",
   "metadata": {},
   "source": [
    "#### Strings com múltiplas linhas"
   ]
  },
  {
   "cell_type": "code",
   "execution_count": 36,
   "metadata": {},
   "outputs": [
    {
     "name": "stdout",
     "output_type": "stream",
     "text": [
      "Lorem ipsum dolor sit amet,\n",
      "consectetur adipiscing elit,\n",
      "sed do eiusmod tempor incididunt\n",
      "ut labore et dolore magna aliqua.\n"
     ]
    }
   ],
   "source": [
    "a = \"\"\"Lorem ipsum dolor sit amet,\n",
    "consectetur adipiscing elit,\n",
    "sed do eiusmod tempor incididunt\n",
    "ut labore et dolore magna aliqua.\"\"\"\n",
    "\n",
    "print(a)"
   ]
  },
  {
   "cell_type": "markdown",
   "metadata": {},
   "source": [
    "#### Strings podem ser concatenadas com o sinal +."
   ]
  },
  {
   "cell_type": "code",
   "execution_count": 37,
   "metadata": {},
   "outputs": [
    {
     "name": "stdout",
     "output_type": "stream",
     "text": [
      "Programação em Python\n"
     ]
    }
   ],
   "source": [
    "str1 = \"C126\"\n",
    "str2 = \" - \"\n",
    "str3 = \"Programação em Python\"\n",
    "\n",
    "str4 = str1 + str2 + str3\n",
    "print(str3)"
   ]
  },
  {
   "cell_type": "markdown",
   "metadata": {},
   "source": [
    "#### Quando concatenamos com um número, precisamos fazer a conversão."
   ]
  },
  {
   "cell_type": "code",
   "execution_count": 38,
   "metadata": {},
   "outputs": [
    {
     "name": "stdout",
     "output_type": "stream",
     "text": [
      "O valor de pi é aproximadamente 3.14\n"
     ]
    }
   ],
   "source": [
    "str1 = \"O valor de pi é aproximadamente \" + str(3.14)\n",
    "print(str1)"
   ]
  },
  {
   "cell_type": "markdown",
   "metadata": {},
   "source": [
    "#### Métodos básicos de string\n",
    "\n",
    "* len():     mostra o tamanho da string\n",
    "* lower():   caixa baixa\n",
    "* upper():   caixa alta\n",
    "* str():     converte em string\n",
    "* isalpha(): retorna False se a string contiver algum caracter que não seja letras\n",
    "* strip():   remove os espaços em branco do começo e/ou final da string.\n",
    "* replace(): substitui uma string por outra string.\n",
    "* split():   divide a string em substrings se encontrar ocorrências do separador."
   ]
  },
  {
   "cell_type": "code",
   "execution_count": 115,
   "metadata": {},
   "outputs": [
    {
     "name": "stdout",
     "output_type": "stream",
     "text": [
      "Caixa alta:  FELIPE\n",
      "Caixa baixa:  felipe\n",
      "Tamanho:  6\n",
      "Pi:  3.1415\n",
      "Contém apenas letras? False\n",
      "remove todos espaços em branco.\n",
      "FNATEL\n",
      "['Hello', ' World!']\n"
     ]
    }
   ],
   "source": [
    "print(\"Caixa alta: \", \"felipe\".upper())\n",
    "\n",
    "print(\"Caixa baixa: \",\"FELIPE\".lower())\n",
    "\n",
    "print('Tamanho: ', len(\"felipe\"))\n",
    "\n",
    "print(\"Pi: \", str(3.1415))\n",
    "\n",
    "print(\"Contém apenas letras?\", \"ws34rt\".isalpha())\n",
    "\n",
    "print(\"   remove todos espaços em branco.    \".strip())\n",
    "\n",
    "print(\"INATEL\".replace('I','F'))\n",
    "\n",
    "print(\"Hello, World!\".split(\",\"))"
   ]
  },
  {
   "cell_type": "markdown",
   "metadata": {},
   "source": [
    "#### Acessando strings pelo índice"
   ]
  },
  {
   "cell_type": "code",
   "execution_count": 40,
   "metadata": {},
   "outputs": [
    {
     "name": "stdout",
     "output_type": "stream",
     "text": [
      "p\n",
      "y\n",
      "t\n",
      "h\n",
      "o\n",
      "n\n"
     ]
    }
   ],
   "source": [
    "'''\n",
    "+---+---+---+---+---+---+\n",
    "| p | y | t | h | o | n |\n",
    "+---+---+---+---+---+---+\n",
    "  0   1   2   3   4   5\n",
    "'''\n",
    "\n",
    "str1 = 'python'\n",
    "\n",
    "print(str1[0])\n",
    "print(str1[1])\n",
    "print(str1[2])\n",
    "print(str1[3])\n",
    "print(str1[4])\n",
    "print(str1[5])"
   ]
  },
  {
   "cell_type": "markdown",
   "metadata": {},
   "source": [
    "#### Fatiando strings\n",
    "\n",
    "Nós podemos retornar um intervalo de caracteres usando a sintaxe de fatiamento de strings.\n",
    "Especifique o índice inicial e o índice final, separados por dois pontos, para retornar uma parte da string."
   ]
  },
  {
   "cell_type": "code",
   "execution_count": 118,
   "metadata": {},
   "outputs": [
    {
     "name": "stdout",
     "output_type": "stream",
     "text": [
      "llo\n"
     ]
    }
   ],
   "source": [
    "# Imprime os caracteres da posição 2 até a posição 5 (não incluso):\n",
    "b = \"Hello, World!\"\n",
    "print(b[2:5])"
   ]
  },
  {
   "cell_type": "markdown",
   "metadata": {},
   "source": [
    "#### Verificando a ocorrência de uma String\n",
    "\n",
    "Para verificar se uma determinada frase ou caractere está presente em uma string, podemos usar as palavras-chave ```in``` ou ```not in```."
   ]
  },
  {
   "cell_type": "code",
   "execution_count": 117,
   "metadata": {},
   "outputs": [
    {
     "name": "stdout",
     "output_type": "stream",
     "text": [
      "True\n"
     ]
    }
   ],
   "source": [
    "#Verifica se a string \"ain\" está presente no seguinte texto.\n",
    "txt = \"The rain in Spain stays mainly in the plain\"\n",
    "x = \"ain\" in txt\n",
    "print(x)"
   ]
  },
  {
   "cell_type": "markdown",
   "metadata": {},
   "source": [
    "### Exemplo 8 - Módulos e Pacotes Python\n",
    "\n",
    "#### Módulos\n",
    "\n",
    "* Em Python, um módulo é um software que possui uma funcionalidade específica. Por exemplo, em um jogo de vídeo game, um módulo seria responsável pelo processamento de som e outro pelo processamento de imagens.\n",
    "* Cada módulo é um arquivo diferente, que pode ser editado separadamente.\n",
    "* Em Python, módulos são simplesmente arquivos com uma extensão .py.\n",
    "* O nome do módulo será o nome do arquivo.\n",
    "* Um módulo Python pode ter um conjunto de funções, classes ou variáveis definidas e implementadas.\n",
    "* Os módulos são importados de outros módulos usando o comando **import**.\n",
    "* Você pode criar um alias/pseudônimo ao importar um módulo, usando a palavra-chave reservada **as**.\n",
    "* Você pode optar por importar apenas partes de um módulo, usando a palavra-chave reservada **from**. Observe que ao utilizar **from package import item**, o **item** pode ser um subpacote, submódulo, classe, função ou variável.\n",
    "\n",
    "#### Pacotes\n",
    "\n",
    "* Pacotes são **espaços de nomes** (ou do Inglês, **namespaces**) que contêm vários pacotes e módulos. \n",
    "* Eles são simplesmente diretórios, mas que devem conter um arquivo especial chamado \\__init\\__.py.\n",
    "* Esse arquivo indica que aquele diretório é um pacote Python, portanto pode ser importado da mesma maneira que um módulo."
   ]
  },
  {
   "cell_type": "code",
   "execution_count": 41,
   "metadata": {},
   "outputs": [
    {
     "name": "stdout",
     "output_type": "stream",
     "text": [
      "5.0\n",
      "7.0\n",
      "10.0\n"
     ]
    }
   ],
   "source": [
    "# Importa o módulo chamado math e chama a função sqrt().\n",
    "import math # Importa todos os módulos de math\n",
    "print(math.sqrt(25))\n",
    "\n",
    "# Renomeando o módulo math como m.\n",
    "import math as m\n",
    "print(m.sqrt(49))\n",
    "\n",
    "# Importando apenas a função sqrt() do módulo math.\n",
    "from math import sqrt\n",
    "print(sqrt(100))"
   ]
  },
  {
   "cell_type": "markdown",
   "metadata": {},
   "source": [
    "### Exemplo 9 - Operadores artiméticos\n",
    "\n",
    "Operadores aritméticos são usados com valores numéricos para realizar operações matemáticas comuns.\n",
    "\n",
    "| Operador |       Nome      |  Exemplo | Resultado |\n",
    "|:--------:|:---------------:|:--------:|:---------:|\n",
    "|     +    |      Adição     |   1 + 1  |     2     |\n",
    "|     -    |    Subtração    |   2 - 1  |     1     |\n",
    "|     *    |  Multiplicação  |   2 * 2  |     4     |\n",
    "|     /    |     Divisão     |  100 / 4 |    25.0   |\n",
    "|     %    |      Módulo     |   5 % 3  |     2     |\n",
    "|    **    |  Exponenciação  |  2 ** 3  |     8     |\n",
    "|    //    | Divisão inteira | 100 // 4 |     25    |\n",
    "\n",
    "\n",
    "#### Ordem de precedência dos  operadores\n",
    "\n",
    "É importante entender como esses operadores se relacionam no que diz respeito à precedência do operador. A tabela a seguir apresenta a precedência de operadores discutida até agora, da mais alta para a mais baixa.\n",
    "\n",
    "|   Nível   |           Categoria           |  Operadores |               Comentário              |\n",
    "|:---------:|:-----------------------------:|:-----------:|:-------------------------------------:|\n",
    "|  4 (alta) |           parênteses          |      ()     |                                       |\n",
    "|     3     |            expoente           |      **     |                                       |\n",
    "|     2     | multiplicação, divisão, resto | *, /, //, % | Aplicados da direita para a esquerda. |\n",
    "| 1 (baixa) |       adição, subtração       |     +, -    | Aplicados da direita para a esquerda. |"
   ]
  },
  {
   "cell_type": "code",
   "execution_count": 42,
   "metadata": {},
   "outputs": [
    {
     "name": "stdout",
     "output_type": "stream",
     "text": [
      "a + b: 5\n",
      "a - b: -1\n",
      "a * b: 6\n",
      "a / b: 0.6666666666666666\n",
      "a // b: 0\n",
      "a % b: 2\n",
      "a ** 2: 4\n",
      "a ** (1/2):  1.4142135623730951\n",
      "a ** (1/3):  1.2599210498948732\n",
      "m.floor(c):  3\n",
      "m.ceil(c):  4\n",
      "round(c):  3\n"
     ]
    }
   ],
   "source": [
    "# Importamos as bilbiotecas que iremos precisar.\n",
    "import math as m\n",
    "\n",
    "# ------------ Operações com números inteiros ------------\n",
    "a = 2 # 2.0 para operações em ponto flutuante.\n",
    "b = 3 # 3.0\n",
    "\n",
    "# ------------ Adição ------------\n",
    "add = a + b\n",
    "print('a + b:', add)\n",
    "\n",
    "# ------------ Subtração ------------\n",
    "sub = a - b\n",
    "print('a - b:', sub)\n",
    "\n",
    "# ------------ Multiplicação ------------ \n",
    "mul = a * b\n",
    "print('a * b:', mul)\n",
    "\n",
    "# ------------ Divisão ------------\n",
    "# OBS.: O resultado da divisão padrão é sempre um float.\n",
    "div = a / b\n",
    "print('a / b:', div)\n",
    "\n",
    "# ------------ Divisão inteira ------------\n",
    "divInt = a // b\n",
    "print('a // b:', divInt)\n",
    "\n",
    "# ------------ Módulo ------------\n",
    "# OBS.: Esse é o operador que extraí o resto de uma divisão.\n",
    "mod = a % b\n",
    "print('a % b:', mod)\n",
    "\n",
    "# ------------ Exponenciação ------------\n",
    "a_ao_quadrado = a ** 2\n",
    "print('a ** 2:', a_ao_quadrado)\n",
    "\n",
    "# Outra forma de realizar exponenciação é através do uso da função pow da biblioteca math.\n",
    "a_ao_quadrado2 = m.pow(a, 2)\n",
    "\n",
    "# ------------ Radiciação ------------\n",
    "raiz_quadrada_de_a = a ** (1 / 2)\n",
    "print('a ** (1/2): ', raiz_quadrada_de_a)\n",
    "raiz_cubica_de_a = a ** (1 / 3)\n",
    "print('a ** (1/3): ', raiz_cubica_de_a)\n",
    "# Outra forma de calcular a raiz quadrada é através do uso da função sqrt da biblioteca math.\n",
    "raiz_quadrada_de_a = m.sqrt(a)\n",
    "\n",
    "# ------------ Operações de arredondamento ------------\n",
    "c = 3.456\n",
    "# floor() retorna o maior valor inteiro menor do que c\n",
    "floorc = m.floor(c)\n",
    "print('m.floor(c): ',floorc)\n",
    "\n",
    "# ceil() retorna o menor valor inteiro maior do que c\n",
    "ceilc = m.ceil(c)\n",
    "print('m.ceil(c): ',ceilc)\n",
    "\n",
    "# round() é uma das várias funções e tipos \"embutidos\" no interpetador do Python, e portanto, não fazem parte de nenhum lib.\n",
    "# round() retorna o valor inteiro mais proximo de c.\n",
    "roundc = round(c)\n",
    "print('round(c): ',roundc)"
   ]
  },
  {
   "cell_type": "markdown",
   "metadata": {},
   "source": [
    "### Exemplo 10 - Operadores de atribuição\n",
    "\n",
    "Os **operadores de atribuição** são usados para atribuir valores a variáveis. Os operadores de atribuição mais utilizados são mostrados na tabela abaixo.\n",
    "\n",
    "| Operador | Exemplo |   Same As  |\n",
    "|:--------:|:-------:|:----------:|\n",
    "|     =    |  x = 5  |    x = 5   |\n",
    "|    +=    |  x += 3 |  x = x + 3 |\n",
    "|    -=    |  x -= 3 |  x = x - 3 |\n",
    "|    *=    |  x *= 3 |  x = x * 3 |\n",
    "|    /=    |  x /= 3 |  x = x / 3 |\n",
    "|    %=    |  x %= 3 |  x = x % 3 |\n",
    "|    //=   | x //= 3 | x = x // 3 |\n",
    "|    **=   | x **= 3 | x = x ** 3 |"
   ]
  },
  {
   "cell_type": "markdown",
   "metadata": {},
   "source": [
    "Assim como em outras linguagens, Python também possui o que se chama de **operadores de atribuição compostos**, como mostrados na tabela acima. Esses operadores realizam operações com uma variável e atribuem o resultado da operação à aquela mesma variável. Ambos (atribuição e operação) são expressos de maneira compacta em apenas uma instrução.\n",
    "\n",
    "Por exemplo, a expressão:\n",
    "\n",
    "A = A + 2\n",
    "\n",
    "pode ser expressade forma compacta como\n",
    "\n",
    "A += 2\n",
    "\n",
    "Essa forma compacta pode ser utilizada com qualquer operador, seja ele aritmético ou lógico. Veja alguns exemplos abaixo."
   ]
  },
  {
   "cell_type": "code",
   "execution_count": 2,
   "metadata": {},
   "outputs": [
    {
     "name": "stdout",
     "output_type": "stream",
     "text": [
      "a += b:  3\n",
      "a -= b:  0\n",
      "a /= b:  1.0\n",
      "a //= b:  1\n",
      "a *= b:  4\n"
     ]
    }
   ],
   "source": [
    "a = 1\n",
    "b = 2\n",
    "\n",
    "a += b\n",
    "print('a += b: ',a)\n",
    "\n",
    "a = 2\n",
    "b = 2\n",
    "a -= b\n",
    "print('a -= b: ',a)\n",
    "\n",
    "a = 2\n",
    "b = 2\n",
    "a /= b\n",
    "print('a /= b: ',a)\n",
    "\n",
    "a = 2\n",
    "b = 2\n",
    "a //= b\n",
    "print('a //= b: ',a)\n",
    "\n",
    "a = 2\n",
    "b = 2\n",
    "a *= b\n",
    "print('a *= b: ',a)"
   ]
  },
  {
   "cell_type": "markdown",
   "metadata": {},
   "source": [
    "### Exemplo 11 - Definindo uma função em Python\n",
    "\n",
    "* Uma função é um bloco de código **reutilizável** que só é executado quando é chamado.\n",
    "* As funções fornecem uma melhor modularidade para seu programa e um alto grau de reutilização de código.\n",
    "* Você pode passar dados/valores, conhecidos como parâmetros, para uma função.\n",
    "* Uma função pode ou não retornar dados como resultado.\n",
    "* Uma função pode retornar mais de uma expressão/resultado.\n",
    "\n",
    "Você define funções para implementar uma funcionalidade necessária. Algumas regras simples para definir uma função em Python são:\n",
    "\n",
    "* O bloco de código de uma função começa com a palavra-reservada **def** seguida pelo nome da função e parênteses, ().\n",
    "* Quaisquer parâmetros de entrada devem ser colocados entre os parênteses.\n",
    "* A primeira parte do bloco de código de uma função é opcional e define a string de documentação da função ou **docstring**.\n",
    "* O bloco de código de uma função começa com dois pontos (:) e é recudaod, ou seja, indentado.\n",
    "* A instrução **return [expression]** termina a execução de uma função, opcionalmente retornando uma expressão ao chamador da função.\n",
    "* Uma declaração de retorno sem argumentos é igual a retorno **None**.\n",
    "* Uma função sem uma especificação explicita de retorno sempre retorna **None**.\n",
    "\n",
    "**OBS.**: a diferença entre parâmetro e argumento é que o parâmetro é o que é declarado na função, enquanto um argumento é o que é passado ao se chamar a função."
   ]
  },
  {
   "cell_type": "code",
   "execution_count": 44,
   "metadata": {},
   "outputs": [],
   "source": [
    "def nome_da_função(lista_de_parametros):\n",
    "    '''Como se define uma função em Python'''\n",
    "    return valor_de_retorno"
   ]
  },
  {
   "cell_type": "code",
   "execution_count": 45,
   "metadata": {},
   "outputs": [],
   "source": [
    "# A função a seguir realiza a soma de 2 números.\n",
    "\n",
    "def soma(a, b):\n",
    "    '''Esta função soma dois valores.'''\n",
    "    soma = a + b\n",
    "    return soma"
   ]
  },
  {
   "cell_type": "markdown",
   "metadata": {},
   "source": [
    "A função a seguir retorna mais de um resultado.\n",
    "\n",
    "**OBS.: Os diferentes valores/expressões de retorno são separadas por vírgulas.**"
   ]
  },
  {
   "cell_type": "code",
   "execution_count": 46,
   "metadata": {},
   "outputs": [],
   "source": [
    "def foo(a, b):\n",
    "    return a+b, a-b"
   ]
  },
  {
   "cell_type": "markdown",
   "metadata": {},
   "source": [
    "### Exemplo 12 - Chamando uma função\n",
    "\n",
    "A definição de uma função apenas fornece/define um nome, especifica os parâmetros que devem ser incluídos na função e o bloco de código da função.\n",
    "\n",
    "Depois que a estrutura básica de uma função é finalizada, você pode executá-la chamando-a de outra função, diretamente do prompt do Python, ou de uma célula do notebook Jupyter. A seguir está o exemplo para chamar a função **soma()**:"
   ]
  },
  {
   "cell_type": "code",
   "execution_count": 47,
   "metadata": {},
   "outputs": [
    {
     "name": "stdout",
     "output_type": "stream",
     "text": [
      "soma(a, b):  3\n"
     ]
    }
   ],
   "source": [
    "a = 1\n",
    "b = 2\n",
    "resultado = soma(a, b)\n",
    "\n",
    "print('soma(a, b): ', resultado)"
   ]
  },
  {
   "cell_type": "markdown",
   "metadata": {},
   "source": [
    "#### Recebendo os valores de retorno de uma função com mais de um valor de retorno"
   ]
  },
  {
   "cell_type": "code",
   "execution_count": 48,
   "metadata": {},
   "outputs": [
    {
     "name": "stdout",
     "output_type": "stream",
     "text": [
      "soma:  10\n",
      "subtração:  0\n"
     ]
    }
   ],
   "source": [
    "soma, sub = foo(5, 5)\n",
    "\n",
    "print('soma: ',soma)\n",
    "print('subtração: ',sub)"
   ]
  },
  {
   "cell_type": "markdown",
   "metadata": {},
   "source": [
    "### Exemplo 13 - Parâmetros padrão\n",
    "\n",
    "Um parâmetro padrão é um parâmetro que assume um valor padrão se um valor não for fornecido na chamada da função para esse parâmetro."
   ]
  },
  {
   "cell_type": "code",
   "execution_count": 49,
   "metadata": {},
   "outputs": [
    {
     "name": "stdout",
     "output_type": "stream",
     "text": [
      "Nome: felipe\n",
      "Idade:  50\n",
      "Nome: felipe\n",
      "Idade:  35\n"
     ]
    }
   ],
   "source": [
    "def imprimeInfo(nome, idade=35):\n",
    "    '''Imprime as informações passadas para a função.'''\n",
    "    print('Nome:', nome)\n",
    "    print('Idade: ', idade)\n",
    "\n",
    "# Agora chamamos a  função.\n",
    "imprimeInfo(idade=50, nome=\"felipe\")\n",
    "imprimeInfo(nome=\"felipe\")"
   ]
  },
  {
   "cell_type": "markdown",
   "metadata": {},
   "source": [
    "## Mensagens de Erro\n",
    "\n",
    "Ao tentar interpretar o código que escrevemos, o Python avisa quando alguma coisa não foi compreendida através de mensagens de erro. **É importante ler as mensagens para saber onde erramos.**\n",
    "\n",
    "### Erros Frequentes\n",
    "\n",
    "* **SyntaxError**: erros de sintaxe. Esses erros significam que alguma palavra foi escrita incorretamente, ou que algum símbolo foi esquecido (por exemplo, o **:** ao final da definição de uma função).\n",
    "* **IndentationError**: alguma linha está com a indentação incorreta.\n",
    "* **NameError**: erro de nome. Significa que algum nome foi usado sem ser anteriormente definido. Ocorre por exemplo ao chamar uma função que ainda não foi definida.\n",
    "\n",
    "Veja os exemplos a seguir:"
   ]
  },
  {
   "cell_type": "code",
   "execution_count": 50,
   "metadata": {},
   "outputs": [
    {
     "ename": "SyntaxError",
     "evalue": "invalid syntax (<ipython-input-50-9a0a6b25afeb>, line 1)",
     "output_type": "error",
     "traceback": [
      "\u001b[1;36m  File \u001b[1;32m\"<ipython-input-50-9a0a6b25afeb>\"\u001b[1;36m, line \u001b[1;32m1\u001b[0m\n\u001b[1;33m    def mult(x,y)\u001b[0m\n\u001b[1;37m                 ^\u001b[0m\n\u001b[1;31mSyntaxError\u001b[0m\u001b[1;31m:\u001b[0m invalid syntax\n"
     ]
    }
   ],
   "source": [
    "def mult(x,y)\n",
    "    return x*y"
   ]
  },
  {
   "cell_type": "code",
   "execution_count": 51,
   "metadata": {},
   "outputs": [
    {
     "ename": "IndentationError",
     "evalue": "expected an indented block (<ipython-input-51-743a3735b31f>, line 2)",
     "output_type": "error",
     "traceback": [
      "\u001b[1;36m  File \u001b[1;32m\"<ipython-input-51-743a3735b31f>\"\u001b[1;36m, line \u001b[1;32m2\u001b[0m\n\u001b[1;33m    return x*y\u001b[0m\n\u001b[1;37m    ^\u001b[0m\n\u001b[1;31mIndentationError\u001b[0m\u001b[1;31m:\u001b[0m expected an indented block\n"
     ]
    }
   ],
   "source": [
    "def mult(x,y):\n",
    "return x*y"
   ]
  },
  {
   "cell_type": "code",
   "execution_count": 52,
   "metadata": {},
   "outputs": [
    {
     "ename": "NameError",
     "evalue": "name 'bar' is not defined",
     "output_type": "error",
     "traceback": [
      "\u001b[1;31m---------------------------------------------------------------------------\u001b[0m",
      "\u001b[1;31mNameError\u001b[0m                                 Traceback (most recent call last)",
      "\u001b[1;32m<ipython-input-52-fa75f8a42ea0>\u001b[0m in \u001b[0;36m<module>\u001b[1;34m\u001b[0m\n\u001b[1;32m----> 1\u001b[1;33m \u001b[0mbar\u001b[0m\u001b[1;33m(\u001b[0m\u001b[0ma\u001b[0m\u001b[1;33m,\u001b[0m\u001b[0mb\u001b[0m\u001b[1;33m)\u001b[0m\u001b[1;33m\u001b[0m\u001b[1;33m\u001b[0m\u001b[0m\n\u001b[0m",
      "\u001b[1;31mNameError\u001b[0m: name 'bar' is not defined"
     ]
    }
   ],
   "source": [
    "bar(a,b)"
   ]
  },
  {
   "cell_type": "markdown",
   "metadata": {},
   "source": [
    "## Alguns exemplos interessantes.\n",
    "\n",
    "Os exemplos a seguir utilizam importantes bilbiotecas disponibilizados pelo ecossistema do Python."
   ]
  },
  {
   "cell_type": "code",
   "execution_count": 92,
   "metadata": {},
   "outputs": [
    {
     "name": "stdout",
     "output_type": "stream",
     "text": [
      "Requirement already satisfied: numpy in c:\\users\\felipe.figueiredo\\anaconda3\\lib\\site-packages (1.19.1)\n",
      "Requirement already satisfied: matplotlib in c:\\users\\felipe.figueiredo\\anaconda3\\lib\\site-packages (3.2.2)\n",
      "Requirement already satisfied: python-dateutil>=2.1 in c:\\users\\felipe.figueiredo\\anaconda3\\lib\\site-packages (from matplotlib) (2.8.1)\n",
      "Requirement already satisfied: kiwisolver>=1.0.1 in c:\\users\\felipe.figueiredo\\anaconda3\\lib\\site-packages (from matplotlib) (1.2.0)\n",
      "Requirement already satisfied: pyparsing!=2.0.4,!=2.1.2,!=2.1.6,>=2.0.1 in c:\\users\\felipe.figueiredo\\anaconda3\\lib\\site-packages (from matplotlib) (2.4.7)\n",
      "Requirement already satisfied: cycler>=0.10 in c:\\users\\felipe.figueiredo\\anaconda3\\lib\\site-packages (from matplotlib) (0.10.0)\n",
      "Requirement already satisfied: numpy>=1.11 in c:\\users\\felipe.figueiredo\\anaconda3\\lib\\site-packages (from matplotlib) (1.19.1)\n",
      "Requirement already satisfied: six>=1.5 in c:\\users\\felipe.figueiredo\\anaconda3\\lib\\site-packages (from python-dateutil>=2.1->matplotlib) (1.15.0)\n",
      "Requirement already satisfied: sklearn in c:\\users\\felipe.figueiredo\\anaconda3\\lib\\site-packages (0.0)\n",
      "Requirement already satisfied: scikit-learn in c:\\users\\felipe.figueiredo\\anaconda3\\lib\\site-packages (from sklearn) (0.23.1)\n",
      "Requirement already satisfied: numpy>=1.13.3 in c:\\users\\felipe.figueiredo\\anaconda3\\lib\\site-packages (from scikit-learn->sklearn) (1.19.1)\n",
      "Requirement already satisfied: scipy>=0.19.1 in c:\\users\\felipe.figueiredo\\anaconda3\\lib\\site-packages (from scikit-learn->sklearn) (1.5.0)\n",
      "Requirement already satisfied: joblib>=0.11 in c:\\users\\felipe.figueiredo\\anaconda3\\lib\\site-packages (from scikit-learn->sklearn) (0.16.0)\n",
      "Requirement already satisfied: threadpoolctl>=2.0.0 in c:\\users\\felipe.figueiredo\\anaconda3\\lib\\site-packages (from scikit-learn->sklearn) (2.1.0)\n",
      "Requirement already satisfied: opencv-python in c:\\users\\felipe.figueiredo\\anaconda3\\lib\\site-packages (4.3.0.36)\n",
      "Requirement already satisfied: numpy>=1.17.3 in c:\\users\\felipe.figueiredo\\anaconda3\\lib\\site-packages (from opencv-python) (1.19.1)\n"
     ]
    }
   ],
   "source": [
    "# Instala alguns pacotes necessários no kernel Jupyter corrente.\n",
    "#OBS.: Isso pode demorar algum tempo, tenha paciência.\n",
    "import sys\n",
    "!{sys.executable} -m pip install numpy\n",
    "!{sys.executable} -m pip install matplotlib\n",
    "!{sys.executable} -m pip install sklearn\n",
    "!{sys.executable} -m pip install opencv-python"
   ]
  },
  {
   "cell_type": "markdown",
   "metadata": {},
   "source": [
    "### Ajuste de curva com SciKit-Learn"
   ]
  },
  {
   "cell_type": "code",
   "execution_count": 93,
   "metadata": {},
   "outputs": [
    {
     "data": {
      "application/vnd.jupyter.widget-view+json": {
       "model_id": "085629d694954237942047362eb6194e",
       "version_major": 2,
       "version_minor": 0
      },
      "text/plain": [
       "Canvas(toolbar=Toolbar(toolitems=[('Home', 'Reset original view', 'home', 'home'), ('Back', 'Back to previous …"
      ]
     },
     "metadata": {},
     "output_type": "display_data"
    }
   ],
   "source": [
    "# Possibilita que figuras interativas sejam plotadas externamente ao notebook.\n",
    "%matplotlib widget\n",
    "\n",
    "# Importa todas os módulos necessários.\n",
    "import numpy as np\n",
    "import matplotlib.pyplot as plt\n",
    "# Importa a classe MLPRegressor do módulo de redes neurais do pacote Sci-Kit.\n",
    "from sklearn.neural_network import MLPRegressor\n",
    "from sklearn.preprocessing import StandardScaler\n",
    "\n",
    "# Fecha todas as figuras.\n",
    "plt.close('all')\n",
    "\n",
    "# Gera números no intrevalo de -10 a 10 com espaçamento de 0.1 entre valores subsequentes.\n",
    "x = np.arange(-10, 10, 0.1)\n",
    "\n",
    "# Dados originais.\n",
    "y = 3 * np.exp(-0.05*x) + 12 + 1.4 * np.sin(1.2*x) + 2.1 * np.sin(-2.2*x + 3)\n",
    "\n",
    "# Faz com que o gerador de numeros aleatorios sempre forneca os mesmos valores.\n",
    "np.random.seed(42) \n",
    "\n",
    "# Adiciona ruído aos dados originais.\n",
    "y_noise = y + np.random.normal(0, 0.5, size = len(y))\n",
    "\n",
    "# O MLPRegressor trata o ajuste de curva como um problema de regressao.\n",
    "mlp = MLPRegressor(hidden_layer_sizes=(30,20,10), max_iter=5000, solver='lbfgs', alpha=0.9, activation='tanh', random_state=8)\n",
    "\n",
    "# Padronizando os atributos de entrada.\n",
    "scaler = StandardScaler()\n",
    "X_train = scaler.fit_transform(x[:, None])\n",
    "\n",
    "# Treina o modelo de rede neural para que se ajuste aos dados.\n",
    "mlp.fit(X_train, y_noise)\n",
    "\n",
    "# Realiza predição com o modelo treinado.\n",
    "ypred = mlp.predict(X_train)\n",
    "\n",
    "# Plota figura.\n",
    "plt.figure(figsize = (7,5))\n",
    "plt.plot(x, y_noise, 'o', label = 'dado original + ruido')\n",
    "plt.plot(x, y, 'k', label = 'dado original')\n",
    "plt.plot(x, ypred, '-r', label = 'curva ajustada com MLP', zorder = 10)\n",
    "plt.legend()\n",
    "plt.xlabel('X')\n",
    "plt.ylabel('y')\n",
    "plt.show()"
   ]
  },
  {
   "cell_type": "markdown",
   "metadata": {},
   "source": [
    "### Plotando histogramas com matplotlib"
   ]
  },
  {
   "cell_type": "code",
   "execution_count": 94,
   "metadata": {},
   "outputs": [
    {
     "data": {
      "application/vnd.jupyter.widget-view+json": {
       "model_id": "270d7cc804744a21be202f77f7087e5c",
       "version_major": 2,
       "version_minor": 0
      },
      "text/plain": [
       "Canvas(toolbar=Toolbar(toolitems=[('Home', 'Reset original view', 'home', 'home'), ('Back', 'Back to previous …"
      ]
     },
     "metadata": {},
     "output_type": "display_data"
    }
   ],
   "source": [
    "# Importa os módulos necessários.\n",
    "import numpy as np\n",
    "import matplotlib.pyplot as plt\n",
    "\n",
    "# Gera 1e6 valores aleatórios.\n",
    "data = np.random.randn(1000000)\n",
    "\n",
    "# Plota o histograma.\n",
    "plt.figure(figsize = (7,5))\n",
    "plt.subplot(1, 2, 1)\n",
    "plt.title('PDF')\n",
    "plt.hist(data , bins=100, density=True , color='b')\n",
    "\n",
    "# Plota a CDF empirica.\n",
    "plt.subplot(1, 2, 2)\n",
    "plt.title('CDF')\n",
    "plt.hist(data , bins=100, density=True , color='g', cumulative=True)\n",
    "\n",
    "# salva figura em arquivo .png.\n",
    "plt.savefig('histogram.png') \n",
    "plt.show()"
   ]
  },
  {
   "cell_type": "markdown",
   "metadata": {},
   "source": [
    "### Plotando figuras 3D com matplotlib"
   ]
  },
  {
   "cell_type": "code",
   "execution_count": 95,
   "metadata": {},
   "outputs": [
    {
     "data": {
      "application/vnd.jupyter.widget-view+json": {
       "model_id": "21307154f25a4cdd8108b0923aabce64",
       "version_major": 2,
       "version_minor": 0
      },
      "text/plain": [
       "Canvas(toolbar=Toolbar(toolitems=[('Home', 'Reset original view', 'home', 'home'), ('Back', 'Back to previous …"
      ]
     },
     "metadata": {},
     "output_type": "display_data"
    }
   ],
   "source": [
    "# Imposta os módulos necessários.\n",
    "from mpl_toolkits.mplot3d import Axes3D \n",
    "import matplotlib.pyplot as plt\n",
    "from matplotlib import cm\n",
    "from matplotlib.ticker import LinearLocator, FormatStrFormatter\n",
    "import numpy as np\n",
    "\n",
    "fig = plt.figure()\n",
    "ax = fig.gca(projection='3d')\n",
    "\n",
    "# Cria dados.\n",
    "X = np.arange(-5, 5, 0.25)\n",
    "Y = np.arange(-5, 5, 0.25)\n",
    "X, Y = np.meshgrid(X, Y)\n",
    "R = np.sqrt(X**2 + Y**2)\n",
    "Z = np.sin(R)\n",
    "\n",
    "# Plota a superfície.\n",
    "surf = ax.plot_surface(X, Y, Z, cmap=cm.coolwarm, linewidth=0, antialiased=False)\n",
    "\n",
    "# Customiza o eixo z.\n",
    "ax.set_zlim(-1.01, 1.01)\n",
    "ax.zaxis.set_major_locator(LinearLocator(10))\n",
    "ax.zaxis.set_major_formatter(FormatStrFormatter('%.02f'))\n",
    "\n",
    "# Adiciona uma barra de cores que mapeia valores para cores diferentes.\n",
    "fig.colorbar(surf, shrink=0.5, aspect=5)\n",
    "\n",
    "# Salva figura em arquivo .png.\n",
    "plt.savefig('figura3d.png')\n",
    "\n",
    "plt.show()"
   ]
  },
  {
   "cell_type": "markdown",
   "metadata": {},
   "source": [
    "### Resolvendo equações com sympy"
   ]
  },
  {
   "cell_type": "code",
   "execution_count": 96,
   "metadata": {},
   "outputs": [
    {
     "data": {
      "image/png": "[encoded data removed]",
      "text/latex": [
       "$\\displaystyle \\left[ \\frac{- b + \\sqrt{- 4 a c + b^{2}}}{2 a}, \\  - \\frac{b + \\sqrt{- 4 a c + b^{2}}}{2 a}\\right]$"
      ],
      "text/plain": [
       "⎡        _____________   ⎛       _____________⎞ ⎤\n",
       "⎢       ╱           2    ⎜      ╱           2 ⎟ ⎥\n",
       "⎢-b + ╲╱  -4⋅a⋅c + b    -⎝b + ╲╱  -4⋅a⋅c + b  ⎠ ⎥\n",
       "⎢─────────────────────, ────────────────────────⎥\n",
       "⎣         2⋅a                     2⋅a           ⎦"
      ]
     },
     "execution_count": 96,
     "metadata": {},
     "output_type": "execute_result"
    }
   ],
   "source": [
    "import sympy\n",
    "sympy.init_printing()\n",
    "\n",
    "a, b, c, x = sympy.symbols(('a', 'b', 'c', 'x'))\n",
    "quadratic_equation = sympy.Eq(a*x**2+b*x+c, 0)\n",
    "sympy.solve(quadratic_equation, x)"
   ]
  },
  {
   "cell_type": "code",
   "execution_count": 97,
   "metadata": {},
   "outputs": [
    {
     "data": {
      "image/png": "[encoded data removed]",
      "text/latex": [
       "$\\displaystyle x \\log{\\left(x \\right)}^{2} - 2 x \\log{\\left(x \\right)} + 2 x$"
      ],
      "text/plain": [
       "     2                      \n",
       "x⋅log (x) - 2⋅x⋅log(x) + 2⋅x"
      ]
     },
     "execution_count": 97,
     "metadata": {},
     "output_type": "execute_result"
    }
   ],
   "source": [
    "# Resolvendo integrais indefinidas.\n",
    "integrand = sympy.log(x)**2\n",
    "sympy.integrate(integrand, x)"
   ]
  },
  {
   "cell_type": "markdown",
   "metadata": {},
   "source": [
    "###  Gráficos com Pandas e Bokeh"
   ]
  },
  {
   "cell_type": "code",
   "execution_count": 98,
   "metadata": {},
   "outputs": [
    {
     "name": "stderr",
     "output_type": "stream",
     "text": [
      "BokehDeprecationWarning: 'legend' keyword is deprecated, use explicit 'legend_label', 'legend_field', or 'legend_group' keywords instead\n"
     ]
    }
   ],
   "source": [
    "from math import pi\n",
    "\n",
    "import pandas as pd\n",
    "\n",
    "from bokeh.io import output_file, show\n",
    "from bokeh.palettes import Category20c\n",
    "from bokeh.plotting import figure\n",
    "from bokeh.transform import cumsum\n",
    "\n",
    "output_file(\"pie.html\")\n",
    "\n",
    "x = {\n",
    "    'United States': 157,\n",
    "    'United Kingdom': 93,\n",
    "    'Japan': 89,\n",
    "    'China': 63,\n",
    "    'Germany': 44,\n",
    "    'India': 42,\n",
    "    'Italy': 40,\n",
    "    'Australia': 35,\n",
    "    'Brazil': 32,\n",
    "    'France': 31,\n",
    "    'Taiwan': 31,\n",
    "    'Spain': 29\n",
    "}\n",
    "\n",
    "data = pd.Series(x).reset_index(name='value').rename(columns={'index':'country'})\n",
    "data['angle'] = data['value']/data['value'].sum() * 2*pi\n",
    "data['color'] = Category20c[len(x)]\n",
    "\n",
    "p = figure(plot_height=350, title=\"Pie Chart\", toolbar_location=None,\n",
    "           tools=\"hover\", tooltips=\"@country: @value\", x_range=(-0.5, 1.0))\n",
    "\n",
    "p.wedge(x=0, y=1, radius=0.4,\n",
    "        start_angle=cumsum('angle', include_zero=True), end_angle=cumsum('angle'),\n",
    "        line_color=\"white\", fill_color='color', legend='country', source=data)\n",
    "\n",
    "p.axis.axis_label=None\n",
    "p.axis.visible=False\n",
    "p.grid.grid_line_color = None\n",
    "\n",
    "show(p)"
   ]
  },
  {
   "cell_type": "markdown",
   "metadata": {},
   "source": [
    "### Projeto e uso de filtro FIR passa-baixo usando scipy"
   ]
  },
  {
   "cell_type": "code",
   "execution_count": 99,
   "metadata": {},
   "outputs": [
    {
     "data": {
      "application/vnd.jupyter.widget-view+json": {
       "model_id": "db3537038779426d8d0702947278e8a9",
       "version_major": 2,
       "version_minor": 0
      },
      "text/plain": [
       "Canvas(toolbar=Toolbar(toolitems=[('Home', 'Reset original view', 'home', 'home'), ('Back', 'Back to previous …"
      ]
     },
     "metadata": {},
     "output_type": "display_data"
    },
    {
     "data": {
      "application/vnd.jupyter.widget-view+json": {
       "model_id": "238a2e1dfec041138487383c814d34b8",
       "version_major": 2,
       "version_minor": 0
      },
      "text/plain": [
       "Canvas(toolbar=Toolbar(toolitems=[('Home', 'Reset original view', 'home', 'home'), ('Back', 'Back to previous …"
      ]
     },
     "metadata": {},
     "output_type": "display_data"
    },
    {
     "data": {
      "application/vnd.jupyter.widget-view+json": {
       "model_id": "772fcc7a0f134e44b8295e6431156486",
       "version_major": 2,
       "version_minor": 0
      },
      "text/plain": [
       "Canvas(toolbar=Toolbar(toolitems=[('Home', 'Reset original view', 'home', 'home'), ('Back', 'Back to previous …"
      ]
     },
     "metadata": {},
     "output_type": "display_data"
    }
   ],
   "source": [
    "from numpy import cos, sin, pi, absolute, arange\n",
    "from scipy.signal import kaiserord, lfilter, firwin, freqz\n",
    "from pylab import figure, clf, plot, xlabel, ylabel, xlim, ylim, title, grid, axes, show\n",
    "\n",
    "#------------------------------------------------\n",
    "# Create a signal for demonstration.\n",
    "#------------------------------------------------\n",
    "sample_rate = 100.0\n",
    "nsamples = 400\n",
    "t = arange(nsamples) / sample_rate\n",
    "x = cos(2*pi*0.5*t) + 0.2*sin(2*pi*2.5*t+0.1) + \\\n",
    "        0.2*sin(2*pi*15.3*t) + 0.1*sin(2*pi*16.7*t + 0.1) + \\\n",
    "            0.1*sin(2*pi*23.45*t+.8)\n",
    "\n",
    "#------------------------------------------------\n",
    "# Create a FIR filter and apply it to x.\n",
    "#------------------------------------------------\n",
    "# The Nyquist rate of the signal.\n",
    "nyq_rate = sample_rate / 2.0\n",
    "\n",
    "# The desired width of the transition from pass to stop,\n",
    "# relative to the Nyquist rate.  We'll design the filter\n",
    "# with a 5 Hz transition width.\n",
    "width = 5.0/nyq_rate\n",
    "\n",
    "# The desired attenuation in the stop band, in dB.\n",
    "ripple_db = 60.0\n",
    "\n",
    "# Compute the order and Kaiser parameter for the FIR filter.\n",
    "N, beta = kaiserord(ripple_db, width)\n",
    "\n",
    "# The cutoff frequency of the filter.\n",
    "cutoff_hz = 10.0\n",
    "\n",
    "# Use firwin with a Kaiser window to create a lowpass FIR filter.\n",
    "taps = firwin(N, cutoff_hz/nyq_rate, window=('kaiser', beta))\n",
    "\n",
    "# Use lfilter to filter x with the FIR filter.\n",
    "filtered_x = lfilter(taps, 1.0, x)\n",
    "\n",
    "#------------------------------------------------\n",
    "# Plot the FIR filter coefficients.\n",
    "#------------------------------------------------\n",
    "plt.figure()\n",
    "plt.plot(taps, 'bo-', linewidth=2)\n",
    "plt.title('Filter Coefficients (%d taps)' % N)\n",
    "plt.grid(True)\n",
    "\n",
    "#------------------------------------------------\n",
    "# Plot the magnitude response of the filter.\n",
    "#------------------------------------------------\n",
    "plt.figure()\n",
    "plt.clf()\n",
    "w, h = freqz(taps, worN=8000)\n",
    "plt.plot((w/pi)*nyq_rate, absolute(h), linewidth=2)\n",
    "plt.xlabel('Frequency (Hz)')\n",
    "plt.ylabel('Gain')\n",
    "plt.title('Frequency Response')\n",
    "plt.ylim(-0.05, 1.05)\n",
    "plt.grid(True)\n",
    "\n",
    "# Upper inset plot.\n",
    "ax1 = plt.axes([0.42, 0.6, .45, .25])\n",
    "plt.plot((w/pi)*nyq_rate, absolute(h), linewidth=2)\n",
    "plt.xlim(0,8.0)\n",
    "plt.ylim(0.9985, 1.001)\n",
    "plt.grid(True)\n",
    "\n",
    "# Lower inset plot\n",
    "ax2 = plt.axes([0.42, 0.25, .45, .25])\n",
    "plt.plot((w/pi)*nyq_rate, absolute(h), linewidth=2)\n",
    "plt.xlim(12.0, 20.0)\n",
    "plt.ylim(0.0, 0.0025)\n",
    "plt.grid(True)\n",
    "\n",
    "#------------------------------------------------\n",
    "# Plot the original and filtered signals.\n",
    "#------------------------------------------------\n",
    "# The phase delay of the filtered signal.\n",
    "delay = 0.5 * (N-1) / sample_rate\n",
    "\n",
    "plt.figure()\n",
    "# Plot the original signal.\n",
    "plt.plot(t, x)\n",
    "# Plot the filtered signal, shifted to compensate for the phase delay.\n",
    "plt.plot(t-delay, filtered_x, 'r-')\n",
    "# Plot just the \"good\" part of the filtered signal.  The first N-1\n",
    "# samples are \"corrupted\" by the initial conditions.\n",
    "plt.plot(t[N-1:]-delay, filtered_x[N-1:], 'g', linewidth=4)\n",
    "\n",
    "plt.xlabel('t')\n",
    "plt.grid(True)\n",
    "\n",
    "plt.show()\n"
   ]
  },
  {
   "cell_type": "markdown",
   "metadata": {},
   "source": [
    "### Detecção de bordas ou arestas com SciKit-Image"
   ]
  },
  {
   "cell_type": "code",
   "execution_count": 100,
   "metadata": {},
   "outputs": [
    {
     "data": {
      "application/vnd.jupyter.widget-view+json": {
       "model_id": "a568c0e0b2fd4a9e8c84a3aced8937ae",
       "version_major": 2,
       "version_minor": 0
      },
      "text/plain": [
       "Canvas(toolbar=Toolbar(toolitems=[('Home', 'Reset original view', 'home', 'home'), ('Back', 'Back to previous …"
      ]
     },
     "metadata": {},
     "output_type": "display_data"
    }
   ],
   "source": [
    "import matplotlib.pyplot as plt\n",
    "\n",
    "from skimage import filters\n",
    "from skimage.data import camera\n",
    "from skimage.util import compare_images\n",
    "\n",
    "image = camera()\n",
    "edge_roberts = filters.roberts(image)\n",
    "edge_sobel = filters.sobel(image)\n",
    "\n",
    "fig, axes = plt.subplots(ncols=3, sharex=True, sharey=True, figsize=(8, 4))\n",
    "\n",
    "axes[0].imshow(image, cmap=plt.cm.gray)\n",
    "axes[0].set_title('Original image')\n",
    "\n",
    "axes[1].imshow(edge_roberts, cmap=plt.cm.gray)\n",
    "axes[1].set_title('Roberts Edge Detection')\n",
    "\n",
    "axes[2].imshow(edge_sobel, cmap=plt.cm.gray)\n",
    "axes[2].set_title('Sobel Edge Detection')\n",
    "\n",
    "for ax in axes: ax.axis('off')\n",
    "\n",
    "plt.tight_layout()\n",
    "plt.show()"
   ]
  },
  {
   "cell_type": "markdown",
   "metadata": {},
   "source": [
    "## Extração de primeiro plano com OpenCV"
   ]
  },
  {
   "cell_type": "code",
   "execution_count": 101,
   "metadata": {},
   "outputs": [
    {
     "data": {
      "application/vnd.jupyter.widget-view+json": {
       "model_id": "af85bfb6588a453aa20e2982be7a6b6f",
       "version_major": 2,
       "version_minor": 0
      },
      "text/plain": [
       "Canvas(toolbar=Toolbar(toolitems=[('Home', 'Reset original view', 'home', 'home'), ('Back', 'Back to previous …"
      ]
     },
     "metadata": {},
     "output_type": "display_data"
    }
   ],
   "source": [
    "import numpy as np\n",
    "import cv2\n",
    "from matplotlib import pyplot as plt\n",
    "\n",
    "imgOrig = img = cv2.imread('../figures/messi5.jpg')\n",
    "mask = np.zeros(img.shape[:2],np.uint8)\n",
    "\n",
    "bgdModel = np.zeros((1,65),np.float64)\n",
    "fgdModel = np.zeros((1,65),np.float64)\n",
    "\n",
    "rect = (50,50,450,290)\n",
    "cv2.grabCut(img,mask,rect,bgdModel,fgdModel,5,cv2.GC_INIT_WITH_RECT)\n",
    "\n",
    "mask2 = np.where((mask==2)|(mask==0),0,1).astype('uint8')\n",
    "img = img*mask2[:,:,np.newaxis]\n",
    "\n",
    "# newmask is the mask image I manually labelled\n",
    "newmask = cv2.imread('../figures/newmask.jpg',0)\n",
    "mask[newmask == 0] = 0\n",
    "mask[newmask == 255] = 1\n",
    "mask, bgdModel, fgdModel = cv2.grabCut(img,mask,None,bgdModel,fgdModel,5,cv2.GC_INIT_WITH_MASK)\n",
    "mask = np.where((mask==2)|(mask==0),0,1).astype('uint8')\n",
    "img = img*mask[:,:,np.newaxis]\n",
    "\n",
    "fig, axes = plt.subplots(ncols=2, sharex=True, sharey=True, figsize=(8, 4))\n",
    "axes[0].imshow(imgOrig)\n",
    "axes[1].imshow(img)\n",
    "plt.show()"
   ]
  },
  {
   "cell_type": "markdown",
   "metadata": {},
   "source": [
    "## Tarefas\n",
    "\n",
    "1. <span style=\"color:blue\">**QUIZ - Conceitos iniciais**</span>: respondam ao quiz sobre conceitos básicos no MS teams, por favor.\n",
    "2. <span style=\"color:blue\">**Laboratório #1**</span>: cliquem em um dos links abaixo para accessar os exercícios do laboratório #1.\n",
    "\n",
    "[![Binder](https://mybinder.org/badge_logo.svg)](https://mybinder.org/v2/gh/zz4fap/python-programming/master?filepath=labs%2FLaboratorio1.ipynb)\n",
    "\n",
    "[![Google Colab](https://badgen.net/badge/Launch/on%20Google%20Colab/blue?icon=terminal)](https://colab.research.google.com/github/zz4fap/python-programming/blob/master/labs/Laboratorio1.ipynb)"
   ]
  },
  {
   "cell_type": "markdown",
   "metadata": {},
   "source": [
    "## Avisos\n",
    "\n",
    "* Se atentem aos prazos de entrega das tarefas na aba de **Avaliações** do MS Teams.\n",
    "* Horário de atendimento todas as Quintas-feiras as 17:30 às 19:30 via MS Teams enquanto as aulas presenciais não retornam."
   ]
  },
  {
   "cell_type": "markdown",
   "metadata": {},
   "source": [
    "## Folha de Dicas (Cheat Sheet)\n",
    "\n",
    "* O documento no link seguinte contêm várias dicas para que você não precise decorar nenhum comando: [cheat sheet](../docs/folha-de-dicas-cheat-sheet-python3.pdf)\n",
    "\n",
    "## Referências: apostilas e tutoriais disponíveis gratuitamente na web\n",
    "\n",
    "1. LABAKI, Josué, Introdução a Python - Módulo A, http://www.dcc.ufrj.br/~fabiom/python/pythonbasico.pdf\n",
    "\n",
    "2. BORGES, Luís Eduardo, Python para Desenvolvedores, https://ark4n.files.wordpress.com/2010/01/python_para_desenvolvedores_2ed.pdf\n",
    "\n",
    "3. VAN ROSSUM, Guido, O Tutorial Python, https://docs.python.org/pt-br/3/tutorial/index.html\n",
    "\n",
    "4. DOWNEY, Allen Downey; ELKNER, Jeff, e MEYERS, Chris, Aprenda Computação com Python 3.0, https://mange.ifrn.edu.br/python/aprenda-com-py3/index.html\n",
    "\n",
    "5. MILLER, Brad Miller e RANUM, David, How to Think Like a Computer Scientist: Interactive Edition, https://runestone.academy/runestone/books/published/thinkcspy/index.html\n",
    "\n",
    "\n",
    "<img src=\"../figures/obrigado.png\" width=\"1000\" height=\"1000\">\n",
    "\n",
    "\n"
   ]
  },
  {
   "cell_type": "code",
   "execution_count": null,
   "metadata": {},
   "outputs": [],
   "source": []
  },
  {
   "cell_type": "code",
   "execution_count": null,
   "metadata": {},
   "outputs": [],
   "source": []
  }
 ],
 "metadata": {
  "kernelspec": {
   "display_name": "Python 3",
   "language": "python",
   "name": "python3"
  },
  "language_info": {
   "codemirror_mode": {
    "name": "ipython",
    "version": 3
   },
   "file_extension": ".py",
   "mimetype": "text/x-python",
   "name": "python",
   "nbconvert_exporter": "python",
   "pygments_lexer": "ipython3",
   "version": "3.8.3"
  }
 },
 "nbformat": 4,
 "nbformat_minor": 4
}
