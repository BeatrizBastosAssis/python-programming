{
 "cells": [
  {
   "cell_type": "markdown",
   "metadata": {},
   "source": [
    "# Tipos de dados nativos\n",
    "\n",
    "## Introdução\n",
    "\n",
    "Neste tópico nós aprenderemos mais sobre os tipos de dados nativos, também chamados de embutidos, ou do Inglês built-in, disponibilizados pela linguagem Python.\n",
    "\n",
    "Em Python, como já vimos, as variáveis são criadas através da atribuição de um valor e destruídas pelo gerenciador de memória (coletor de lixo, do Inglês, garbage collector), quando não existem mais referências a elas.\n",
    "\n",
    "Os tipos em Python podem ser:\n",
    "\n",
    "+ Mutáveis: permitem que os conteúdos das variáveis sejam alterados.\n",
    "+ Imutáveis: não permitem que os conteúdos das variáveis sejam alterados.\n",
    "\n",
    "Em Python, os nomes de variáveis são referências, que podem ser alteradas em tempos de execução.\n",
    "\n",
    "Em Python, existem vários tipos de dados pré-definidos que são implememtados de forma embutida, ou seja, eles estão sempre disponíveis em tempo de execução, sem a necessidade de importar nenhuma biblioteca.\n",
    "\n",
    "Desses tipos embutidos, os mais utilizados são:\n",
    "\n",
    "|  Categoria |   Nome  |         Descrição        |\n",
    "|:----------:|:-------:|:------------------------:|\n",
    "|  Numérica  |   int   |         Inteiros         |\n",
    "|            |  float  |      Ponto flutuante     |\n",
    "|            | complex |      Número complexo     |\n",
    "|            |   bool  | Booleane (True ou false) |\n",
    "| Sequencial |   str   |   String de caracteres   |\n",
    "|            |   list  |           Lista          |\n",
    "|            |  tuple  |           Tupla          |\n",
    "|            |  range  |   Intervalo de valores   |\n",
    "|  Conjuntos |   set   |     Conjunto mutável     |\n",
    "\n",
    "Dentre os tipos embutidos, existem tipos que funcionam como **coleções** ou **estruturas de dados**. Os principais são\n",
    "\n",
    "+ Listas\n",
    "+ Tuplas\n",
    "+ Dicionários\n",
    "+ Conjuntos\n",
    "\n",
    "<img src=\"../figures/python-data-structures.jpg\" width=\"400\" height=\"400\">\n",
    "\n",
    "A seguir, nós veremos em detalhes, cada um dessas **estruturas de dados** principais."
   ]
  },
  {
   "cell_type": "markdown",
   "metadata": {},
   "source": [
    "## Listas\n",
    "\n",
    "+ Listas são coleções **ordenadas** e **heterogêneas** de objetos, que podem ser de qualquer tipo, inclusive outras listas.\n",
    "+ Os objetos em uma lista são chamados de **elementos** ou **itens**.\n",
    "+ Listas permite **elementos** duplicados.\n",
    "+ As listas em Python são **mutáveis**, podendo ser alteradas a qualquer momento. \n",
    "+ Listas podem ser fatiadas da mesma forma que as strings, mas como as listas são mutáveis, é possível fazer atribuições a itens da lista.\n",
    "+ Uma lista é definida envolvendo seus **elementos**, os quais são separados por vírgulas, com um par de **chaves**. \n",
    "\n",
    "Sintaxe:\n",
    "\n",
    "```python\n",
    "lista = [a, b, ..., z]\n",
    "```"
   ]
  },
  {
   "cell_type": "markdown",
   "metadata": {},
   "source": [
    "O tipo de uma lista é `list`."
   ]
  },
  {
   "cell_type": "code",
   "execution_count": 8,
   "metadata": {},
   "outputs": [
    {
     "name": "stdout",
     "output_type": "stream",
     "text": [
      "<class 'list'>\n"
     ]
    }
   ],
   "source": [
    "# cria uma lista com três números inteiros, os números 1, 2 e 3.\n",
    "lista1 = [1, 2, 3]\n",
    "\n",
    "print(type(lista1))"
   ]
  },
  {
   "cell_type": "markdown",
   "metadata": {},
   "source": [
    "Para obter o comprimento de uma lista (ou seja, o número de elementos que ela possui) use-se a função `len()`, como mostrado no exemplo abaixo."
   ]
  },
  {
   "cell_type": "code",
   "execution_count": 12,
   "metadata": {},
   "outputs": [
    {
     "name": "stdout",
     "output_type": "stream",
     "text": [
      "A lista possui 3 elementos.\n",
      "O conteúdo da lista é: [1, 2, 3]\n"
     ]
    }
   ],
   "source": [
    "print('A lista possui %d elementos.' % len(lista1))\n",
    "print('O conteúdo da lista é:', lista1)"
   ]
  },
  {
   "cell_type": "markdown",
   "metadata": {},
   "source": [
    "`[]` denota uma lista vazia, ou seja, uma lista que não contém nenhum elemento. O comprimento de uma lista que não contém nenhum elemento é 0."
   ]
  },
  {
   "cell_type": "code",
   "execution_count": 14,
   "metadata": {},
   "outputs": [
    {
     "name": "stdout",
     "output_type": "stream",
     "text": [
      "A lista possui 0 elementos.\n",
      "O conteúdo da lista é: []\n"
     ]
    }
   ],
   "source": [
    "lista2 = []\n",
    "\n",
    "print('A lista possui %d elementos.' % len(lista2))\n",
    "print('O conteúdo da lista é:', lista2)"
   ]
  },
  {
   "cell_type": "markdown",
   "metadata": {},
   "source": [
    "Usando o operador `*`, nós conseguimos criar listas de um determinado comprimento contendo elementos iguais, conforme mostrado no exemplo abaixo."
   ]
  },
  {
   "cell_type": "code",
   "execution_count": 19,
   "metadata": {},
   "outputs": [
    {
     "name": "stdout",
     "output_type": "stream",
     "text": [
      "A lista possui 10 elementos.\n",
      "O conteúdo da lista é: [1, 1, 1, 1, 1, 1, 1, 1, 1, 1]\n"
     ]
    }
   ],
   "source": [
    "lista3 = [1] * 10\n",
    "\n",
    "print('A lista possui %d elementos.' % len(lista3))\n",
    "print('O conteúdo da lista é:', lista3)"
   ]
  },
  {
   "cell_type": "code",
   "execution_count": 20,
   "metadata": {},
   "outputs": [
    {
     "name": "stdout",
     "output_type": "stream",
     "text": [
      "A lista possui 20 elementos.\n",
      "O conteúdo da lista é: [1, 2, 1, 2, 1, 2, 1, 2, 1, 2, 1, 2, 1, 2, 1, 2, 1, 2, 1, 2]\n"
     ]
    }
   ],
   "source": [
    "lista4 = [1, 2] * 10\n",
    "\n",
    "print('A lista possui %d elementos.' % len(lista4))\n",
    "print('O conteúdo da lista é:', lista4)"
   ]
  },
  {
   "cell_type": "markdown",
   "metadata": {},
   "source": [
    "Como vimos antes, as listas podem conter elementos heterogêneos, ou seja, os elementos em uma lista não precisam ser todos de um mesmo tipo, como mostra o exemplo abaixo."
   ]
  },
  {
   "cell_type": "code",
   "execution_count": 22,
   "metadata": {},
   "outputs": [
    {
     "name": "stdout",
     "output_type": "stream",
     "text": [
      "A lista possui 6 elementos.\n",
      "O conteúdo da lista é: ['Olá', 2, 5.6, 'Mundo', True, 1j]\n"
     ]
    }
   ],
   "source": [
    "lista5 = [\"Olá\", 2, 5.6, 'Mundo', True, 1j]\n",
    "\n",
    "print('A lista possui %d elementos.' % len(lista5))\n",
    "print('O conteúdo da lista é:', lista5)"
   ]
  },
  {
   "cell_type": "markdown",
   "metadata": {},
   "source": [
    "Listas podem ser concatenadas com o operador `+`"
   ]
  },
  {
   "cell_type": "code",
   "execution_count": 25,
   "metadata": {},
   "outputs": [
    {
     "name": "stdout",
     "output_type": "stream",
     "text": [
      "[1, 2, 3, 'A', 3.14, True]\n"
     ]
    }
   ],
   "source": [
    "listaA = [1, 2, 3]\n",
    "\n",
    "listaB = ['A', 3.14, True]\n",
    "\n",
    "listaC = listaA + listaB\n",
    "\n",
    "print(listaC)"
   ]
  },
  {
   "cell_type": "markdown",
   "metadata": {},
   "source": [
    "Uma lista pode conter outras listas, como mostrado no exemplo abaixo."
   ]
  },
  {
   "cell_type": "code",
   "execution_count": 34,
   "metadata": {},
   "outputs": [
    {
     "name": "stdout",
     "output_type": "stream",
     "text": [
      "Os elementos da lista são: ['A', 3.14, True, [1, 2, 3]]\n",
      "O terceiro elemento da listaB é a listaA: [1, 2, 3]\n"
     ]
    }
   ],
   "source": [
    "listaA = [1, 2, 3]\n",
    "\n",
    "listaB = ['A', 3.14, True, listaA]\n",
    "\n",
    "print('Os elementos da lista são:', listaB)\n",
    "\n",
    "print('O terceiro elemento da listaB é a listaA:', listaB[3])"
   ]
  },
  {
   "cell_type": "markdown",
   "metadata": {},
   "source": [
    "Pode-se acessar os elementos de uma lista através de seus índices, da mesma forma que fizemos com as strings. Vejam o exemplo abaixo."
   ]
  },
  {
   "cell_type": "code",
   "execution_count": 23,
   "metadata": {},
   "outputs": [
    {
     "name": "stdout",
     "output_type": "stream",
     "text": [
      "10\n",
      "30\n",
      "50\n",
      "50\n"
     ]
    }
   ],
   "source": [
    "lista6 = [10, 20, 30, 40, 50]\n",
    "\n",
    "print(lista6[0])             # mostra o valor do primeiro elemento da lista\n",
    "print(lista6[1])             # mostra o valor do segundo elemento da lista\n",
    "print(lista6[2])             # mostra o valor do terceio elemento da lista\n",
    "print(lista6[3])             # mostra o valor do quarto elemento da lista\n",
    "print(lista6[4])             # mostra o valor do quinto e último elemento da lista\n",
    "print(lista6[len(lista6)-1]) # também mostra o valor do último elemento da lista"
   ]
  },
  {
   "cell_type": "markdown",
   "metadata": {},
   "source": [
    "Outra forma de acessar os elementos é através de laços de iteração, como o `for`, por exemplo."
   ]
  },
  {
   "cell_type": "code",
   "execution_count": 24,
   "metadata": {},
   "outputs": [
    {
     "name": "stdout",
     "output_type": "stream",
     "text": [
      "10\n",
      "20\n",
      "30\n",
      "40\n",
      "50\n"
     ]
    }
   ],
   "source": [
    "for i in range(0, len(lista6)):\n",
    "    print(lista6[i])"
   ]
  },
  {
   "cell_type": "markdown",
   "metadata": {},
   "source": [
    "Podemos usar números negativos como índices para acessar as posições de uma lista em ordem reversa, ou seja, do fim para o início. O índice -1 se refere a última posição da lista, o -2 se refere à penúltima posição, e assim por diante."
   ]
  },
  {
   "cell_type": "code",
   "execution_count": 25,
   "metadata": {},
   "outputs": [
    {
     "name": "stdout",
     "output_type": "stream",
     "text": [
      "50\n",
      "10\n"
     ]
    }
   ],
   "source": [
    "print(lista6[-1])             # mostra o valor do último elemento da lista\n",
    "print(lista6[-len(lista6)])   # mostra o valor do primeiro elemento da lista"
   ]
  },
  {
   "cell_type": "markdown",
   "metadata": {},
   "source": [
    "Também podemos modificar o valor de uma posição específica da lista utilizando os índices."
   ]
  },
  {
   "cell_type": "code",
   "execution_count": 30,
   "metadata": {},
   "outputs": [
    {
     "name": "stdout",
     "output_type": "stream",
     "text": [
      "[10, 20, 30]\n",
      "[5, 20, 10]\n"
     ]
    }
   ],
   "source": [
    "lista7 = [10, 20, 30]\n",
    "\n",
    "print(lista7)\n",
    "\n",
    "lista7[0] = 5      # altera o valor da primeira posição da lista\n",
    "lista7[-1] //= 3   # altera o valor da última posição da lista: lista7[2] = lista7[2] // 2\n",
    "\n",
    "print(lista7)"
   ]
  },
  {
   "cell_type": "markdown",
   "metadata": {},
   "source": [
    "Quanto tentamos acessar uma posição que não existe na lista, um erro de execução: `list index out of range` é gerado:"
   ]
  },
  {
   "cell_type": "code",
   "execution_count": 33,
   "metadata": {},
   "outputs": [
    {
     "ename": "IndexError",
     "evalue": "list index out of range",
     "output_type": "error",
     "traceback": [
      "\u001b[1;31m---------------------------------------------------------------------------\u001b[0m",
      "\u001b[1;31mIndexError\u001b[0m                                Traceback (most recent call last)",
      "\u001b[1;32m<ipython-input-33-a50bfe9ec2c4>\u001b[0m in \u001b[0;36m<module>\u001b[1;34m\u001b[0m\n\u001b[0;32m      1\u001b[0m \u001b[1;31m# tenta exibir o valor de uma posição que não existe na lista.\u001b[0m\u001b[1;33m\u001b[0m\u001b[1;33m\u001b[0m\u001b[1;33m\u001b[0m\u001b[0m\n\u001b[1;32m----> 2\u001b[1;33m \u001b[0mprint\u001b[0m\u001b[1;33m(\u001b[0m\u001b[0mlista7\u001b[0m\u001b[1;33m[\u001b[0m\u001b[1;36m3\u001b[0m\u001b[1;33m]\u001b[0m\u001b[1;33m)\u001b[0m\u001b[1;33m\u001b[0m\u001b[1;33m\u001b[0m\u001b[0m\n\u001b[0m",
      "\u001b[1;31mIndexError\u001b[0m: list index out of range"
     ]
    }
   ],
   "source": [
    "# tenta exibir o valor de uma posição que não existe na lista.\n",
    "print(lista7[3])"
   ]
  },
  {
   "cell_type": "markdown",
   "metadata": {},
   "source": [
    "Podemos usar a função `append()` para acrescentar novos elementos ao final de uma lista. Para acrescenter o elemento `x` ao final de uma lista `l`, fazemos `l.append(x)`. Veja os exemplos a seguir:"
   ]
  },
  {
   "cell_type": "code",
   "execution_count": 36,
   "metadata": {},
   "outputs": [
    {
     "name": "stdout",
     "output_type": "stream",
     "text": [
      "Estado inicial da lista:  [40]\n",
      "Estado da lista depois da primeira inclusão de um novo elemento:  [40, 10]\n",
      "Estado da lista depois da segunda inclusão de um novo elemento:  [40, 10, 30]\n"
     ]
    }
   ],
   "source": [
    "lista8 = [40]\n",
    "print(\"Estado inicial da lista: \", lista8)\n",
    "\n",
    "lista8.append(10)\n",
    "print(\"Estado da lista depois da primeira inclusão de um novo elemento: \", lista8)\n",
    "\n",
    "lista8.append(30)\n",
    "print(\"Estado da lista depois da segunda inclusão de um novo elemento: \", lista8)"
   ]
  },
  {
   "cell_type": "markdown",
   "metadata": {},
   "source": [
    "Podemos também acrescentar valores à uma lista vazia."
   ]
  },
  {
   "cell_type": "code",
   "execution_count": 39,
   "metadata": {},
   "outputs": [
    {
     "name": "stdout",
     "output_type": "stream",
     "text": [
      "Estado inicial da lista:  []\n",
      "Estado da lista depois da primeira inclusão de um novo elemento:  [True]\n",
      "Estado da lista depois da primeira inclusão de um novo elemento:  [True, 'Teste']\n",
      "Estado da lista depois da primeira inclusão de um novo elemento:  [True, 'Teste', 3.14]\n"
     ]
    }
   ],
   "source": [
    "lista9 = []\n",
    "print(\"Estado inicial da lista: \", lista9)\n",
    "\n",
    "lista9.append(True)\n",
    "print(\"Estado da lista depois da primeira inclusão de um novo elemento: \", lista9)\n",
    "\n",
    "lista9.append('Teste')\n",
    "print(\"Estado da lista depois da primeira inclusão de um novo elemento: \", lista9)\n",
    "\n",
    "lista9.append(3.14)\n",
    "print(\"Estado da lista depois da primeira inclusão de um novo elemento: \", lista9)"
   ]
  },
  {
   "cell_type": "markdown",
   "metadata": {},
   "source": [
    "Embora os elementos de uma lista também possam ser percorridos por meio de um laço de repetição (como vimos acima), podemos utilizar o laço `for` para percorrer todos os elementos de lista, começando do seu início para o fim. A estrutura desse laço é mostrada no exemplo abaixo."
   ]
  },
  {
   "cell_type": "code",
   "execution_count": 6,
   "metadata": {},
   "outputs": [
    {
     "name": "stdout",
     "output_type": "stream",
     "text": [
      "10\n",
      "20\n",
      "30\n",
      "40\n",
      "A soma é 100\n"
     ]
    }
   ],
   "source": [
    "lista10 = [10, 20, 30, 40]\n",
    "\n",
    "soma = 0\n",
    "for numero in lista10:\n",
    "    print(numero)\n",
    "    soma += numero\n",
    "print(\"A soma é\", soma)"
   ]
  },
  {
   "cell_type": "markdown",
   "metadata": {},
   "source": [
    "Nós podemos também utilizar o laço `while` para percorer a lista, removendo elementos com o método `pop()`, o qual remove e retorna o primeiro item da lista, comforme mostrado abaixo:"
   ]
  },
  {
   "cell_type": "code",
   "execution_count": 8,
   "metadata": {},
   "outputs": [],
   "source": [
    "# A lista vazia é avaliada como falsa e portanto, finaliza e execução do laço.\n",
    "while lista10:\n",
    "    print('Saiu o valor', lista10.pop(0), ', faltam', len(lista10), 'elementos na lista')"
   ]
  },
  {
   "cell_type": "markdown",
   "metadata": {},
   "source": [
    "Finalmente, os operadores `in` e `not in` nos permitem verificar se um dado valor está presente ou não em uma lista. \n",
    "\n",
    "A expressão\n",
    "\n",
    "`valor in lista`\n",
    "\n",
    "retorna `True` se `valor` for um elemento de `lista`, e `False` caso contrário.\n",
    "\n",
    "Já a expressão\n",
    "\n",
    "`valor not in lista`\n",
    "\n",
    "retorna `True` se `valor` não for um elemento de `lista`, e `False` caso contrário."
   ]
  },
  {
   "cell_type": "code",
   "execution_count": 9,
   "metadata": {},
   "outputs": [
    {
     "name": "stdout",
     "output_type": "stream",
     "text": [
      "[]\n",
      "O valor 4 está na lista.\n",
      "O valor 3 não está na lista.\n"
     ]
    }
   ],
   "source": [
    "lista11 = [0,2,4,6,8,10]\n",
    "\n",
    "print(lista10)\n",
    "\n",
    "if 4 in lista11:\n",
    "    print(\"O valor 4 está na lista.\")\n",
    "if 3 not in lista11:\n",
    "    print(\"O valor 3 não está na lista.\")"
   ]
  },
  {
   "cell_type": "markdown",
   "metadata": {},
   "source": [
    "Podemos utilizar o método `sort()` para ordenar os valores da lista. caso a lista seja heterogênea, deve-se definir uma função para especificar o critérios de ordenação. "
   ]
  },
  {
   "cell_type": "code",
   "execution_count": 23,
   "metadata": {},
   "outputs": [
    {
     "name": "stdout",
     "output_type": "stream",
     "text": [
      "['BMW', 'Ford', 'Volvo']\n",
      "[3, 4, 5, 6]\n"
     ]
    }
   ],
   "source": [
    "cars = ['Ford', 'BMW', 'Volvo']\n",
    "\n",
    "cars.sort(reverse=False)\n",
    "\n",
    "print(cars)\n",
    "\n",
    "numbers = [3, 4, 6, 5]\n",
    "\n",
    "numbers.sort(reverse=False)\n",
    "\n",
    "print(numbers)"
   ]
  },
  {
   "cell_type": "markdown",
   "metadata": {},
   "source": [
    "### Tarefa\n",
    "\n",
    "1. <span style=\"color:blue\">**QUIZ - Listas**</span>: respondam ao questionário sobre listas no MS teams, por favor."
   ]
  },
  {
   "cell_type": "markdown",
   "metadata": {},
   "source": [
    "## Tuplas\n",
    "\n",
    "As tuplas são semelhantes as listas, porém são elas são **imutáveis**, ou seja, não se pode acrescentar, apagar ou fazer atribuições aos itens de uma tupla.\n",
    "\n",
    "Sintaxe:\n",
    "\n",
    "```python\n",
    "tupla = (a, b, ..., z)\n",
    "```"
   ]
  },
  {
   "cell_type": "code",
   "execution_count": null,
   "metadata": {},
   "outputs": [],
   "source": []
  },
  {
   "cell_type": "code",
   "execution_count": null,
   "metadata": {},
   "outputs": [],
   "source": []
  },
  {
   "cell_type": "code",
   "execution_count": null,
   "metadata": {},
   "outputs": [],
   "source": []
  },
  {
   "cell_type": "code",
   "execution_count": null,
   "metadata": {},
   "outputs": [],
   "source": []
  },
  {
   "cell_type": "code",
   "execution_count": null,
   "metadata": {},
   "outputs": [],
   "source": []
  },
  {
   "cell_type": "code",
   "execution_count": null,
   "metadata": {},
   "outputs": [],
   "source": []
  },
  {
   "cell_type": "code",
   "execution_count": null,
   "metadata": {},
   "outputs": [],
   "source": []
  },
  {
   "cell_type": "code",
   "execution_count": null,
   "metadata": {},
   "outputs": [],
   "source": []
  },
  {
   "cell_type": "code",
   "execution_count": null,
   "metadata": {},
   "outputs": [],
   "source": []
  },
  {
   "cell_type": "markdown",
   "metadata": {},
   "source": [
    "## Tarefas\n",
    "\n",
    "1. <span style=\"color:blue\">**QUIZ - ????**</span>: respondam ao questionário sobre ????? no MS teams, por favor. \n",
    "2. <span style=\"color:blue\">**Laboratório #4**</span>: cliquem em um dos links abaixo para accessar os exercícios do laboratório #4.\n",
    "\n",
    "[![Binder](https://mybinder.org/badge_logo.svg)](https://mybinder.org/v2/gh/zz4fap/python-programming/master?filepath=labs%2FLaboratorio4.ipynb)\n",
    "\n",
    "[![Google Colab](https://badgen.net/badge/Launch/on%20Google%20Colab/blue?icon=terminal)](https://colab.research.google.com/github/zz4fap/python-programming/blob/master/labs/Laboratorio4.ipynb)\n",
    "\n",
    "**IMPORTANTE**: Para acessar o material das aulas e realizar as entregas dos exercícios de laboratório, por favor, leiam o tutorial no seguinte link:\n",
    "[Material-das-Aulas](../docs/Acesso-ao-material-das-aulas-resolucao-e-entrega-dos-laboratorios.pdf)"
   ]
  },
  {
   "cell_type": "markdown",
   "metadata": {},
   "source": [
    "## Avisos\n",
    "\n",
    "* Se atentem aos prazos de entrega das tarefas na aba de **Avaliações** do MS Teams.\n",
    "* Horário de atendimento todas as Quintas-feiras as 17:30 às 19:30 via MS Teams enquanto as aulas presenciais não retornam."
   ]
  },
  {
   "cell_type": "markdown",
   "metadata": {},
   "source": [
    "<img src=\"../figures/obrigado.png\" width=\"1000\" height=\"1000\">"
   ]
  },
  {
   "cell_type": "code",
   "execution_count": null,
   "metadata": {},
   "outputs": [],
   "source": []
  }
 ],
 "metadata": {
  "kernelspec": {
   "display_name": "Python 3",
   "language": "python",
   "name": "python3"
  },
  "language_info": {
   "codemirror_mode": {
    "name": "ipython",
    "version": 3
   },
   "file_extension": ".py",
   "mimetype": "text/x-python",
   "name": "python",
   "nbconvert_exporter": "python",
   "pygments_lexer": "ipython3",
   "version": "3.8.3"
  }
 },
 "nbformat": 4,
 "nbformat_minor": 4
}
