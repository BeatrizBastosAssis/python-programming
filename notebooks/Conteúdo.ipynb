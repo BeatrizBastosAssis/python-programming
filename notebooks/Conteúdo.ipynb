{
 "cells": [
  {
   "cell_type": "markdown",
   "metadata": {},
   "source": [
    "# Conteúdo programático da disciplina\n",
    "\n",
    "1. Introdução ao Python [![Binder](https://mybinder.org/badge_logo.svg)](https://mybinder.org/v2/gh/zz4fap/python-programming/master?filepath=notebooks%2FIntroducao_ao_Python.ipynb)\n",
    "\n",
    "2. Controle de fluxo, laços de repetição e operadores lógicos e de comparação\n",
    "\n",
    "3. Módulos e pacotes\n",
    "\n",
    "4. Tipos de dados nativos\n",
    "\n",
    "5. Funções\n",
    "\n",
    "6. Fundamentos de Orientação a Objetos\n",
    "\n",
    "7. Tratamento de Erros e Exceções\n",
    "\n",
    "8. Banco de dados\n",
    "\n",
    "9. Trabalhando com Arquivos\n",
    "\n",
    "10. Análise de dados com Python\n",
    "\n",
    "11. Estudos de caso\n"
   ]
  },
  {
   "cell_type": "code",
   "execution_count": null,
   "metadata": {},
   "outputs": [],
   "source": []
  }
 ],
 "metadata": {
  "kernelspec": {
   "display_name": "Python 3",
   "language": "python",
   "name": "python3"
  },
  "language_info": {
   "codemirror_mode": {
    "name": "ipython",
    "version": 3
   },
   "file_extension": ".py",
   "mimetype": "text/x-python",
   "name": "python",
   "nbconvert_exporter": "python",
   "pygments_lexer": "ipython3",
   "version": "3.8.3"
  }
 },
 "nbformat": 4,
 "nbformat_minor": 4
}
