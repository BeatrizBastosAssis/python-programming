{
 "cells": [
  {
   "cell_type": "markdown",
   "metadata": {},
   "source": [
    "# Tratamento de Erros e Exceções\n",
    "\n",
    "## Introdução\n",
    "\n",
    "**Erros** são problemas que ocorrem em um programa e que fazem com que ele tenha sua execução interrompida. Por outro lado, **exceções** são **lançadas** quando ocorrem alguns eventos internos ao programa que alteram seu fluxo normal de execução.\n",
    "\n",
    "Portanto, um **erro** indica um problema sério que um programa não deve tentar identificar. Já uma **exceção** indica uma condição que um programa possa querer capturar e tratar.\n",
    "\n",
    "Portanto, concluímos que em Python, existem dois tipos de erro:\n",
    "+ Erros de sintaxe.\n",
    "+ Erros lógicos, ou seja, as exceções."
   ]
  },
  {
   "cell_type": "markdown",
   "metadata": {},
   "source": [
    "## Erros de sintaxe\n",
    "\n",
    "Esses erros são também conhecidos como erros de análise, ou de parsing, pois são identificados durante a análise sintática do programa, antes que ele seja executado."
   ]
  },
  {
   "cell_type": "code",
   "execution_count": 3,
   "metadata": {},
   "outputs": [
    {
     "ename": "SyntaxError",
     "evalue": "invalid syntax (<ipython-input-3-2b688bc740d7>, line 1)",
     "output_type": "error",
     "traceback": [
      "\u001b[1;36m  File \u001b[1;32m\"<ipython-input-3-2b688bc740d7>\"\u001b[1;36m, line \u001b[1;32m1\u001b[0m\n\u001b[1;33m    while True print('Hello world')\u001b[0m\n\u001b[1;37m                   ^\u001b[0m\n\u001b[1;31mSyntaxError\u001b[0m\u001b[1;31m:\u001b[0m invalid syntax\n"
     ]
    }
   ],
   "source": [
    "while True print('Hello world')"
   ]
  },
  {
   "cell_type": "markdown",
   "metadata": {},
   "source": [
    "No exemplo acima, o **parser** (parte do interpretador da linguagem) repete a linha de código incorreta e exibe uma **seta** apontando para o primeiro ponto da linha onde o erro foi detectado. \n",
    "\n",
    "O erro é causado pelo (ou pelo menos detectado no) símbolo que precede a seta: no exemplo, o erro é detectado na função `print()`, pois os dois pontos (`:`) estão faltando antes do `print()`. \n",
    "\n",
    "O nome do arquivo e o número da linha são impressos para que você saiba onde procurar caso o erro tenha vindo de um arquivo `.py`."
   ]
  },
  {
   "cell_type": "markdown",
   "metadata": {},
   "source": [
    "## Exceções\n",
    "\n",
    "Mesmo que uma instrução ou expressão esteja sintaticamente correta, ela pode causar um erro quando o programa tentar executá-la. \n",
    "\n",
    "Os erros detectados durante a execução são chamados de **exceções** e não são incondicionalmente fatais. Veremos em seguida como lidar com exceções em Python.\n",
    "\n",
    "A maioria das exceções não é tratada pelos programas, e portanto, resultam em mensagens de erro conforme as mostradas abaixo.\n",
    "\n",
    "#### Divisão por zero"
   ]
  },
  {
   "cell_type": "code",
   "execution_count": 1,
   "metadata": {},
   "outputs": [
    {
     "ename": "ZeroDivisionError",
     "evalue": "division by zero",
     "output_type": "error",
     "traceback": [
      "\u001b[1;31m---------------------------------------------------------------------------\u001b[0m",
      "\u001b[1;31mZeroDivisionError\u001b[0m                         Traceback (most recent call last)",
      "\u001b[1;32m<ipython-input-1-1a5adb9eb822>\u001b[0m in \u001b[0;36m<module>\u001b[1;34m\u001b[0m\n\u001b[1;32m----> 1\u001b[1;33m \u001b[1;36m2\u001b[0m \u001b[1;33m*\u001b[0m \u001b[1;33m(\u001b[0m\u001b[1;36m4\u001b[0m\u001b[1;33m/\u001b[0m\u001b[1;36m0\u001b[0m\u001b[1;33m)\u001b[0m\u001b[1;33m\u001b[0m\u001b[1;33m\u001b[0m\u001b[0m\n\u001b[0m",
      "\u001b[1;31mZeroDivisionError\u001b[0m: division by zero"
     ]
    }
   ],
   "source": [
    "2 * (4/0)"
   ]
  },
  {
   "cell_type": "markdown",
   "metadata": {},
   "source": [
    "#### Variável não definida"
   ]
  },
  {
   "cell_type": "code",
   "execution_count": 1,
   "metadata": {},
   "outputs": [
    {
     "ename": "NameError",
     "evalue": "name 'spam' is not defined",
     "output_type": "error",
     "traceback": [
      "\u001b[1;31m---------------------------------------------------------------------------\u001b[0m",
      "\u001b[1;31mNameError\u001b[0m                                 Traceback (most recent call last)",
      "\u001b[1;32m<ipython-input-1-504cf8db5a39>\u001b[0m in \u001b[0;36m<module>\u001b[1;34m\u001b[0m\n\u001b[1;32m----> 1\u001b[1;33m \u001b[1;36m2\u001b[0m \u001b[1;33m+\u001b[0m \u001b[0mspam\u001b[0m\u001b[1;33m*\u001b[0m\u001b[1;36m4\u001b[0m\u001b[1;33m\u001b[0m\u001b[1;33m\u001b[0m\u001b[0m\n\u001b[0m",
      "\u001b[1;31mNameError\u001b[0m: name 'spam' is not defined"
     ]
    }
   ],
   "source": [
    "2 + spam*4"
   ]
  },
  {
   "cell_type": "markdown",
   "metadata": {},
   "source": [
    "#### Operações com tipos diferentes"
   ]
  },
  {
   "cell_type": "code",
   "execution_count": 2,
   "metadata": {},
   "outputs": [
    {
     "ename": "TypeError",
     "evalue": "can only concatenate str (not \"int\") to str",
     "output_type": "error",
     "traceback": [
      "\u001b[1;31m---------------------------------------------------------------------------\u001b[0m",
      "\u001b[1;31mTypeError\u001b[0m                                 Traceback (most recent call last)",
      "\u001b[1;32m<ipython-input-2-c26d67650552>\u001b[0m in \u001b[0;36m<module>\u001b[1;34m\u001b[0m\n\u001b[1;32m----> 1\u001b[1;33m \u001b[1;34m'4'\u001b[0m \u001b[1;33m+\u001b[0m \u001b[1;36m2\u001b[0m\u001b[1;33m\u001b[0m\u001b[1;33m\u001b[0m\u001b[0m\n\u001b[0m",
      "\u001b[1;31mTypeError\u001b[0m: can only concatenate str (not \"int\") to str"
     ]
    }
   ],
   "source": [
    "'4' + 2"
   ]
  },
  {
   "cell_type": "markdown",
   "metadata": {},
   "source": [
    "A última linha da mensagem de erro sempre indica o que aconteceu. \n",
    "\n",
    "As exceções têm diferentes **tipos** (i.e., Classes) e o seu **tipo** é impresso como parte da mensagem. Os **tipos** de exceção nos exemplos acima são `ZeroDivisionError`, `NameError` e `TypeError`.\n",
    "\n",
    "Essas excessões que vimos acima são chamadas de exceções embutidas, pois são definidas pela linguagem Python.\n",
    "\n",
    "A string impressa como o tipo da exceção é o nome da exceção embutida que ocorreu. Isso é verdade para todas as exceções embutidas, mas não precisa ser verdade para exceções definidas pelo usuário (embora seja uma boa prática).\n",
    "\n",
    "O restante da linha fornece detalhes com base no tipo da exceção e o que a causou.\n",
    "\n",
    "A parte anterior da mensagem de erro mostra o contexto onde a exceção aconteceu, na forma de um rastreamento da pilha de execução, chamado de **stack traceback**.\n",
    "\n",
    "O **stack traceback** mostra a sequência de linhas de código que levaram ao lançamento da exceção, junto com os nomes de arquivo e números de linha em que as chamadas ocorreram.\n",
    "\n",
    "Vejam o exemplo abaixo."
   ]
  },
  {
   "cell_type": "code",
   "execution_count": 2,
   "metadata": {},
   "outputs": [
    {
     "ename": "ZeroDivisionError",
     "evalue": "division by zero",
     "output_type": "error",
     "traceback": [
      "\u001b[1;31m---------------------------------------------------------------------------\u001b[0m",
      "\u001b[1;31mZeroDivisionError\u001b[0m                         Traceback (most recent call last)",
      "\u001b[1;32m<ipython-input-2-3cbc85e3ee0b>\u001b[0m in \u001b[0;36m<module>\u001b[1;34m\u001b[0m\n\u001b[0;32m      8\u001b[0m     \u001b[0mfun1\u001b[0m\u001b[1;33m(\u001b[0m\u001b[1;36m10\u001b[0m\u001b[1;33m)\u001b[0m\u001b[1;33m\u001b[0m\u001b[1;33m\u001b[0m\u001b[0m\n\u001b[0;32m      9\u001b[0m \u001b[1;33m\u001b[0m\u001b[0m\n\u001b[1;32m---> 10\u001b[1;33m \u001b[0mmain\u001b[0m\u001b[1;33m(\u001b[0m\u001b[1;33m)\u001b[0m\u001b[1;33m\u001b[0m\u001b[1;33m\u001b[0m\u001b[0m\n\u001b[0m",
      "\u001b[1;32m<ipython-input-2-3cbc85e3ee0b>\u001b[0m in \u001b[0;36mmain\u001b[1;34m()\u001b[0m\n\u001b[0;32m      6\u001b[0m \u001b[1;33m\u001b[0m\u001b[0m\n\u001b[0;32m      7\u001b[0m \u001b[1;32mdef\u001b[0m \u001b[0mmain\u001b[0m\u001b[1;33m(\u001b[0m\u001b[1;33m)\u001b[0m\u001b[1;33m:\u001b[0m\u001b[1;33m\u001b[0m\u001b[1;33m\u001b[0m\u001b[0m\n\u001b[1;32m----> 8\u001b[1;33m     \u001b[0mfun1\u001b[0m\u001b[1;33m(\u001b[0m\u001b[1;36m10\u001b[0m\u001b[1;33m)\u001b[0m\u001b[1;33m\u001b[0m\u001b[1;33m\u001b[0m\u001b[0m\n\u001b[0m\u001b[0;32m      9\u001b[0m \u001b[1;33m\u001b[0m\u001b[0m\n\u001b[0;32m     10\u001b[0m \u001b[0mmain\u001b[0m\u001b[1;33m(\u001b[0m\u001b[1;33m)\u001b[0m\u001b[1;33m\u001b[0m\u001b[1;33m\u001b[0m\u001b[0m\n",
      "\u001b[1;32m<ipython-input-2-3cbc85e3ee0b>\u001b[0m in \u001b[0;36mfun1\u001b[1;34m(var)\u001b[0m\n\u001b[0;32m      1\u001b[0m \u001b[1;32mdef\u001b[0m \u001b[0mfun1\u001b[0m\u001b[1;33m(\u001b[0m\u001b[0mvar\u001b[0m\u001b[1;33m)\u001b[0m\u001b[1;33m:\u001b[0m\u001b[1;33m\u001b[0m\u001b[1;33m\u001b[0m\u001b[0m\n\u001b[1;32m----> 2\u001b[1;33m     \u001b[0mfun2\u001b[0m\u001b[1;33m(\u001b[0m\u001b[0mvar\u001b[0m\u001b[1;33m)\u001b[0m\u001b[1;33m\u001b[0m\u001b[1;33m\u001b[0m\u001b[0m\n\u001b[0m\u001b[0;32m      3\u001b[0m \u001b[1;33m\u001b[0m\u001b[0m\n\u001b[0;32m      4\u001b[0m \u001b[1;32mdef\u001b[0m \u001b[0mfun2\u001b[0m\u001b[1;33m(\u001b[0m\u001b[0mvar\u001b[0m\u001b[1;33m)\u001b[0m\u001b[1;33m:\u001b[0m\u001b[1;33m\u001b[0m\u001b[1;33m\u001b[0m\u001b[0m\n\u001b[0;32m      5\u001b[0m     \u001b[1;32mreturn\u001b[0m \u001b[0mvar\u001b[0m \u001b[1;33m*\u001b[0m \u001b[1;33m(\u001b[0m\u001b[1;36m1\u001b[0m\u001b[1;33m/\u001b[0m\u001b[1;36m0\u001b[0m\u001b[1;33m)\u001b[0m\u001b[1;33m\u001b[0m\u001b[1;33m\u001b[0m\u001b[0m\n",
      "\u001b[1;32m<ipython-input-2-3cbc85e3ee0b>\u001b[0m in \u001b[0;36mfun2\u001b[1;34m(var)\u001b[0m\n\u001b[0;32m      3\u001b[0m \u001b[1;33m\u001b[0m\u001b[0m\n\u001b[0;32m      4\u001b[0m \u001b[1;32mdef\u001b[0m \u001b[0mfun2\u001b[0m\u001b[1;33m(\u001b[0m\u001b[0mvar\u001b[0m\u001b[1;33m)\u001b[0m\u001b[1;33m:\u001b[0m\u001b[1;33m\u001b[0m\u001b[1;33m\u001b[0m\u001b[0m\n\u001b[1;32m----> 5\u001b[1;33m     \u001b[1;32mreturn\u001b[0m \u001b[0mvar\u001b[0m \u001b[1;33m*\u001b[0m \u001b[1;33m(\u001b[0m\u001b[1;36m1\u001b[0m\u001b[1;33m/\u001b[0m\u001b[1;36m0\u001b[0m\u001b[1;33m)\u001b[0m\u001b[1;33m\u001b[0m\u001b[1;33m\u001b[0m\u001b[0m\n\u001b[0m\u001b[0;32m      6\u001b[0m \u001b[1;33m\u001b[0m\u001b[0m\n\u001b[0;32m      7\u001b[0m \u001b[1;32mdef\u001b[0m \u001b[0mmain\u001b[0m\u001b[1;33m(\u001b[0m\u001b[1;33m)\u001b[0m\u001b[1;33m:\u001b[0m\u001b[1;33m\u001b[0m\u001b[1;33m\u001b[0m\u001b[0m\n",
      "\u001b[1;31mZeroDivisionError\u001b[0m: division by zero"
     ]
    }
   ],
   "source": [
    "def fun1(var):\n",
    "    fun2(var)\n",
    "    \n",
    "def fun2(var):\n",
    "    return var * (1/0)\n",
    "    \n",
    "def main():\n",
    "    fun1(10)\n",
    "    \n",
    "main()"
   ]
  },
  {
   "cell_type": "markdown",
   "metadata": {},
   "source": [
    "Uma lista de exceções embutidas e seus respectivos significados podem ser acessados através do seguinte link: https://docs.python.org/3/library/exceptions.html#bltin-exceptions"
   ]
  },
  {
   "cell_type": "markdown",
   "metadata": {},
   "source": [
    "## Tratando exceções\n",
    "\n",
    "É possível escrever programas que tratam exceções específicas. Observe o exemplo seguinte, que pede dados ao usuário até que um inteiro válido seja fornecido."
   ]
  },
  {
   "cell_type": "code",
   "execution_count": 4,
   "metadata": {},
   "outputs": [
    {
     "name": "stdout",
     "output_type": "stream",
     "text": [
      "Por favor, digite um número: gh\n",
      "Este não é um número válido, por favor, tente novamente...\n",
      "Por favor, digite um número: 6\n"
     ]
    }
   ],
   "source": [
    "while True:\n",
    "    try:\n",
    "        x = int(input(\"Por favor, digite um número: \"))\n",
    "        break\n",
    "    except ValueError:\n",
    "        print(\"Este não é um número válido, por favor, tente novamente...\")"
   ]
  },
  {
   "cell_type": "markdown",
   "metadata": {},
   "source": [
    "A instrução `try` funciona da seguinte maneira:\n",
    "\n",
    "1. Inicialmente, a cláusula `try` (o bloco de código entre as palavras reservadas `try` e `except`) é executada.\n",
    "2. Se nenhuma exceção ocorrer, a cláusula `except` é ignorada e a execução da instrução `try` é finalizada.\n",
    "3. Se ocorrer uma exceção durante a execução da cláusula `try`, as instruções restantes na cláusula são ignoradas. Se o tipo da exceção lançada estiver na lista de exceções da cláusula `except`, então essa cláusula será executada. Depois disso, a execução continua após a cláusula `try`.\n",
    "4. Se a exceção levantada não corresponder a nenhuma exceção presente na lista de exceções tratadas, então ela é entregue a uma instrução `try` mais externa. Caso não exista nenhum tratamento para tal exceção em parte alguma do programa, então sua execução termina com uma mensagem de erro.\n",
    "\n",
    "A instrução `try` pode ter uma ou mais cláusulas `except`, as quais são usadas para especificar diferentes tratamentos para diferentes exceções. No máximo uma única cláusula `except` será executada.\n",
    "\n",
    "```python\n",
    "try:\n",
    "    ret = '4' + 2\n",
    "except TypeError:\n",
    "    print('Bloco de código para tratamento da exceção do tipo TypeError')\n",
    "except ZeroDivisionError:\n",
    "    print('Bloco de código para tratamento da exceção do tipo ZeroDivisionError')\n",
    "except NameError:\n",
    "    print('Bloco de código para tratamento da exceção do tipo NameError')\n",
    "```\n",
    "\n",
    "Cláusulas `except` só são sensíveis às exceções lançadas no interior da cláusula `try` correspondente, e não às que tenham ocorrido no interior de outras cláusulas `except` de uma mesma cláusula `try`, conforme mostrdo no exemplo abaixo.\n",
    "\n",
    "```python\n",
    "try:\n",
    "    ret = '4' + 2\n",
    "except TypeError:\n",
    "    ret = 2 * (4/0)\n",
    "```\n",
    "\n",
    "Uma mesma cláusula `except` pode ser sensível a múltiplas exceções, desde que elas sejam especificadas em uma tupla, conforme mostrado no exemplo abaixo.\n",
    "\n",
    "```python\n",
    "except(RuntimeError, TypeError, NameError):\n",
    "    pass\n",
    "```"
   ]
  },
  {
   "cell_type": "markdown",
   "metadata": {},
   "source": [
    "Uma cláusula `except` pode omitir o nome da exceção, funcionando como um **curinga**, ou seja, essa cláusula `except` vai tratar qualquer tipo de exceção que ocorra dentro da cláusula `try`. \n",
    "\n",
    "**IMPORTANTE**: Utilize esse recurso com extrema cautela, pois é muito fácil mascarar um erro de programação dessa maneira."
   ]
  },
  {
   "cell_type": "code",
   "execution_count": 17,
   "metadata": {},
   "outputs": [
    {
     "name": "stdout",
     "output_type": "stream",
     "text": [
      "Erro inesperado do tipo: <class 'TypeError'>\n"
     ]
    }
   ],
   "source": [
    "import sys\n",
    "\n",
    "try:\n",
    "    a = 'a' + 1\n",
    "    #a = 1/0\n",
    "    #2 + spam*4\n",
    "except:\n",
    "    print(\"Erro inesperado do tipo:\", sys.exc_info()[0])"
   ]
  },
  {
   "cell_type": "markdown",
   "metadata": {},
   "source": [
    "**IMPORTANTE**: A função `exc_info ()` do módulo `sys` retorna uma tupla com três valores, `(tipo, valor, traceback)`,  que fornecem informações sobre a exceção que está sendo tratada no momento."
   ]
  },
  {
   "cell_type": "markdown",
   "metadata": {},
   "source": [
    "### A cláusula `finally`\n",
    "\n",
    "A cláusula `try` pode ter uma cláusula opcional chamada de `finally`. Esta cláusula é executada independentemente do que aconteça e geralmente é usada para **liberar** recursos externos.\n",
    "\n",
    "Por exemplo, podemos estar conectados a um data center remoto por meio de uma rede ou trabalhando com um arquivo ou interface gráfica do usuário (GUI).\n",
    "\n",
    "Em todas esses casos, nós devemos **liberar** os recursos antes que o programa seja interrompido, tenha ele sido executado com êxito ou não. Essas ações (fechar um arquivo, GUI ou desconectar da rede) são realizadas na cláusula `finally` para garantir a execução do código de liberação dos recursos.\n",
    "\n",
    "Vejam o exemplo abaixo onde realizamos algumas de operações com um arquivo para ilustrar o uso da cláusula `finally`."
   ]
  },
  {
   "cell_type": "code",
   "execution_count": 23,
   "metadata": {},
   "outputs": [
    {
     "name": "stdout",
     "output_type": "stream",
     "text": [
      "Erro inesperado do tipo: <class 'FileNotFoundError'>\n",
      "Liberando o recurso.\n"
     ]
    }
   ],
   "source": [
    "import sys\n",
    "\n",
    "try:\n",
    "    # Abrindo arquivo para leitura.\n",
    "    f = open('teste.txt')\n",
    "    # Como o arquivo foi aberto para leitura, caso tentemos escrever algo nele, \n",
    "    # uma exceção será lançada.\n",
    "    f.write('C126-L1 teste')\n",
    "except FileNotFoundError:\n",
    "    print(\"Erro inesperado do tipo:\", sys.exc_info()[0])\n",
    "finally:\n",
    "    print('Liberando o recurso.')\n",
    "    f.close()"
   ]
  },
  {
   "cell_type": "code",
   "execution_count": 24,
   "metadata": {},
   "outputs": [
    {
     "name": "stdout",
     "output_type": "stream",
     "text": [
      "Liberando o recurso.\n"
     ]
    }
   ],
   "source": [
    "import sys\n",
    "\n",
    "try:\n",
    "    # Abrindo arquivo para escrita.\n",
    "    f = open('teste.txt', 'w')\n",
    "    # Nenhuma exceção é lançada, dado que o arquivo foi aberto para escrita.\n",
    "    f.write('C126-L1 teste')\n",
    "except FileNotFoundError:\n",
    "    print(\"Erro inesperado do tipo:\", sys.exc_info()[0])\n",
    "finally:\n",
    "    print('Liberando o recurso.')\n",
    "    f.close()"
   ]
  },
  {
   "cell_type": "markdown",
   "metadata": {},
   "source": [
    "A cláusula `finally` garante que o arquivo seja fechado mesmo se ocorrer uma exceção durante a execução do programa."
   ]
  },
  {
   "cell_type": "markdown",
   "metadata": {},
   "source": [
    "### A cláusula `else`\n",
    "\n",
    "Outra cláusula **opcional** que a cláusula `try` pode ter é a cláusula `else`. Quando ela está presente, ela deve ser colocada depois de todas as cláusulas `except`, mas antes da cláusula `finally`. \n",
    "\n",
    "Ela é útil em um código que precisa ser executado **se nenhuma** exceção foi lançada. Por exemplo:"
   ]
  },
  {
   "cell_type": "code",
   "execution_count": 7,
   "metadata": {},
   "outputs": [
    {
     "name": "stdout",
     "output_type": "stream",
     "text": [
      "Bloco de código executado caso nenhuma exceção tenha sido lançada.\n"
     ]
    }
   ],
   "source": [
    "import sys\n",
    "\n",
    "try:\n",
    "    a = 1 + 2\n",
    "except:\n",
    "    print(\"Erro inesperado do tipo:\", sys.exc_info()[0])\n",
    "else:\n",
    "    print('Bloco de código executado caso nenhuma exceção tenha sido lançada.')"
   ]
  },
  {
   "cell_type": "markdown",
   "metadata": {},
   "source": [
    "É melhor usar a cláusula `else` do que adicionar código à cláusula `try`, pois isto evita capturar acidentalmente uma exceção que não foi gerada pelo código sendo realmente protegido pelas cláusulas `try ... except`.\n",
    "\n",
    "Por exemplo, caso tivéssemos uma operação que poderia lançar uma exceção do tipo `IOError` e quiséssemos capturar essa exceção \n",
    "\n",
    "\n",
    " tiver um método que poderia, por exemplo, lançar um IOError e quiser capturar as exceções que ele levanta, mas há outra coisa que você deseja fazer se a primeira operação for bem-sucedida e você não quiser capturar um IOError a partir dessa operação, você pode escrever algo assim:\n",
    "\n",
    "\n",
    "```python\n",
    "try:\n",
    "    operaçao_que_pode_lançar_uma_exceção_ioerror()\n",
    "except ZeroDivisionError:\n",
    "    tratamento_da_exceção_ioerror()\n",
    "else:\n",
    "    # não queremos capturar o IOError se ele for gerado\n",
    "    outra_operaçao_que_pode_lançar_uma_exceção_ioerror()\n",
    "finally:\n",
    "    código_que_sempre_queremos_executar()\n",
    "```"
   ]
  },
  {
   "cell_type": "markdown",
   "metadata": {},
   "source": [
    "**IMPORTANTE**: As exceções na cláusula `else` não são tratadas pelas cláusulas `except` anteriores."
   ]
  },
  {
   "cell_type": "markdown",
   "metadata": {},
   "source": [
    "\n",
    "\n",
    "# PAREI AQUI!!!!!!!\n",
    "\n",
    "\n",
    "Quando uma exceção ocorre, ela pode estar associada a um valor chamado argumento da exceção. A presença e o tipo do argumento dependem do tipo da exceção.\n",
    "\n",
    "A cláusula except pode especificar uma variável depois do nome (ou da tupla de nomes) da exceção. A variável é associada à instância de exceção capturada, com os argumentos armazenados em instancia.args. Por conveniência, a instância define o método __str__() para que os argumentos possam ser exibidos diretamente sem necessidade de acessar .args. Pode-se também instanciar uma exceção antes de levantá-la e adicionar qualquer atributo a ela, conforme desejado."
   ]
  },
  {
   "cell_type": "code",
   "execution_count": 23,
   "metadata": {},
   "outputs": [
    {
     "name": "stdout",
     "output_type": "stream",
     "text": [
      "<class 'Exception'>\n",
      "('spam', 'eggs')\n",
      "('spam', 'eggs')\n",
      "x = spam\n",
      "y = eggs\n"
     ]
    }
   ],
   "source": [
    "try:\n",
    "    raise Exception('spam', 'eggs')\n",
    "except Exception as inst:\n",
    "    print(type(inst))    # the exception instance\n",
    "    print(inst.args)     # arguments stored in .args\n",
    "    print(inst)          # __str__ allows args to be printed directly,\n",
    "                          # but may be overridden in exception subclasses\n",
    "    x, y = inst.args     # unpack args\n",
    "    print('x =', x)\n",
    "    print('y =', y)"
   ]
  },
  {
   "cell_type": "markdown",
   "metadata": {},
   "source": [
    "## Lançando exceções"
   ]
  },
  {
   "cell_type": "code",
   "execution_count": null,
   "metadata": {},
   "outputs": [],
   "source": []
  },
  {
   "cell_type": "markdown",
   "metadata": {},
   "source": [
    "## Exceções definidas pelo usuário"
   ]
  },
  {
   "cell_type": "code",
   "execution_count": null,
   "metadata": {},
   "outputs": [],
   "source": []
  },
  {
   "cell_type": "markdown",
   "metadata": {},
   "source": [
    "https://docs.python.org/pt-br/3/tutorial/errors.html\n",
    "\n",
    "https://docs.python.org/3/tutorial/errors.html\n",
    "\n",
    "https://www.geeksforgeeks.org/errors-and-exceptions-in-python/#:~:text=Errors%20are%20the%20problems%20in,of%20Error%20occurs%20in%20python."
   ]
  },
  {
   "cell_type": "markdown",
   "metadata": {},
   "source": [
    "## Tarefas\n",
    "\n",
    "1. <span style=\"color:blue\">**QUIZ - Tratamento de erros e exceções**</span>: respondam ao questionário sobre tratamento de erros e exceções no MS teams, por favor. \n",
    "2. <span style=\"color:blue\">**Laboratório #7**</span>: cliquem em um dos links abaixo para accessar os exercícios do laboratório #7.\n",
    "\n",
    "[![Binder](https://mybinder.org/badge_logo.svg)](https://mybinder.org/v2/gh/zz4fap/python-programming/master?filepath=labs%2FLaboratorio7.ipynb)\n",
    "\n",
    "[![Google Colab](https://badgen.net/badge/Launch/on%20Google%20Colab/blue?icon=terminal)](https://colab.research.google.com/github/zz4fap/python-programming/blob/master/labs/Laboratorio7.ipynb)\n",
    "\n",
    "**IMPORTANTE**: Para acessar o material das aulas e realizar as entregas dos exercícios de laboratório, por favor, leiam o tutorial no seguinte link:\n",
    "[Material-das-Aulas](../docs/Acesso-ao-material-das-aulas-resolucao-e-entrega-dos-laboratorios.pdf)"
   ]
  },
  {
   "cell_type": "markdown",
   "metadata": {},
   "source": [
    "## Avisos\n",
    "\n",
    "* Se atentem aos prazos de entrega das tarefas na aba de **Avaliações** do MS Teams.\n",
    "* Horário de atendimento todas as Quintas-feiras as 17:30 às 19:30 via MS Teams enquanto as aulas presenciais não retornam."
   ]
  },
  {
   "cell_type": "markdown",
   "metadata": {},
   "source": [
    "<img src=\"../figures/obrigado.png\" width=\"1000\" height=\"1000\">"
   ]
  }
 ],
 "metadata": {
  "kernelspec": {
   "display_name": "Python 3",
   "language": "python",
   "name": "python3"
  },
  "language_info": {
   "codemirror_mode": {
    "name": "ipython",
    "version": 3
   },
   "file_extension": ".py",
   "mimetype": "text/x-python",
   "name": "python",
   "nbconvert_exporter": "python",
   "pygments_lexer": "ipython3",
   "version": "3.7.7"
  }
 },
 "nbformat": 4,
 "nbformat_minor": 4
}
