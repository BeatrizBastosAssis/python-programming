{
 "cells": [
  {
   "cell_type": "markdown",
   "metadata": {},
   "source": [
    "# Fundamentos de Orientação a Objetos\n",
    "\n",
    "\n",
    "## Introdução\n",
    "\n",
    "Conforme discutimos anteriormente, a linguagem Python suporta diversos paradigmas de programação, sendo um deles o paradigma de orientação a objetos. Portanto, ela possui recursos que dão suporte à programação orientada a objetos (POO).\n",
    "\n",
    "A programação orientada a objetos tem suas origens lá na década de 1960, mas somente em meados da década de 1980 foi que ela se tornou o principal paradigma de programação utilizado na criação de software. \n",
    "\n",
    "O paradigma foi desenvolvido como forma de tratar o rápido aumento do tamanho e complexidade dos sistemas de software e facilitar a gerenciamento (desenvolvimento, teste e manutenção) desses sistemas grandes e complexos ao longo do tempo.\n",
    "\n",
    "Diferentemente da programação procedural onde o foco é na escrita de funções ou procedimentos que operam sobre os dados, o foco da programação orientada a objetos é na criação de objetos que contem (**encapsulam**) tanto os **dados** quanto as **funcionalidades**.\n",
    "\n",
    "Em geral, a definição de cada objeto corresponde a algum objeto ou conceito do mundo real e as funções, que são conhecidas em orientação a objetos como **métodos**, que operam sobre tal objeto correspondem as formas que os objetos reais interagem com o mundo real.\n",
    "\n",
    "Sendo assim, podemos dizer que objetos são abstrações computacionais que representam entidades, com suas qualidades (**atributos**) e ações (**métodos**) que estas podem realizar.\n",
    "\n",
    "Os **atributos** são estruturas de dados que armazenam informações sobre o **estado** atual do objeto e os **métodos** são funções associadas ao objeto, que descrevem como o objeto se comporta. \n",
    "\n",
    "O estado de um objeto representa as coisas que o objeto sabe sobre si mesmo. \n",
    "\n",
    "Portanto, uma classe é a estrutura básica do paradigma de orientação a objetos, que representa o **tipo** do objeto, um modelo a partir do qual os objetos serão criados (**instanciados**).\n",
    "\n",
    "Por exemplo, uma classe `Cachorro` descreve as características (ou **atributos**) e ações (ou **métodos**) dos cães em geral, enquanto o objeto `Toto` representa um cachorro (i.e., uma instância da classe `Cachorro`) em particular.\n",
    "\n",
    "Outro exemplo, considerem objetos do tipo (classe) `Carro`, cada carro possui um **estado** que representa seu modelo, sua cor, kilometragem, posição, etc. Cada carro também tem a capacidade de se mover para a frente, para trás, virar para a direita ou esquerda, frear, etc. Cada carro é diferente pois, embora sejam todos objetos do tipo `Carro`, cada uma tem um estado diferente (como posições, kilometragens, etc. diferentes).\n",
    "\n",
    "#### Vantagem da programação orientada a objetos\n",
    "\n",
    "A vantagem mais importante do paradigma de programação orientada a objetos é que ele é mais adequado ao nosso processo mental de agrupamento e mais perto da nossa experiência com o mundo real.\n",
    "\n",
    "No mundo real, o método para enviar uma mensagem SMS faz parte do objeto celular e não, por exemplo, do objeto capinha de celular.\n",
    "\n",
    "As funcionalidades de um objeto do mundo real tendem a ser intrínsecas (i.e., compor a natureza ou a essência) a esse objeto.\n",
    "\n",
    "Portanto, a POO nos permite representar essas funcionalidades com precisão ao organizar nossos programas."
   ]
  },
  {
   "cell_type": "markdown",
   "metadata": {},
   "source": [
    "## Definindo nossos próprios tipos\n",
    "\n",
    "Em geral, quando estamos desenvolvendo uma aplicação em software, nós precisamos criar **tipos** relacionados à aplicação que estamos desenvolvendo. Desta forma, nós precismaos definir nossas próprias classes. \n",
    "\n",
    "Portanto, em Python, além dos tipos (classes) embutidos definidos pela linguagem, como `int`, `str`, `list`, `float`, etc. nós podemos definir nossos próprios **tipos**.\n",
    "\n",
    "As regras de sintaxe para a definição de uma classe são as mesmas de outros comandos compostos. Há um cabeçalho que começa com a palavra-chave `class`, seguido pelo **nome** da classe e terminando com **dois pontos**, `:`.\n",
    "\n",
    "Se a primeira linha após o cabeçalho de classe é um string, ela se torna o **docstring** da classe, e poderá ser acessada por diversas ferramentas de documentação automática (e.g. **pydoc**).\n",
    "\n",
    "Toda classe deve ter um método com o nome especial `__init__`. Este método de **inicialização**, muitas vezes referido como o **construtor**, é chamado automaticamente sempre que uma nova instância do objeto é criada. \n",
    "\n",
    "O método **construtor** dá ao programador a oportunidade de configurar os **atributos** necessários dentro da nova instância, atribuindo-lhes valores iniciais.\n",
    "\n",
    "As classes também podem conter **métodos**. Lembrem-se que os métodos são funções que pertencem ao objeto.\n",
    "\n",
    "Vejam o exemplo abaixo onde a classe `Carro` é definida."
   ]
  },
  {
   "cell_type": "code",
   "execution_count": 25,
   "metadata": {},
   "outputs": [],
   "source": [
    "class Carro:\n",
    "    \"\"\"Classe que modelo diferentes tipos de carros\"\"\"\n",
    "    \n",
    "    def __init__(self, modelo='', anoFabricacao=1900, cor=''):\n",
    "        \"\"\"Construtor padrão da classe Carro\"\"\"\n",
    "        print('Instanciando objeto do tipo Carro.')\n",
    "        self.modelo = modelo\n",
    "        self.anoFabricacao = anoFabricacao\n",
    "        self.cor = cor\n",
    "        \n",
    "    def acelerar(self):\n",
    "        \"\"\"Método para acelerar o carro\"\"\"\n",
    "        print(\"Acelera carro.\")\n",
    "        \n",
    "    def frear(self):\n",
    "        \"\"\"Método para frear o carro\"\"\"\n",
    "        print(\"Freando carro.\")"
   ]
  },
  {
   "cell_type": "markdown",
   "metadata": {},
   "source": [
    "O parâmetro `self` é uma referência a instância atual da classe e é usado para acessar variáveis que pertencem à classe. O `self` deve ser o primeiro parâmetro de qualquer método na classe.\n",
    "\n",
    "O nome `self` é uma convenção, podendo ser trocado por outro nome qualquer, porém é considerada como boa prática manter este nome."
   ]
  },
  {
   "cell_type": "markdown",
   "metadata": {},
   "source": [
    "## Instanciando um objeto\n",
    "\n",
    "Em Python, novos objetos são criados a partir das classes através de atribuição.\n",
    "\n",
    "Quando um novo objeto é criado, o método **construtor** da classe, `__init__()`, é chamado para inicializar a nova instância.\n",
    "\n",
    "\n",
    "Vejam o exemplo abaixo."
   ]
  },
  {
   "cell_type": "code",
   "execution_count": 26,
   "metadata": {},
   "outputs": [
    {
     "name": "stdout",
     "output_type": "stream",
     "text": [
      "Instanciando objeto do tipo Carro.\n",
      "Instanciando objeto do tipo Carro.\n",
      "Acelera carro.\n",
      "Freando carro.\n"
     ]
    }
   ],
   "source": [
    "# Instancia um objeto da classe/tipo Carro utilizando valores padrão.\n",
    "carroA = Carro()\n",
    "\n",
    "# Instancia um objeto da classe/tipo Carro definindo alguns valores.\n",
    "carroB = Carro('Shelby Cobra', 1962, 'blue with white stripes')\n",
    "\n",
    "# Invoca o método acelerar.\n",
    "carroA.acelerar()\n",
    "\n",
    "# Invoca o método frear.\n",
    "carroA.frear()"
   ]
  },
  {
   "cell_type": "code",
   "execution_count": null,
   "metadata": {},
   "outputs": [],
   "source": []
  },
  {
   "cell_type": "code",
   "execution_count": null,
   "metadata": {},
   "outputs": [],
   "source": []
  },
  {
   "cell_type": "code",
   "execution_count": null,
   "metadata": {},
   "outputs": [],
   "source": []
  }
 ],
 "metadata": {
  "kernelspec": {
   "display_name": "Python 3",
   "language": "python",
   "name": "python3"
  },
  "language_info": {
   "codemirror_mode": {
    "name": "ipython",
    "version": 3
   },
   "file_extension": ".py",
   "mimetype": "text/x-python",
   "name": "python",
   "nbconvert_exporter": "python",
   "pygments_lexer": "ipython3",
   "version": "3.7.7"
  }
 },
 "nbformat": 4,
 "nbformat_minor": 4
}
