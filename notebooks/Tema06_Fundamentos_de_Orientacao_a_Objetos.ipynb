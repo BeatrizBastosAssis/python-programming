{
 "cells": [
  {
   "cell_type": "markdown",
   "metadata": {},
   "source": [
    "# Fundamentos de Orientação a Objetos\n",
    "\n",
    "\n",
    "## Introdução\n",
    "\n",
    "Conforme discutimos anteriormente, a linguagem de programação Python suporta o paradigma de programação orientada a objetos (POO).\n",
    "\n",
    "A POO tem suas origens na década de 1960, mas somente em meados da década de 1980 foi que ela se tornou o principal paradigma de programação utilizado na criação de software. \n",
    "\n",
    "O paradigma foi desenvolvido como forma de tratar o rápido aumento do tamanho e complexidade dos softwares e facilitar seu gerenciamento (desenvolvimento, teste e manutenção) ao longo do tempo.\n",
    "\n",
    "O conceito de POO se concentra na criação de **código reutilizável**. Este conceito também é conhecido como **não se repita**.\n",
    "\n",
    "Diferentemente da programação **procedural** onde o foco é na escrita de funções ou procedimentos que operam sobre os dados, o foco da programação orientada a objetos é na criação de objetos que contêm (**encapsulam**) tanto os **dados** quanto as **funcionalidades**.\n",
    "\n",
    "Em geral, a definição de cada objeto corresponde a algum objeto ou conceito do mundo real e as funções, que são conhecidas em orientação a objetos como **métodos**, que operam sobre tal objeto correspondem as formas através das quais os objetos reais interagem com o mundo real.\n",
    "\n",
    "Sendo assim, podemos dizer que objetos são **abstrações computacionais** que representam entidades, com suas qualidades (**atributos**) e ações (**métodos**) que estas podem realizar.\n",
    "\n",
    "Os **atributos** são estruturas de dados que armazenam informações sobre o **estado** atual do objeto e os **métodos** são funções associadas ao objeto, que descrevem como o objeto se comporta (ou seja, definem os comportamentos de um objeto).\n",
    "\n",
    "O estado de um objeto representa as coisas que o objeto sabe sobre si mesmo. \n",
    "\n",
    "Portanto, as classes são a **estrutura básica** do paradigma de orientação a objetos. Elas representam o **tipo** do objeto, ou seja, um modelo a partir do qual os objetos são criados (**instanciados**).\n",
    "\n",
    "Por exemplo, uma classe `Cachorro` descreve as características (ou **atributos**) e ações (ou **métodos**) dos cães em geral, enquanto o objeto `Toto` representa um cachorro (i.e., uma instância da classe `Cachorro`) em particular.\n",
    "\n",
    "Outro exemplo, considerem objetos do tipo (i.e., classe) `Carro`, cada carro possui um **estado** que representa seu modelo, sua cor, kilometragem, posição, etc. Cada carro também tem a capacidade de se mover para a frente, para trás, virar para a direita ou esquerda, frear, etc. Cada carro é diferente pois, embora sejam todos objetos do tipo `Carro`, cada um tem um estado diferente (como posições, kilometragens, etc. diferentes).\n",
    "\n",
    "#### Vantagem da programação orientada a objetos\n",
    "\n",
    "A vantagem mais importante do paradigma de POO é que ele é mais adequado ao nosso processo mental de agrupamento e mais próximo da nossa experiência com o mundo real.\n",
    "\n",
    "Por exemplo, no mundo real, o método para enviar uma mensagem SMS faz parte do objeto celular e não, por exemplo, do objeto capinha de celular.\n",
    "\n",
    "As funcionalidades de um objeto do mundo real tendem a ser intrínsecas (i.e., compor a natureza ou a essência) ao objeto.\n",
    "\n",
    "Portanto, a POO nos permite representar essas funcionalidades com precisão ao organizar nossos programas."
   ]
  },
  {
   "cell_type": "markdown",
   "metadata": {},
   "source": [
    "## Definindo nossos próprios tipos\n",
    "\n",
    "Em geral, quando estamos desenvolvendo uma aplicação em software, nós precisamos criar **tipos** relacionados à aplicação que estamos desenvolvendo. Desta forma, nós precismaos definir nossas próprias classes. \n",
    "\n",
    "Portanto, em Python, além dos tipos (classes) embutidos definidos pela linguagem, como `int`, `str`, `list`, `float`, etc. nós podemos definir nossos próprios **tipos**.\n",
    "\n",
    "As regras de sintaxe para a definição de uma classe são as mesmas de outros comandos compostos. Há um cabeçalho que começa com a palavra-chave `class`, seguido pelo **nome** da classe e terminando com **dois pontos**, `:`.\n",
    "\n",
    "```python\n",
    "class Carro:\n",
    "```\n",
    "\n",
    "Se a primeira linha após o cabeçalho de classe é uma **string**, ela se torna o **docstring** da classe, e poderá ser acessada por diversas ferramentas de documentação automática (e.g. **pydoc**) através do atributo `__doc__`.\n",
    "\n",
    "```python\n",
    "class Carro:\n",
    "    \"\"\"Este é o tipo carro.\"\"\"\n",
    "```\n",
    "\n",
    "Toda classe deve ter um **método** com o nome especial `__init__`. Este método de **inicialização**, muitas vezes também referido como o **construtor** do objeto, é chamado automaticamente sempre que uma nova instância do objeto é criada.\n",
    "\n",
    "```python\n",
    "class Carro:\n",
    "    \"\"\"Este é o tipo carro.\"\"\"\n",
    "    \n",
    "    def __init__(self):\n",
    "        \"Construtor da classe Carro.\"\n",
    "```\n",
    "\n",
    "O método **construtor** dá ao programador a oportunidade de configurar os **atributos** necessários dentro da nova instância da classe, atribuindo-lhes valores iniciais.\n",
    "\n",
    "```python\n",
    "class Carro:\n",
    "    \"\"\"Este é o tipo carro.\"\"\"\n",
    "    \n",
    "    def __init__(self, modelo='', anoFabricacao=1900, cor=''):\n",
    "        \"\"\"Construtor da classe Carro.\"\"\"\n",
    "        print('Instanciando um objeto do tipo Carro.')\n",
    "        self.modelo = modelo\n",
    "        self.anoFabricacao = anoFabricacao\n",
    "        self.cor = cor\n",
    "```\n",
    "\n",
    "O parâmetro `self` é uma referência a instância atual da classe e é usado para acessar variáveis que pertencem à classe. O `self` deve ser o primeiro parâmetro de qualquer método na classe.\n",
    "\n",
    "O nome `self` é uma convenção, podendo ser trocado por outro nome qualquer, porém é considerada como **boa prática** manter este nome.\n",
    "\n",
    "As classes também podem conter outros **métodos** além do construtor. Lembrem-se que os métodos são funções que pertencem ao objeto. Vejam o exemplo abaixo onde a classe `Carro` é definida com os métodos `acelerar` e `frear`."
   ]
  },
  {
   "cell_type": "code",
   "execution_count": 20,
   "metadata": {},
   "outputs": [],
   "source": [
    "class Carro:\n",
    "    \"\"\"Classe que modelo diferentes tipos de carros\"\"\"\n",
    "    \n",
    "    def __init__(self, modelo='Volkswagen fusca', anoFabricacao=1970, cor='branca', kilometragem=100000):\n",
    "        \"\"\"Construtor da classe Carro.\"\"\"\n",
    "        print('Instanciando um objeto do tipo Carro.')\n",
    "        self.modelo = modelo\n",
    "        self.anoFabricacao = anoFabricacao\n",
    "        self.cor = cor\n",
    "        self.kilometragem = kilometragem\n",
    "        self.printState()\n",
    "        \n",
    "    def acelerar(self):\n",
    "        \"\"\"Método para acelerar o carro\"\"\"\n",
    "        print(\"Acelerando carro.\")\n",
    "        \n",
    "    def frear(self):\n",
    "        \"\"\"Método para frear o carro\"\"\"\n",
    "        print(\"Freando carro.\")\n",
    "        \n",
    "    def printState(self):\n",
    "        \"\"\"Imprime estado corrente do objeto.\"\"\"\n",
    "        print('Modelo:', self.modelo)\n",
    "        print('Ano de fabricação:', self.anoFabricacao)\n",
    "        print('Cor:', self.cor)\n",
    "        print('Kilometragem:', self.kilometragem)"
   ]
  },
  {
   "cell_type": "markdown",
   "metadata": {},
   "source": [
    "## Instanciando um objeto\n",
    "\n",
    "Em Python, novos objetos são criados a partir das classes através de atribuição.\n",
    "\n",
    "```python\n",
    "herbie = Carro()\n",
    "eleanor = Carro()        \n",
    "```\n",
    "\n",
    "Aqui, `herbie` e `eleanor` são referências para os novos objetos.\n",
    "\n",
    "Quando um novo objeto é criado, o método **construtor** da classe, o `__init__()`, é chamado para inicializar a nova instância.\n",
    "\n",
    "**IMPORTANTE**: Um objeto (i.e., uma instância) é uma instanciação de uma classe. Quando a classe é definida, apenas a descrição do objeto é definida. Portanto, nenhuma memória é alocada. Isto ocorre apenas durante a instanciação.\n",
    "\n",
    "Vejam os exemplos a seguir.\n",
    "\n",
    "#### Instanciando um carro padrão"
   ]
  },
  {
   "cell_type": "code",
   "execution_count": 24,
   "metadata": {},
   "outputs": [
    {
     "name": "stdout",
     "output_type": "stream",
     "text": [
      "Instanciando um objeto do tipo Carro.\n",
      "Modelo: Volkswagen fusca\n",
      "Ano de fabricação: 1970\n",
      "Cor: branca\n",
      "Kilometragem: 100000\n"
     ]
    }
   ],
   "source": [
    "# Instancia um objeto da classe/tipo Carro utilizando valores padrão.\n",
    "carroA = Carro()"
   ]
  },
  {
   "cell_type": "markdown",
   "metadata": {},
   "source": [
    "#### Instanciando um carro específico"
   ]
  },
  {
   "cell_type": "code",
   "execution_count": 25,
   "metadata": {},
   "outputs": [
    {
     "name": "stdout",
     "output_type": "stream",
     "text": [
      "Instanciando um objeto do tipo Carro.\n",
      "Modelo: Shelby Cobra\n",
      "Ano de fabricação: 1962\n",
      "Cor: blue with white stripes\n",
      "Kilometragem: 100000\n"
     ]
    }
   ],
   "source": [
    "# Instancia um objeto da classe/tipo Carro definindo alguns valores.\n",
    "carroB = Carro('Shelby Cobra', 1962, 'blue with white stripes', 100000)"
   ]
  },
  {
   "cell_type": "markdown",
   "metadata": {},
   "source": [
    "#### Acessando atributos e invocando métodos de um objeto\n",
    "\n",
    "Podemos acessar os atributos de uma classe usando `__class __.modelo`. \n",
    "\n",
    "Podemos invocar os métodos de uma classe usando `__class __.frear()`.\n",
    "\n",
    "Os atributos e métodos de uma classe são os mesmos para todas as instâncias daquela classe."
   ]
  },
  {
   "cell_type": "code",
   "execution_count": 26,
   "metadata": {},
   "outputs": [
    {
     "name": "stdout",
     "output_type": "stream",
     "text": [
      "Acelera carro.\n",
      "Freando carro.\n",
      "Modelo do carroA é Volkswagen fusca\n"
     ]
    }
   ],
   "source": [
    "# Invoca o método acelerar.\n",
    "carroA.acelerar()\n",
    "\n",
    "# Invoca o método frear.\n",
    "carroA.frear()\n",
    "\n",
    "# Acessando o valor de um atributo do objeto.\n",
    "print('Modelo do carroA é', carroA.modelo)"
   ]
  },
  {
   "cell_type": "markdown",
   "metadata": {},
   "source": [
    "## Encapsulamento\n",
    "\n",
    "Em POO, podemos restringir o acesso aos membros de uma classe (i.e., métodos e atributos). Isso evita que os dados de um objeto sejam modificados diretamente, o que é chamado de **encapsulamento**. \n",
    "\n",
    "Portanto, com o encapsulamento, podemos garantir que o estado interno de um objeto seja ocultado do exterior.\n",
    "\n",
    "Em Python, denotamos membros com acesso limitado usando sublinhados (i.e., underscores) como prefixo, ou seja, `_simples` ou `__duplo`. A quantidade de sublinhados prefixados ao membro da classe dirá o tipo de acesso do membro.\n",
    "\n",
    "#### Membros com acesso público\n",
    "\n",
    "Em Python, todos os membros de uma classe são públicos por padrão. Qualquer membro com acesso público pode ser acessado tanto dentro ou fora do da classe.\n",
    "\n",
    "#### Membros com acesso protegido\n",
    "\n",
    "Membros com acesso protegido devem ser acessados apenas dentro da classe onde foram definidos ou por uma subclasse (ou seja, uma classe que herda a classe onde o membro protegido foi definido).\n",
    "\n",
    "A convenção em Python para tornar um membro **protegido** é adicionar um prefixo `_` (sublinhado simples) a ele. \n",
    "\n",
    "Porém, isso **não impede**, como veremos, que ele seja acessado, fora da classe, mas indica ao programador utilizando aquela classe que aquele membro não deveria ser usado fora da classe.\n",
    "\n",
    "#### Membros com acesso privado\n",
    "\n",
    "Membros com acesso privado devem ser acessados **apenas** dentro da classe onde foram definidos. Um sublinhado duplo `__` prefixado a um membro o torna privado. Diferentemente do acesso protegido, qualquer tentativa de accesar membros privados resultará em um **AttributeError** como o mostrado abaixo.\n",
    "\n",
    "```python\n",
    "AttributeError: 'Carro' object has no attribute '__kilometragem'\n",
    "```\n",
    "\n",
    "#### Resumindo\n",
    "\n",
    "|  Nome  |   Acesso  |                                            Comportamento                                            |\n",
    "|:------:|:---------:|:---------------------------------------------------------------------------------------------------:|\n",
    "|  nome  |  Público  |                           Pode ser acessado de dentro e de fora da classe.                          |\n",
    "|  _nome | Protegido | Pode ser acessado como um membro público, mas não deveria ser acessado diretamente de fora da classe. |\n",
    "| __nome |  Privado  |                           Não pode ser acessado de fora da classe.                          |\n",
    "\n",
    "O acesso a atributos privados e protegidos normalmente só é obtido por meio de métodos especiais, chamados de **getters** e **setters**.\n",
    "\n",
    "No exemplo abaixo, o atributo `__cor` é declarado como protegido e portanto, indicando ao programador, que ele só pode ser acessado dentro da classe `Carro` ou de uma classe que herde de `Carro`.\n",
    "\n",
    "Já os atributos `__anoFabricacao`, e `__kilometragem` e os métodos `__injetarCombustivel()` e `__acionarPastilhadeFreio()` são declarados como sendo privados, e portanto, só podem ser acessados dentro da classe `Carro`."
   ]
  },
  {
   "cell_type": "code",
   "execution_count": 85,
   "metadata": {},
   "outputs": [],
   "source": [
    "class Carro:\n",
    "    \"\"\"Classe que modelo diferentes tipos de carros.\"\"\"\n",
    "    \n",
    "    def __init__(self, modelo='Volkswagen fusca', anoFabricacao=1970, cor='branca', kilometragem=100000):\n",
    "        \"\"\"Construtor da classe Carro.\"\"\"\n",
    "        print('Instanciando um objeto do tipo Carro.')\n",
    "        # Membros públicos.\n",
    "        self.modelo = modelo\n",
    "        # Membros protegidos.\n",
    "        self._cor = cor\n",
    "        # Membros privados.\n",
    "        self.__anoFabricacao = anoFabricacao\n",
    "        self.__kilometragem = kilometragem\n",
    "        \n",
    "    def acelerar(self):\n",
    "        \"\"\"Método para acelerar o carro\"\"\"\n",
    "        self.__injetarCombustivel()\n",
    "        print(\"Acelerando carro.\")\n",
    "        \n",
    "    def __injetarCombustivel(self):\n",
    "        \"\"\"Método que injeta combustível no motor.\"\"\"\n",
    "        print(\"Injetando combustível.\")\n",
    "        \n",
    "    def frear(self):\n",
    "        \"\"\"Método para frear o carro\"\"\"\n",
    "        self. __acionarPastilhadeFreio()\n",
    "        print(\"Freando carro.\")\n",
    "        \n",
    "    def __acionarPastilhadeFreio(self):\n",
    "        \"\"\"Método que aciona a pastilha de freio.\"\"\"\n",
    "        print(\"Pastilha de freio acionada.\")\n",
    "        \n",
    "    def printState(self):\n",
    "        \"\"\"Imprime estado corrente do objeto.\"\"\"\n",
    "        print('Modelo:', self.modelo)\n",
    "        print('Ano de fabricação:', self.__anoFabricacao)\n",
    "        print('Cor:', self._cor)\n",
    "        print('Kilometragem:', self.__kilometragem)"
   ]
  },
  {
   "cell_type": "markdown",
   "metadata": {},
   "source": [
    "#### Invocando um método público."
   ]
  },
  {
   "cell_type": "code",
   "execution_count": 78,
   "metadata": {},
   "outputs": [
    {
     "name": "stdout",
     "output_type": "stream",
     "text": [
      "Instanciando um objeto do tipo Carro.\n",
      "Pastilha de freio acionada.\n",
      "Freando carro.\n"
     ]
    }
   ],
   "source": [
    "# Instanciando um objeto do tipo Carro.\n",
    "carro = Carro()\n",
    "\n",
    "# Invocando o método público frear().\n",
    "carro.frear()"
   ]
  },
  {
   "cell_type": "markdown",
   "metadata": {},
   "source": [
    "#### Invocando um método privado."
   ]
  },
  {
   "cell_type": "code",
   "execution_count": 79,
   "metadata": {},
   "outputs": [
    {
     "ename": "AttributeError",
     "evalue": "'Carro' object has no attribute '__injetarCombustivel'",
     "output_type": "error",
     "traceback": [
      "\u001b[1;31m---------------------------------------------------------------------------\u001b[0m",
      "\u001b[1;31mAttributeError\u001b[0m                            Traceback (most recent call last)",
      "\u001b[1;32m<ipython-input-79-95e47d9a242a>\u001b[0m in \u001b[0;36m<module>\u001b[1;34m\u001b[0m\n\u001b[0;32m      1\u001b[0m \u001b[1;31m# Invocando um método privado.\u001b[0m\u001b[1;33m\u001b[0m\u001b[1;33m\u001b[0m\u001b[1;33m\u001b[0m\u001b[0m\n\u001b[1;32m----> 2\u001b[1;33m \u001b[0mcarro\u001b[0m\u001b[1;33m.\u001b[0m\u001b[0m__injetarCombustivel\u001b[0m\u001b[1;33m(\u001b[0m\u001b[1;33m)\u001b[0m\u001b[1;33m\u001b[0m\u001b[1;33m\u001b[0m\u001b[0m\n\u001b[0m",
      "\u001b[1;31mAttributeError\u001b[0m: 'Carro' object has no attribute '__injetarCombustivel'"
     ]
    }
   ],
   "source": [
    "# Invocando um método privado.\n",
    "carro.__injetarCombustivel()"
   ]
  },
  {
   "cell_type": "markdown",
   "metadata": {},
   "source": [
    "#### Acessando um atributo público."
   ]
  },
  {
   "cell_type": "code",
   "execution_count": 80,
   "metadata": {},
   "outputs": [
    {
     "name": "stdout",
     "output_type": "stream",
     "text": [
      "Modelo: Volkswagen fusca\n"
     ]
    }
   ],
   "source": [
    "# Acessando um atributo público.\n",
    "print('Modelo:', carro.modelo)"
   ]
  },
  {
   "cell_type": "markdown",
   "metadata": {},
   "source": [
    "#### Acessando um atributo protegido."
   ]
  },
  {
   "cell_type": "code",
   "execution_count": 83,
   "metadata": {},
   "outputs": [
    {
     "name": "stdout",
     "output_type": "stream",
     "text": [
      "Cor: branca\n"
     ]
    }
   ],
   "source": [
    "# Acessando um atributo protegido.\n",
    "print('Cor:', carro._cor)"
   ]
  },
  {
   "cell_type": "markdown",
   "metadata": {},
   "source": [
    "#### Acessando um atributo privado."
   ]
  },
  {
   "cell_type": "code",
   "execution_count": 84,
   "metadata": {},
   "outputs": [
    {
     "ename": "AttributeError",
     "evalue": "'Carro' object has no attribute '__kilometragem'",
     "output_type": "error",
     "traceback": [
      "\u001b[1;31m---------------------------------------------------------------------------\u001b[0m",
      "\u001b[1;31mAttributeError\u001b[0m                            Traceback (most recent call last)",
      "\u001b[1;32m<ipython-input-84-fac08bdec358>\u001b[0m in \u001b[0;36m<module>\u001b[1;34m\u001b[0m\n\u001b[0;32m      1\u001b[0m \u001b[1;31m# Acessando um atributo privado.\u001b[0m\u001b[1;33m\u001b[0m\u001b[1;33m\u001b[0m\u001b[1;33m\u001b[0m\u001b[0m\n\u001b[1;32m----> 2\u001b[1;33m \u001b[0mprint\u001b[0m\u001b[1;33m(\u001b[0m\u001b[1;34m'Kilometragem:'\u001b[0m\u001b[1;33m,\u001b[0m \u001b[0mcarro\u001b[0m\u001b[1;33m.\u001b[0m\u001b[0m__kilometragem\u001b[0m\u001b[1;33m)\u001b[0m\u001b[1;33m\u001b[0m\u001b[1;33m\u001b[0m\u001b[0m\n\u001b[0m",
      "\u001b[1;31mAttributeError\u001b[0m: 'Carro' object has no attribute '__kilometragem'"
     ]
    }
   ],
   "source": [
    "# Acessando um atributo privado.\n",
    "print('Kilometragem:', carro.__kilometragem)"
   ]
  },
  {
   "cell_type": "markdown",
   "metadata": {},
   "source": [
    "## Relacionamentos entre classes\n",
    "\n",
    "Como vocês devem ter percebido, uma classe isolada não fornece muita funcionalidade a um sistema. Geralmente as classes que compõem um software tem relacionamentos com outras classes. \n",
    "\n",
    "A vantagem dos relacionamentos entre classes é a de poder criar classes mais complexas utilizando objetos de classes menos complexas.\n",
    "\n",
    "O relacionamento entre classes é feito, basicamente, através de **Composição** e **Herança**.\n",
    "\n",
    "### Composição\n",
    "\n",
    "Composição significa que uma classe A tem um objeto da classe B. \n",
    "\n",
    "A composição geralmente é uma boa escolha quando um objeto faz parte de outro objeto.\n",
    "\n",
    "Por exemplo, a classe `Calculadora` tem um objeto do tipo `Teclado`, e portanto, a composição seria a escolha correta para esse relacionamento.\n",
    "\n",
    "\n",
    "\n",
    "\n"
   ]
  },
  {
   "cell_type": "code",
   "execution_count": null,
   "metadata": {},
   "outputs": [],
   "source": []
  },
  {
   "cell_type": "code",
   "execution_count": null,
   "metadata": {},
   "outputs": [],
   "source": []
  },
  {
   "cell_type": "code",
   "execution_count": null,
   "metadata": {},
   "outputs": [],
   "source": []
  },
  {
   "cell_type": "markdown",
   "metadata": {},
   "source": [
    "### Herança"
   ]
  },
  {
   "cell_type": "code",
   "execution_count": null,
   "metadata": {},
   "outputs": [],
   "source": []
  }
 ],
 "metadata": {
  "kernelspec": {
   "display_name": "Python 3",
   "language": "python",
   "name": "python3"
  },
  "language_info": {
   "codemirror_mode": {
    "name": "ipython",
    "version": 3
   },
   "file_extension": ".py",
   "mimetype": "text/x-python",
   "name": "python",
   "nbconvert_exporter": "python",
   "pygments_lexer": "ipython3",
   "version": "3.7.7"
  }
 },
 "nbformat": 4,
 "nbformat_minor": 4
}
