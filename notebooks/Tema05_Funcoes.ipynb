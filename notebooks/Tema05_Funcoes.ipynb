{
 "cells": [
  {
   "cell_type": "markdown",
   "metadata": {},
   "source": [
    "# Funções\n",
    "\n",
    "## Introdução\n",
    "\n",
    "Funções são partes importantíssimas de todas as linguagens de programação. Como já vimos rapidamente em aulas anteriores, elas são blocos de código que podem ser acessados através de um nome (ou seja, o nome da função) e que executam tarefas específicas.\n",
    "\n",
    "\n",
    "## Características das funções\n",
    "\n",
    "+ Uma função é um **bloco de código** **organizado** e **reutilizável** que é usado para realizar uma única tarefa.\n",
    "+ O nome de uma função deve ser um indicativo desta única tarefa realizada por ela.\n",
    "+ As funções fornecem melhor **modularidade** para seu programa e um alto grau de **reutilização** de código.\n",
    "+ Além disto, tornar partes do seu programa em funções, facilita sua **depuração**.\n",
    "+ Em Python, existem funções definidas por nós usuários e também as definidas pela própria linguagem, também chamadas de funções **embutidas**, ou **built-in**, do Inglês. Por exemplo, as funções `print()` que imprime na tela um string definida pelo programador e `str()` que converte um objeto em string.\n",
    "+ Como já vimos:\n",
    "    * Uma função só é executada quando chamada.\n",
    "    * Podemos passar dados, conhecidos como argumentos, para uma função.\n",
    "    * Funções podem retornar dados como resultado.\n",
    "    \n",
    "## Definindo uma função\n",
    "\n",
    "+ Uma função é definida usando-se a palavra-chave `def` seguida do nome da função, dos parâmetros e de `:`.\n",
    "+ O bloco de código de uma função sempre começa em um nível mais a direita do cabeçalho. Podemos usar tabs ou 3 espaços.\n",
    "+ Em seguida, podemos ter opcionalmente, uma **docstring** explicando o que a função faz. O objetivo das **docstrings** é servir de documentação para aquela estrutura."
   ]
  },
  {
   "cell_type": "code",
   "execution_count": 65,
   "metadata": {},
   "outputs": [],
   "source": [
    "def my_function():\n",
    "    \"\"\"This function prints a greeting message and returns nothing\"\"\"\n",
    "    print(\"Hello from a function\")"
   ]
  },
  {
   "cell_type": "markdown",
   "metadata": {},
   "source": [
    "## Chamando uma função"
   ]
  },
  {
   "cell_type": "code",
   "execution_count": 66,
   "metadata": {},
   "outputs": [
    {
     "name": "stdout",
     "output_type": "stream",
     "text": [
      "Hello from a function\n"
     ]
    }
   ],
   "source": [
    "def my_function():\n",
    "    \"\"\"This function prints a greeting message and returns nothing\"\"\"\n",
    "    print(\"Hello from a function\")\n",
    "\n",
    "# Chamando a função.\n",
    "my_function()"
   ]
  },
  {
   "cell_type": "markdown",
   "metadata": {},
   "source": [
    "## Parâmetros\n",
    "\n",
    "+ Dados podem ser passados para funções como parâmetros.\n",
    "+ Os parâmetros são especificados após o nome da função, entre parênteses. Você pode adicionar quantos parâmetros quiser, apenas separe-os com uma vírgula.\n",
    "\n",
    "O exemplo a seguir define uma função com 2 parâmetros, `name` e `age`. Quando a função é chamada, passamos os argumentos `name` e `age`, que são usados dentro da função para imprimir o nome e a idade:"
   ]
  },
  {
   "cell_type": "code",
   "execution_count": 67,
   "metadata": {},
   "outputs": [
    {
     "name": "stdout",
     "output_type": "stream",
     "text": [
      "José is 22 years old.\n",
      "Ana is 65 years old.\n"
     ]
    }
   ],
   "source": [
    "def my_function(name, age):\n",
    "    \"\"\"This function prints a person's name and age.\"\"\"\n",
    "    print('%s is %d years old.' % (name, age))\n",
    "\n",
    "# Chamando a função.\n",
    "my_function('José', 22)\n",
    "my_function('Ana', 65)"
   ]
  },
  {
   "cell_type": "markdown",
   "metadata": {},
   "source": [
    "## Funções com número arbitrário de parâmetros, `*args`\n",
    "\n",
    "+ Se você não sabe quantos argumentos serão passados para sua função, adicione um `*` antes do nome do parâmetro na definição da função.\n",
    "+ Dessa forma, a função receberá uma **tupla** de argumentos e poderá acessar os itens como mostrado no exemplo abaixo:"
   ]
  },
  {
   "cell_type": "code",
   "execution_count": 68,
   "metadata": {},
   "outputs": [
    {
     "name": "stdout",
     "output_type": "stream",
     "text": [
      "The youngest child is João who is 2 years old.\n"
     ]
    }
   ],
   "source": [
    "def my_function(*kids):\n",
    "    \"\"\"This function prints the name and age of the youngest child\"\"\"\n",
    "    print(\"The youngest child is %s who is %d years old.\" % (kids[0],kids[1]) )\n",
    "\n",
    "# Chamando a função.\n",
    "my_function(\"João\", 2, \"Ana\", 5, \"José\", 9)"
   ]
  },
  {
   "cell_type": "markdown",
   "metadata": {},
   "source": [
    "## Passando argumentos com palavras-chave\n",
    "\n",
    "Você também pode passar argumentos para uma função com a sintaxe `chave=valor`. Dessa forma, a ordem dos argumentos não importa."
   ]
  },
  {
   "cell_type": "code",
   "execution_count": 69,
   "metadata": {},
   "outputs": [
    {
     "name": "stdout",
     "output_type": "stream",
     "text": [
      "Employee name: João, age: 23 and salary: 1234.56 USD\n"
     ]
    }
   ],
   "source": [
    "def my_function(name, age, salary):\n",
    "    '''Function that prints name, age and salary of an employee.'''\n",
    "    print('Employee name: %s, age: %d and salary: %1.2f USD' % (name, age, salary))\n",
    "\n",
    "# Chamando a função.\n",
    "my_function(salary=1234.56, name='João', age=23)"
   ]
  },
  {
   "cell_type": "markdown",
   "metadata": {},
   "source": [
    "## Argumentos de palavras-chave arbitrárias, `**kwargs`\n",
    "\n",
    "Se você não souber quantos argumentos serão passados para sua função com palavras-chave, adicione dois asteriscos `**` antes do nome do parâmetro na definição da função.\n",
    "\n",
    "Dessa forma, a função receberá um **dicionário** de argumentos, e poderá acessar os itens como mostrado no exemplo abaixo:"
   ]
  },
  {
   "cell_type": "code",
   "execution_count": 70,
   "metadata": {},
   "outputs": [
    {
     "name": "stdout",
     "output_type": "stream",
     "text": [
      "Employee name: João, age: 23 and salary: 1234.56 USD\n"
     ]
    }
   ],
   "source": [
    "def my_function(**employee):\n",
    "    '''Function that prints name, age and salary of an employee.'''\n",
    "    print('Employee name: %s, age: %d and salary: %1.2f USD' % (employee['name'], employee['age'], employee['salary']))\n",
    "\n",
    "# Chamando a função.\n",
    "my_function(salary=1234.56, name='João', age=23)"
   ]
  },
  {
   "cell_type": "markdown",
   "metadata": {},
   "source": [
    "## Valor padrão de um parâmetro \n",
    "\n",
    "O exemplo a seguir mostra como usar um valor de parâmetro padrão.\n",
    "\n",
    "Nesse caso, se chamarmos a função sem argumento, ela usará o valor padrão definido na lista de parâmetros da função:"
   ]
  },
  {
   "cell_type": "code",
   "execution_count": 71,
   "metadata": {},
   "outputs": [
    {
     "name": "stdout",
     "output_type": "stream",
     "text": [
      "Employee name: José, age: 22 and salary: 1000.00 USD\n"
     ]
    }
   ],
   "source": [
    "def my_function(name='José', age=22, salary=1000.00):\n",
    "    '''Function that prints name, age and salary of an employee.'''\n",
    "    print('Employee name: %s, age: %d and salary: %1.2f USD' % (name, age, salary))\n",
    "\n",
    "# Chamando a função.\n",
    "my_function()"
   ]
  },
  {
   "cell_type": "markdown",
   "metadata": {},
   "source": [
    "## Passando objetos como argumentos\n",
    "\n",
    "Você pode passar qualquer tipo de dado como argumento para uma função (string, número, lista, tupla, dicionário, conjunto, etc.), e ele será tratado como o mesmo tipo de dado dentro da função.\n",
    "\n",
    "Por exemplo, se você enviar uma lista como argumento, ela ainda será uma lista dentro do bloco de código da função."
   ]
  },
  {
   "cell_type": "code",
   "execution_count": 72,
   "metadata": {},
   "outputs": [
    {
     "name": "stdout",
     "output_type": "stream",
     "text": [
      "Tipo do parâmetro food é: <class 'list'>\n",
      "apple\n",
      "banana\n",
      "cherry\n"
     ]
    }
   ],
   "source": [
    "def my_function(food):\n",
    "    print('Tipo do parâmetro food é:', type(food))\n",
    "    for x in food:\n",
    "        print(x)\n",
    "\n",
    "# Definindo uma lista de frutas.\n",
    "fruits = [\"apple\", \"banana\", \"cherry\"]\n",
    "\n",
    "# Chamando a função.\n",
    "my_function(fruits)"
   ]
  },
  {
   "cell_type": "markdown",
   "metadata": {},
   "source": [
    "## Retornando valores\n",
    "\n",
    "Nós utilizamos a instrução `return` para permitir que uma função retorne um ou mais valores."
   ]
  },
  {
   "cell_type": "code",
   "execution_count": 73,
   "metadata": {},
   "outputs": [
    {
     "name": "stdout",
     "output_type": "stream",
     "text": [
      "15\n"
     ]
    }
   ],
   "source": [
    "def my_function(x):\n",
    "    '''Function that returns the multiplication of a number by 5.'''\n",
    "    return 5 * x\n",
    "\n",
    "print(my_function(3))"
   ]
  },
  {
   "cell_type": "markdown",
   "metadata": {},
   "source": [
    "Para retornar mais de um valor use virgulas para separar os valores de retorno. Estritamente falando, uma função em Python que retorna vários valores, na verdade, retorna uma **tupla** contendo cada valor."
   ]
  },
  {
   "cell_type": "code",
   "execution_count": 86,
   "metadata": {},
   "outputs": [
    {
     "name": "stdout",
     "output_type": "stream",
     "text": [
      "O tipo do retorno é: <class 'tuple'>\n",
      "Os valores de retorno são: (60, 6.0)\n"
     ]
    }
   ],
   "source": [
    "def my_function(x):\n",
    "    '''Function that returns the result of two operations.'''\n",
    "    return 5 * x, x / 2\n",
    "\n",
    "valores = my_function(12)\n",
    "print('O tipo do retorno é:', type(valores))\n",
    "print('Os valores de retorno são:', valores)"
   ]
  },
  {
   "cell_type": "markdown",
   "metadata": {},
   "source": [
    "## Namespace\n",
    "\n",
    "Funções tem **namespace próprio** ou seja, elas tem **escopo local**, e por isso podem ofuscar definições de escopo global."
   ]
  },
  {
   "cell_type": "code",
   "execution_count": 81,
   "metadata": {},
   "outputs": [
    {
     "name": "stdout",
     "output_type": "stream",
     "text": [
      "Valor da variável global var: 12\n",
      "Valor da variável global var após chamada da função: 12\n"
     ]
    }
   ],
   "source": [
    "# variável global.\n",
    "var = 12\n",
    "\n",
    "# Definição de uma função.\n",
    "def my_function(par):\n",
    "    ##global var\n",
    "    var = par\n",
    "    return var\n",
    "    \n",
    "# Imprime valor da variável global.\n",
    "print('Valor da variável global var:', var)\n",
    "# Chama função.\n",
    "my_function(33)\n",
    "# Imprime valor da variável global.\n",
    "print('Valor da variável global var após chamada da função:', var)"
   ]
  },
  {
   "cell_type": "markdown",
   "metadata": {},
   "source": [
    "## Passagem por atribuição de referência\n",
    "\n",
    "Diferentemente de outras linguagens, Python passa argumentos nem por referência nem por valor, mas sim por atribuição.\n",
    "\n",
    "Vejamos o exemplo abaixo."
   ]
  },
  {
   "cell_type": "code",
   "execution_count": 91,
   "metadata": {},
   "outputs": [
    {
     "name": "stdout",
     "output_type": "stream",
     "text": [
      "Initial address of n: 1b78db70130, valor: 9001\n",
      "Initial address of x: 1b78db70130, valor: 9001\n",
      "Final address of x: 1b78db70350, valor: 9002\n",
      "Final address of n: 1b78db70130, valor: 9001\n"
     ]
    }
   ],
   "source": [
    "def main():\n",
    "    n = 9001\n",
    "    print(\"Initial address of n: %x, valor: %d\" % (id(n), n))\n",
    "    increment(n)\n",
    "    print(\"Final address of n: %x, valor: %d\" % (id(n), n))\n",
    "\n",
    "def increment(x):\n",
    "    print(\"Initial address of x: %x, valor: %d\" % (id(x), x))\n",
    "    x += 1\n",
    "    print(\"Final address of x: %x, valor: %d\" % (id(x), x))\n",
    "\n",
    "main()"
   ]
  },
  {
   "cell_type": "markdown",
   "metadata": {},
   "source": [
    "A função `id()` retorna a identidade de um objeto. Essa identidade é única e constante para este objeto durante toda a sua vida.\n",
    "\n",
    "O fato de que as identidades iniciais de `n` e `x` são as mesmos quando invocamos a função `increment()` prova que o argumento `x` não está sendo passado por valor. Caso contrário, `n` e `x` teriam identidades distintas.\n",
    "\n",
    "Em Python, nós podemos replicar a passagem por referência usando tipos **mutáveis** e **indexáveis** (ou seja, quando um subconjunto de sua estrutura pode ser acessado por índices) como listas e dicionários, por exemplo.\n",
    "\n",
    "No exemplo abaixo, usamos uma lista para passar o valor da variável `n` por referência para a função `increment`."
   ]
  },
  {
   "cell_type": "code",
   "execution_count": 93,
   "metadata": {},
   "outputs": [
    {
     "name": "stdout",
     "output_type": "stream",
     "text": [
      "Initial address of n: 1b78d9532c0, valor: 9001\n",
      "Initial address of x: 1b78d9532c0, valor: 9001\n",
      "Final address of x: 1b78d9532c0, valor: 9002\n",
      "Final address of n: 1b78d9532c0, valor: 9002\n"
     ]
    }
   ],
   "source": [
    "def main():\n",
    "    # Agora n é uma lista.\n",
    "    n = [9001]\n",
    "    print(\"Initial address of n: %x, valor: %d\" % (id(n), n[0]))\n",
    "    increment(n)\n",
    "    print(\"Final address of n: %x, valor: %d\" % (id(n), n[0]))\n",
    "\n",
    "def increment(x):\n",
    "    print(\"Initial address of x: %x, valor: %d\" % (id(x), x[0]))\n",
    "    x[0] += 1\n",
    "    print(\"Final address of x: %x, valor: %d\" % (id(x), x[0]))\n",
    "\n",
    "main()"
   ]
  },
  {
   "cell_type": "markdown",
   "metadata": {},
   "source": [
    "Visto que o parâmetro passado é uma **referência** para a lista `n`, e não uma cópia dele, podemos acessar os elementos da lista, alterá-los e ter as alterações refletidas no escopo externo.\n",
    "\n",
    "Agora vejamos o que acontece quando tentamos alterar a referência que foi passada como parâmetro:"
   ]
  },
  {
   "cell_type": "code",
   "execution_count": 95,
   "metadata": {},
   "outputs": [
    {
     "name": "stdout",
     "output_type": "stream",
     "text": [
      "Initial address of n: 1b78d9e75c0, valor: 9001\n",
      "Initial address of x: 1b78d9e75c0, valor: 9001\n",
      "Final address of x: 1b78da32d80, valor: 5\n",
      "Final address of n: 1b78d9e75c0, valor: 9001\n"
     ]
    }
   ],
   "source": [
    "def main():\n",
    "    # Agora n é uma lista.\n",
    "    n = [9001]\n",
    "    print(\"Initial address of n: %x, valor: %d\" % (id(n), n[0]))\n",
    "    increment(n)\n",
    "    print(\"Final address of n: %x, valor: %d\" % (id(n), n[0]))\n",
    "\n",
    "\n",
    "def increment(x):\n",
    "    print(\"Initial address of x: %x, valor: %d\" % (id(x), x[0]))\n",
    "    x = [4, 5]\n",
    "    x[0] += 1\n",
    "    print(\"Final address of x: %x, valor: %d\" % (id(x), x[0]))\n",
    "\n",
    "main()"
   ]
  },
  {
   "cell_type": "markdown",
   "metadata": {},
   "source": [
    "Vejam que a lista `n` foi passada por referência para o parâmetro `x` e atribuir uma nova lista a ele não teve nenhum efeito que o código fora da função `increment` pudesse ver. \n",
    "\n",
    "O parâmetro `x` recebe uma referência para a lista `n`, porém, o código da função `increment` faz com que `x` aponte para a referência de uma nova lista, desta forma, não há modificação na referência que `x` apontava anteriormente, ou seja, a lista armazenada por `n`."
   ]
  },
  {
   "cell_type": "markdown",
   "metadata": {},
   "source": [
    "## Funções embutidas\n",
    "\n",
    "O interpretador da linguagem Python tem várias funções e tipos integrados que estão sempre disponíveis, ou seja, não é necessário se importar um módulo. Essas funções estão listados aqui em ordem alfabética.\n",
    "\n",
    "Olhando a lista, vocês devem ter identidficados algumas funções embutidas que já foram vistas anteriormente.\n",
    "\n",
    "<style type=\"text/css\">\n",
    ".tg  {border-collapse:collapse;border-spacing:0;}\n",
    ".tg td{border-color:black;border-style:solid;border-width:1px;font-family:Arial, sans-serif;font-size:14px;\n",
    "  overflow:hidden;padding:10px 5px;word-break:normal;}\n",
    ".tg th{border-color:black;border-style:solid;border-width:1px;font-family:Arial, sans-serif;font-size:14px;\n",
    "  font-weight:normal;overflow:hidden;padding:10px 5px;word-break:normal;}\n",
    ".tg .tg-c3ow{border-color:inherit;text-align:center;vertical-align:top}\n",
    "</style>\n",
    "<table class=\"tg\">\n",
    "<thead>\n",
    "  <tr>\n",
    "    <th class=\"tg-c3ow\" colspan=\"5\">Funções embutidas</th>\n",
    "  </tr>\n",
    "</thead>\n",
    "<tbody>\n",
    "  <tr>\n",
    "    <td class=\"tg-c3ow\">abs()</td>\n",
    "    <td class=\"tg-c3ow\">delattr()</td>\n",
    "    <td class=\"tg-c3ow\">hash()</td>\n",
    "    <td class=\"tg-c3ow\">memoryview()</td>\n",
    "    <td class=\"tg-c3ow\">set()</td>\n",
    "  </tr>\n",
    "  <tr>\n",
    "    <td class=\"tg-c3ow\">all()</td>\n",
    "    <td class=\"tg-c3ow\">dict()</td>\n",
    "    <td class=\"tg-c3ow\">help()</td>\n",
    "    <td class=\"tg-c3ow\">min()</td>\n",
    "    <td class=\"tg-c3ow\">setattr()</td>\n",
    "  </tr>\n",
    "  <tr>\n",
    "    <td class=\"tg-c3ow\">any()</td>\n",
    "    <td class=\"tg-c3ow\">dir()</td>\n",
    "    <td class=\"tg-c3ow\">hex()</td>\n",
    "    <td class=\"tg-c3ow\">next()</td>\n",
    "    <td class=\"tg-c3ow\">slice()</td>\n",
    "  </tr>\n",
    "  <tr>\n",
    "    <td class=\"tg-c3ow\">ascii()</td>\n",
    "    <td class=\"tg-c3ow\">divmod()</td>\n",
    "    <td class=\"tg-c3ow\">id()</td>\n",
    "    <td class=\"tg-c3ow\">object()</td>\n",
    "    <td class=\"tg-c3ow\">sorted()</td>\n",
    "  </tr>\n",
    "  <tr>\n",
    "    <td class=\"tg-c3ow\">bin()</td>\n",
    "    <td class=\"tg-c3ow\">enumerate()</td>\n",
    "    <td class=\"tg-c3ow\">input()</td>\n",
    "    <td class=\"tg-c3ow\">oct()</td>\n",
    "    <td class=\"tg-c3ow\">staticmethod()</td>\n",
    "  </tr>\n",
    "  <tr>\n",
    "    <td class=\"tg-c3ow\">bool()</td>\n",
    "    <td class=\"tg-c3ow\">eval()</td>\n",
    "    <td class=\"tg-c3ow\">int()</td>\n",
    "    <td class=\"tg-c3ow\">open()</td>\n",
    "    <td class=\"tg-c3ow\">str()</td>\n",
    "  </tr>\n",
    "  <tr>\n",
    "    <td class=\"tg-c3ow\">breakpoint()</td>\n",
    "    <td class=\"tg-c3ow\">exec()</td>\n",
    "    <td class=\"tg-c3ow\">isinstance()</td>\n",
    "    <td class=\"tg-c3ow\">ord()</td>\n",
    "    <td class=\"tg-c3ow\">sum()</td>\n",
    "  </tr>\n",
    "  <tr>\n",
    "    <td class=\"tg-c3ow\">bytearray()</td>\n",
    "    <td class=\"tg-c3ow\">filter()</td>\n",
    "    <td class=\"tg-c3ow\">issubclass()</td>\n",
    "    <td class=\"tg-c3ow\">pow()</td>\n",
    "    <td class=\"tg-c3ow\">super()</td>\n",
    "  </tr>\n",
    "  <tr>\n",
    "    <td class=\"tg-c3ow\">bytes()</td>\n",
    "    <td class=\"tg-c3ow\">float()</td>\n",
    "    <td class=\"tg-c3ow\">iter()</td>\n",
    "    <td class=\"tg-c3ow\">print()</td>\n",
    "    <td class=\"tg-c3ow\">tuple()</td>\n",
    "  </tr>\n",
    "  <tr>\n",
    "    <td class=\"tg-c3ow\">callable()</td>\n",
    "    <td class=\"tg-c3ow\">format()</td>\n",
    "    <td class=\"tg-c3ow\">len()</td>\n",
    "    <td class=\"tg-c3ow\">property()</td>\n",
    "    <td class=\"tg-c3ow\">type()</td>\n",
    "  </tr>\n",
    "  <tr>\n",
    "    <td class=\"tg-c3ow\">chr()</td>\n",
    "    <td class=\"tg-c3ow\">frozenset()</td>\n",
    "    <td class=\"tg-c3ow\">list()</td>\n",
    "    <td class=\"tg-c3ow\">range()</td>\n",
    "    <td class=\"tg-c3ow\">vars()</td>\n",
    "  </tr>\n",
    "  <tr>\n",
    "    <td class=\"tg-c3ow\">classmethod()</td>\n",
    "    <td class=\"tg-c3ow\">getattr()</td>\n",
    "    <td class=\"tg-c3ow\">locals()</td>\n",
    "    <td class=\"tg-c3ow\">repr()</td>\n",
    "    <td class=\"tg-c3ow\">zip()</td>\n",
    "  </tr>\n",
    "  <tr>\n",
    "    <td class=\"tg-c3ow\">compile()</td>\n",
    "    <td class=\"tg-c3ow\">globals()</td>\n",
    "    <td class=\"tg-c3ow\">map()</td>\n",
    "    <td class=\"tg-c3ow\">reversed()</td>\n",
    "    <td class=\"tg-c3ow\">__import__()</td>\n",
    "  </tr>\n",
    "  <tr>\n",
    "    <td class=\"tg-c3ow\">complex()</td>\n",
    "    <td class=\"tg-c3ow\">hasattr()</td>\n",
    "    <td class=\"tg-c3ow\">max()</td>\n",
    "    <td class=\"tg-c3ow\">round()</td>\n",
    "    <td class=\"tg-c3ow\"></td>\n",
    "  </tr>\n",
    "</tbody>\n",
    "</table>\n",
    "\n",
    "Para mais informações sobre estas funções embutidas, por favor, visitem: https://docs.python.org/3/library/functions.html"
   ]
  },
  {
   "cell_type": "markdown",
   "metadata": {},
   "source": [
    "## Funções matemáticas\n",
    "\n",
    "O módulo `math` é um módulo padrão da linguagem Python e está sempre disponível, ou seja, não precisa ser instalado. Para usar as funções matemáticas disponibilizadas pelo módulo, você deve importar o módulo usando `import math`.\n",
    "\n",
    "**OBS.**: Este módulo não suporta tipos de dados complexos. O módulo `cmath` é a contraparte complexa do módulo `math`.\n",
    "\n",
    "A tabela abaixo apresenta todas as funções e constantes definidas no módulo `math` com uma breve explicação do que elas fazem.\n",
    "\n",
    "|     Função     |                                            Descrição                                            |\n",
    "|:--------------:|:-----------------------------------------------------------------------------------------------:|\n",
    "|     ceil(x)    | Retorna o menor inteiro maior ou igual a x.                                                     |\n",
    "| copysign(x, y) | Retorna x com o sinal de y                                                                      |\n",
    "|     fabs(x)    | Retorna o valor absoluto de x                                                                   |\n",
    "|  factorial(x)  | Retorna o fatorial de x                                                                         |\n",
    "|    floor(x)    | Retorna o maior inteiro menor ou igual a x                                                      |\n",
    "|   fmod(x, y)   | Retorna o resto quando x é dividido por y                                                       |\n",
    "|    frexp(x)    | Retorna a mantissa e o expoente de x como o par (m, e)                                          |\n",
    "| fsum(iterable) | Retorna uma soma de valores de ponto flutuante precisa no iterável                              |\n",
    "|   isfinite(x)  | Retorna verdadeiro se x não for infinito nem NaN (não é um número)                              |\n",
    "|    isinf(x)    | Retorna True se x for um infinito positivo ou negativo                                          |\n",
    "|    isnan(x)    | Retorna True se x for um NaN                                                                    |\n",
    "|   ldexp(x, i)  | Retorna x * (2 ** i)                                                                            |\n",
    "|     modf(x)    | Retorna as partes fracionárias e inteiras de x                                                  |\n",
    "|    trunc(x)    | Retorna o valor inteiro truncado de x                                                           |\n",
    "|     exp(x)     | Retorna e ** x                                                                                  |\n",
    "|    expm1(x)    | Retorna e ** x - 1                                                                              |\n",
    "| log(x[, base]) | Retorna o logaritmo de x para a base definida (por padrão, a base é `e`)                                             |\n",
    "|    log1p(x)    | Retorna o logaritmo natural de 1 + x                                                            |\n",
    "|     log2(x)    | Retorna o logaritmo de base 2 de x                                                              |\n",
    "|    log10(x)    | Retorna o logaritmo de base 10 de x                                                             |\n",
    "|    pow(x, y)   | Retorna x elevado à potência y                                                                  |\n",
    "|     sqrt(x)    | Retorna a raiz quadrada de x                                                                    |\n",
    "|     acos(x)    | Retorna o arco cosseno de x                                                                     |\n",
    "|     asin(x)    | Retorna o arco seno de x                                                                        |\n",
    "|     atan(x)    | Retorna o arco tangente de x                                                                    |\n",
    "|   atan2(y, x)  | Retorna atan (y / x)                                                                            |\n",
    "|     cos(x)     | Retorna o cosseno de x                                                                          |\n",
    "|   hypot(x, y)  | Retorna a norma euclidiana, sqrt (x * x + y * y)                                                |\n",
    "|     sin(x)     | Retorna o seno de x                                                                             |\n",
    "|     tan(x)     | Retorna a tangente de x                                                                         |\n",
    "|   degrees(x)   | Converte o ângulo x de radianos para graus                                                      |\n",
    "|   radians(x)   | Converte o ângulo x de graus para radianos                                                      |\n",
    "|    acosh(x)    | Retorna o cosseno hiperbólico inverso de x                                                      |\n",
    "|    asinh(x)    | Retorna o seno hiperbólico inverso de x                                                         |\n",
    "|    atanh(x)    | Retorna a tangente hiperbólica inversa de x                                                     |\n",
    "|     cosh(x)    | Retorna o cosseno hiperbólico de x                                                              |\n",
    "|     sinh(x)    | Retorna o cosseno hiperbólico de x                                                              |\n",
    "|     tanh(x)    | Retorna a tangente hiperbólica de x                                                             |\n",
    "|     erf(x)     | Retorna a função de erro em x                                                                   |\n",
    "|     erfc(x)    | Retorna a função de erro complementar para x                                                      |\n",
    "|    gamma(x)    | Retorna a função Gamma para x                                                                     |\n",
    "|    lgamma(x)   | Retorna o logaritmo natural do valor absoluto da função Gamma para x                              |\n",
    "|       pi       | Constante matemática, a razão entre a circunferência de um círculo e seu diâmetro (3.14159 ...) |\n",
    "|        e       | Constante matemática `e` (2,71828 ...)                                                            |"
   ]
  },
  {
   "cell_type": "markdown",
   "metadata": {},
   "source": [
    "## Tarefa\n",
    "\n",
    "1. <span style=\"color:blue\">**QUIZ - Funções**</span>: respondam ao questionário sobre funções no MS teams, por favor. "
   ]
  },
  {
   "cell_type": "markdown",
   "metadata": {},
   "source": [
    "## Recursão\n",
    "\n",
    "+ Recursão é um conceito comum na matemática e em linguagens de programação e que significa que uma função chama a si mesma um número indefinido de vezes.\n",
    "+ Python também aceita recursão de funções.\n",
    "+ Recursão é um método de resolução de problemas que envolve quebrar um problema em subproblemas menores e menores até chegarmos a um problema pequeno o suficiente para que ele possa ser resolvido trivialmente.\n",
    "\n",
    "### Importante\n",
    "\n",
    "+ O programador deve ter muito cuidado com a recursão, pois é muito fácil *escorregar* e escrever uma função que nunca termina, ou uma que usa quantidades excessivas de memória ou de poder de processamento. \n",
    "+ No entanto, quando escrito corretamente, a recursão pode ser uma abordagem de programação muito eficiente e matematicamente elegante para problemas que, de outra forma, podem ser muito difíceis de resolver (embora possa não parecer muito inicialmente).\n",
    "\n",
    "#### Exemplo #1\n",
    "\n",
    "Vamos começar com um problema simples que vocês já saberiam como resolver sem o uso de recursão. Suponha que vocês desejam calcular a soma dos valores de uma lista de números, tais como: \n",
    "\n",
    "```python\n",
    "lista = [1,3,5,7,9]\n",
    "```\n",
    "\n",
    "Uma função iterativa que calcula essa soma é mostrada abaixo. A função usa uma variável acumuladora `soma` para calcular o total de todos os números da lista, iniciando a variável `soma` com 0."
   ]
  },
  {
   "cell_type": "code",
   "execution_count": 96,
   "metadata": {},
   "outputs": [
    {
     "name": "stdout",
     "output_type": "stream",
     "text": [
      "A soma da lista é igual a: 25\n"
     ]
    }
   ],
   "source": [
    "def somaLista(lista):\n",
    "    soma = 0\n",
    "    for i in lista:\n",
    "        soma = soma + i\n",
    "    return soma\n",
    "\n",
    "print('A soma da lista é igual a:', somaLista([1,3,5,7,9]))"
   ]
  },
  {
   "cell_type": "markdown",
   "metadata": {},
   "source": [
    "Agora, imaginem que vocês não tem ou não podem usar laços `while` ou `for`. Como vocês calculariam a soma dessa lista de números? \n",
    "\n",
    "Se vocês fossem matemáticos, vocês poderiam começar recordando que a adição é uma função definida para dois parâmetros, ou seja, um par de números.\n",
    "\n",
    "$$soma = a + b$$\n",
    "\n",
    "Para redefinir o problema da adição de uma lista como a adição de pares de números, podemos reescrever a soma dos elementos da lista como uma expressão entre parênteses, como mostrado abaixo:\n",
    "\n",
    "$$soma = ((((1+3)+5)+7)+9)$$\n",
    "\n",
    "Poderíamos também colocar os parênteses na ordem reversa,\n",
    "\n",
    "$$soma = 1+(3+(5+(7+9))))$$\n",
    "\n",
    "Observe que o par de parênteses mais interno, $(7+9)$, é um problema que podemos resolver sem um laço ou qualquer construção especial. Na verdade, podemos utilizar a seguinte sequência de simplificações para calcular uma soma dos elementos da lista:\n",
    "\n",
    "$$soma = (1+(3+(5+(7+9)))) \\\\ soma = (1+(3+(5+16))) \\\\ soma = (1+(3+21)) \\\\ soma = (1+24) \\\\ soma = 25$$\n",
    "\n",
    "Como podemos usar essa ideia e transformá-la em um programa em Python? \n",
    "\n",
    "Em primeiro lugar, vamos reformular o problema da soma em termos de listas. Poderíamos dizer que a soma da lista `lista` é a soma do primeiro elemento da lista (`lista[0]`), com a soma do restante de elementos da lista (`lista[1:]`). De forma programática, podemos escrever:\n",
    "\n",
    "$$somaLista(lista) = first(lista) + somaLista(rest(lista))$$\n",
    "\n",
    "Nesta equação `first(lista)` retorna o primeiro elemento da lista e `rest(lista)` retorna uma lista com todos os elementos menos o primeiro. Isso pode ser expresso facilmente em Python como no trecho de código abaixo."
   ]
  },
  {
   "cell_type": "code",
   "execution_count": 78,
   "metadata": {},
   "outputs": [
    {
     "name": "stdout",
     "output_type": "stream",
     "text": [
      "A soma da lista é igual a: 25\n"
     ]
    }
   ],
   "source": [
    "def somaLista(lista):\n",
    "    if len(lista) == 1:\n",
    "        return lista[0]\n",
    "    else:\n",
    "        return lista[0] + somaLista(lista[1:])\n",
    "\n",
    "print('A soma da lista é igual a:', somaLista([1,3,5,7,9]))"
   ]
  },
  {
   "cell_type": "markdown",
   "metadata": {},
   "source": [
    "### Características de uma função recursiva\n",
    "\n",
    "Como vimos no exemplo acima, uma função recursiva **DEVE** conter duas características:\n",
    "\n",
    "+ Uma relação de recorrência, também conhecido como caso recursivo.\n",
    "+ Uma condição de término, ou seja, onde não há nenhuma chamada recursiva (recursão requer uma condição de encerramento adequada para parar, caso contrário o código pode executar indefinidamente)."
   ]
  },
  {
   "cell_type": "markdown",
   "metadata": {},
   "source": [
    "#### Exemplo #2\n",
    "\n",
    "Escreva uma função que calcule o valor de um número real `x` elevado a um número natural `n`.\n",
    "\n",
    "##### Solução #1 (sem recursão)\n",
    "\n",
    "Calcular um produtório:  $ \\text{potencia}(x,n)= \\prod_{i=1}^{n} x $"
   ]
  },
  {
   "cell_type": "code",
   "execution_count": 97,
   "metadata": {},
   "outputs": [
    {
     "name": "stdout",
     "output_type": "stream",
     "text": [
      "O valor de 2.5 elevado a 5 é igual a: 97.66\n"
     ]
    }
   ],
   "source": [
    "def potencia(x, n):\n",
    "    pot = 1.0\n",
    "    while n > 0:\n",
    "        pot *= x\n",
    "        n -= 1\n",
    "        \n",
    "    return pot\n",
    "\n",
    "base = 2.5\n",
    "expoente = 5\n",
    "print(\"O valor de %1.1f elevado a %d é igual a: %1.2f\" % (base, expoente, potencia(base,expoente)))"
   ]
  },
  {
   "cell_type": "markdown",
   "metadata": {},
   "source": [
    "##### Solução #2 (com recursão)\n",
    "\n",
    "Calcula a seguinte recorrência:\n",
    "\n",
    "$ \\text{potencia}(x,n) =\\begin{cases}1, & \\text{ se } n = 0\\\\x*potencia(x, n−1), & \\text{ se }  n > 0 \\end{cases} $"
   ]
  },
  {
   "cell_type": "code",
   "execution_count": 98,
   "metadata": {},
   "outputs": [
    {
     "name": "stdout",
     "output_type": "stream",
     "text": [
      "O valor de 2.5 elevado a 5 é igual a: 97.66\n"
     ]
    }
   ],
   "source": [
    "def potencia(x, n):\n",
    "    if n == 0:        # Caso base seja igual a 0.\n",
    "        return 1.0    # Solução direta\n",
    "    else:\n",
    "        return x * potencia(x, n-1)    # Chamada recursiva\n",
    "    \n",
    "base = 2.5\n",
    "expoente = 5\n",
    "print(\"O valor de %1.1f elevado a %d é igual a: %1.2f\" % (base, expoente, potencia(base,expoente)))"
   ]
  },
  {
   "cell_type": "markdown",
   "metadata": {},
   "source": [
    "## Tarefas\n",
    "\n",
    "1. <span style=\"color:blue\">**QUIZ - Recursão**</span>: respondam ao questionário sobre recursão no MS teams, por favor. \n",
    "2. <span style=\"color:blue\">**Laboratório #5**</span>: cliquem em um dos links abaixo para accessar os exercícios do laboratório #5.\n",
    "\n",
    "[![Binder](https://mybinder.org/badge_logo.svg)](https://mybinder.org/v2/gh/zz4fap/python-programming/master?filepath=labs%2FLaboratorio5.ipynb)\n",
    "\n",
    "[![Google Colab](https://badgen.net/badge/Launch/on%20Google%20Colab/blue?icon=terminal)](https://colab.research.google.com/github/zz4fap/python-programming/blob/master/labs/Laboratorio5.ipynb)\n",
    "\n",
    "**IMPORTANTE**: Para acessar o material das aulas e realizar as entregas dos exercícios de laboratório, por favor, leiam o tutorial no seguinte link:\n",
    "[Material-das-Aulas](../docs/Acesso-ao-material-das-aulas-resolucao-e-entrega-dos-laboratorios.pdf)"
   ]
  },
  {
   "cell_type": "markdown",
   "metadata": {},
   "source": [
    "## Avisos\n",
    "\n",
    "* Respostas dos laboratórios estão na aba de arquivos do MS Teams.\n",
    "* Se atentem aos prazos de entrega das tarefas na aba de **Avaliações** do MS Teams.\n",
    "* Horário de atendimento todas as Quintas-feiras as 17:30 às 19:30 via MS Teams enquanto as aulas presenciais não retornam."
   ]
  },
  {
   "cell_type": "markdown",
   "metadata": {},
   "source": [
    "<img src=\"../figures/obrigado.png\" width=\"1000\" height=\"1000\">"
   ]
  }
 ],
 "metadata": {
  "kernelspec": {
   "display_name": "Python 3",
   "language": "python",
   "name": "python3"
  },
  "language_info": {
   "codemirror_mode": {
    "name": "ipython",
    "version": 3
   },
   "file_extension": ".py",
   "mimetype": "text/x-python",
   "name": "python",
   "nbconvert_exporter": "python",
   "pygments_lexer": "ipython3",
   "version": "3.7.7"
  }
 },
 "nbformat": 4,
 "nbformat_minor": 4
}
