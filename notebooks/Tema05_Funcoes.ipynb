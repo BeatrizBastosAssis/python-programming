{
 "cells": [
  {
   "cell_type": "markdown",
   "metadata": {},
   "source": [
    "# Funções\n",
    "\n",
    "## Introdução\n",
    "\n",
    "Funções são partes importantíssimas de todas as linguagens de programação. Como já vimos rapidamente em aulas anteriores, elas são blocos de código que podem ser acessados através de um nome (ou seja, o nome da função) e que executam tarefas específicas.\n",
    "\n",
    "\n",
    "### Características das funções\n",
    "\n",
    "+ Uma função é um **bloco de código** **organizado** e **reutilizável** que é usado para realizar uma única tarefa.\n",
    "+ O nome de uma função deve ser um indicativo desta única tarefa realizada por ela.\n",
    "+ As funções fornecem melhor **modularidade** para seu programa e um alto grau de **reutilização** de código.\n",
    "+ Além disto, tornar partes do seu programa em funções, facilita sua **depuração**.\n",
    "+ Em Python, existem funções definidas por nós usuários e também as definidas pela própria linguagem, também chamadas de funções **embutidas**, ou **built-in**, do Inglês. Por exemplo, as funções `print()` que imprime na tela um string definida pelo programador e `str()` que converte um objeto em string.\n",
    "+ Como já vimos:\n",
    "    * Uma função só é executada quando chamada.\n",
    "    * Podemos passar dados, conhecidos como argumentos, para uma função.\n",
    "    * Funções podem retornar dados como resultado.\n",
    "    \n",
    "### Definindo uma função\n",
    "\n",
    "+ Uma função é definida usando-se a palavra-chave `def` seguida do nome da função, dos parâmetros e de `:`.\n",
    "+ O bloco de código de uma função sempre começa em um nível mais a direita do cabeçalho. Podemos usar tabs ou 3 espaços.\n",
    "+ Em seguida, podemos ter opcionalmente, uma **docstring** explicando o que a função faz. O objetivo das **docstrings** é servir de documentação para aquela estrutura."
   ]
  },
  {
   "cell_type": "code",
   "execution_count": 3,
   "metadata": {},
   "outputs": [],
   "source": [
    "def my_function():\n",
    "    \"\"\"This function prints a greeting message and returns nothing\"\"\"\n",
    "    print(\"Hello from a function\")"
   ]
  },
  {
   "cell_type": "markdown",
   "metadata": {},
   "source": [
    "### Chamando uma função"
   ]
  },
  {
   "cell_type": "code",
   "execution_count": 4,
   "metadata": {},
   "outputs": [
    {
     "name": "stdout",
     "output_type": "stream",
     "text": [
      "Hello from a function\n"
     ]
    }
   ],
   "source": [
    "def my_function():\n",
    "    \"\"\"This function prints a greeting message and returns nothing\"\"\"\n",
    "    print(\"Hello from a function\")\n",
    "\n",
    "# Chamando a função.\n",
    "my_function()"
   ]
  },
  {
   "cell_type": "markdown",
   "metadata": {},
   "source": [
    "### Parâmetros\n",
    "\n",
    "+ Dados podem ser passados para funções como parâmetros.\n",
    "+ Os parâmetros são especificados após o nome da função, entre parênteses. Você pode adicionar quantos parâmetros quiser, apenas separe-os com uma vírgula.\n",
    "\n",
    "O exemplo a seguir define uma função com 2 parâmetros, `name` e `age`. Quando a função é chamada, passamos os argumentos `name` e `age`, que são usados dentro da função para imprimir o nome e a idade:"
   ]
  },
  {
   "cell_type": "code",
   "execution_count": 7,
   "metadata": {},
   "outputs": [
    {
     "name": "stdout",
     "output_type": "stream",
     "text": [
      "José is 22 years old.\n",
      "Ana is 65 years old.\n"
     ]
    }
   ],
   "source": [
    "def my_function(name, age):\n",
    "    \"\"\"This function prints a person's name and age.\"\"\"\n",
    "    print('%s is %d years old.' % (name, age))\n",
    "\n",
    "# Chamando a função.\n",
    "my_function('José', 22)\n",
    "my_function('Ana', 65)"
   ]
  },
  {
   "cell_type": "markdown",
   "metadata": {},
   "source": [
    "### Número arbitrário de parâmetros, `*args`\n",
    "\n",
    "+ Se você não sabe quantos argumentos serão passados para sua função, adicione um `*` antes do nome do parâmetro na definição da função.\n",
    "+ Dessa forma, a função receberá uma **tupla** de argumentos e poderá acessar os itens como mostrado no exemplo abaixo:"
   ]
  },
  {
   "cell_type": "code",
   "execution_count": 25,
   "metadata": {},
   "outputs": [
    {
     "name": "stdout",
     "output_type": "stream",
     "text": [
      "The youngest child is João who is 2 years old.\n"
     ]
    }
   ],
   "source": [
    "def my_function(*kids):\n",
    "    \"\"\"This function prints the name and age of the youngest child\"\"\"\n",
    "    print(\"The youngest child is %s who is %d years old.\" % (kids[0],kids[1]) )\n",
    "\n",
    "# Chamando a função.\n",
    "my_function(\"João\", 2, \"Ana\", 5, \"José\", 9)"
   ]
  },
  {
   "cell_type": "markdown",
   "metadata": {},
   "source": [
    "## Passando argumentos com palavras-chave\n",
    "\n",
    "Você também pode passar argumentos para uma função com a sintaxe `chave=valor`. Dessa forma, a ordem dos argumentos não importa."
   ]
  },
  {
   "cell_type": "code",
   "execution_count": 26,
   "metadata": {},
   "outputs": [
    {
     "name": "stdout",
     "output_type": "stream",
     "text": [
      "Employee name: João, age: 23 and salary: 1234.56 USD\n"
     ]
    }
   ],
   "source": [
    "def my_function(name, age, salary):\n",
    "    '''Function that prints name, age and salary of an employee.'''\n",
    "    print('Employee name: %s, age: %d and salary: %1.2f USD' % (name, age, salary))\n",
    "\n",
    "# Chamando a função.\n",
    "my_function(salary=1234.56, name='João', age=23)"
   ]
  },
  {
   "cell_type": "markdown",
   "metadata": {},
   "source": [
    "### Argumentos de palavras-chave arbitrárias, `**kwargs`\n",
    "\n",
    "Se você não souber quantos argumentos serão passados para sua função com palavras-chave, adicione dois asteriscos `**` antes do nome do parâmetro na definição da função.\n",
    "\n",
    "Dessa forma, a função receberá um **dicionário** de argumentos, e poderá acessar os itens como mostrado no exemplo abaixo:"
   ]
  },
  {
   "cell_type": "code",
   "execution_count": 27,
   "metadata": {},
   "outputs": [
    {
     "name": "stdout",
     "output_type": "stream",
     "text": [
      "Employee name: João, age: 23 and salary: 1234.56 USD\n"
     ]
    }
   ],
   "source": [
    "def my_function(**employee):\n",
    "    '''Function that prints name, age and salary of an employee.'''\n",
    "    print('Employee name: %s, age: %d and salary: %1.2f USD' % (employee['name'], employee['age'], employee['salary']))\n",
    "\n",
    "# Chamando a função.\n",
    "my_function(salary=1234.56, name='João', age=23)"
   ]
  },
  {
   "cell_type": "markdown",
   "metadata": {},
   "source": [
    "### Valor padrão de um parâmetro \n",
    "\n",
    "O exemplo a seguir mostra como usar um valor de parâmetro padrão.\n",
    "\n",
    "Nesse caso, se chamarmos a função sem argumento, ela usará o valor padrão definido na lista de parâmetros da função:"
   ]
  },
  {
   "cell_type": "code",
   "execution_count": 28,
   "metadata": {},
   "outputs": [
    {
     "name": "stdout",
     "output_type": "stream",
     "text": [
      "Employee name: José, age: 22 and salary: 1000.00 USD\n"
     ]
    }
   ],
   "source": [
    "def my_function(name='José', age=22, salary=1000.00):\n",
    "    '''Function that prints name, age and salary of an employee.'''\n",
    "    print('Employee name: %s, age: %d and salary: %1.2f USD' % (name, age, salary))\n",
    "\n",
    "# Chamando a função.\n",
    "my_function()"
   ]
  },
  {
   "cell_type": "markdown",
   "metadata": {},
   "source": [
    "## Passando objetos como argumentos\n",
    "\n",
    "Você pode passar qualquer tipo de dado como argumento para uma função (string, número, lista, tupla, dicionário, conjunto, etc.), e ele será tratado como o mesmo tipo de dado dentro da função.\n",
    "\n",
    "Por exemplo, se você enviar uma lista como argumento, ela ainda será uma lista dentro do bloco de código da função."
   ]
  },
  {
   "cell_type": "code",
   "execution_count": 29,
   "metadata": {},
   "outputs": [
    {
     "name": "stdout",
     "output_type": "stream",
     "text": [
      "Tipo do parâmetro food é: <class 'list'>\n",
      "apple\n",
      "banana\n",
      "cherry\n"
     ]
    }
   ],
   "source": [
    "def my_function(food):\n",
    "    print('Tipo do parâmetro food é:', type(food))\n",
    "    for x in food:\n",
    "        print(x)\n",
    "\n",
    "# Definindo uma lista de frutas.\n",
    "fruits = [\"apple\", \"banana\", \"cherry\"]\n",
    "\n",
    "# Chamando a função.\n",
    "my_function(fruits)"
   ]
  },
  {
   "cell_type": "markdown",
   "metadata": {},
   "source": [
    "### Retornando valores\n",
    "\n",
    "Nós utilizamos a instrução `return` para permitir que uma função retorne um ou mais valores."
   ]
  },
  {
   "cell_type": "code",
   "execution_count": 39,
   "metadata": {},
   "outputs": [
    {
     "name": "stdout",
     "output_type": "stream",
     "text": [
      "15\n"
     ]
    }
   ],
   "source": [
    "def my_function(x):\n",
    "    '''Function that returns the multiplication of a number by 5.'''\n",
    "    return 5 * x\n",
    "\n",
    "print(my_function(3))"
   ]
  },
  {
   "cell_type": "markdown",
   "metadata": {},
   "source": [
    "Para retornar mais de um valor use virgulas para separar os valores de retorno."
   ]
  },
  {
   "cell_type": "code",
   "execution_count": 40,
   "metadata": {},
   "outputs": [
    {
     "name": "stdout",
     "output_type": "stream",
     "text": [
      "(60, 6.0)\n"
     ]
    }
   ],
   "source": [
    "def my_function(x):\n",
    "    '''Function that returns the result of two operations.'''\n",
    "    return 5 * x, x / 2\n",
    "\n",
    "print(my_function(12))"
   ]
  },
  {
   "cell_type": "markdown",
   "metadata": {},
   "source": [
    "### Namespace\n",
    "\n",
    "Funções tem **namespace próprio** ou seja, elas tem **escopo local**, e por isso podem ofuscar definições de escopo global."
   ]
  },
  {
   "cell_type": "code",
   "execution_count": 47,
   "metadata": {},
   "outputs": [
    {
     "name": "stdout",
     "output_type": "stream",
     "text": [
      "Valor da variável global var: 12\n",
      "Valor da variável global var após chamada da função: 12\n"
     ]
    }
   ],
   "source": [
    "# variável global.\n",
    "var = 12\n",
    "\n",
    "# Definição de uma função.\n",
    "def my_function(par):\n",
    "    ##global var\n",
    "    var = par\n",
    "    return var\n",
    "    \n",
    "# Imprime valor da variável global.\n",
    "print('Valor da variável global var:', var)\n",
    "# Chama função.\n",
    "my_function(33)\n",
    "# Imprime valor da variável global.\n",
    "print('Valor da variável global var após chamada da função:', var)"
   ]
  },
  {
   "cell_type": "markdown",
   "metadata": {},
   "source": [
    "### Algumas funções embutidas úteis\n",
    "\n",
    "### `eval()`\n",
    "O Python também possui como função embutida a função `eval()`, que avalia código (fonte ou objeto) retornando o valor.\n",
    "\n",
    "Exemplo:"
   ]
  },
  {
   "cell_type": "code",
   "execution_count": 51,
   "metadata": {},
   "outputs": [
    {
     "name": "stdout",
     "output_type": "stream",
     "text": [
      "9.0\n"
     ]
    }
   ],
   "source": [
    "print(eval('12 / 2 + 3'))"
   ]
  },
  {
   "cell_type": "markdown",
   "metadata": {},
   "source": [
    "Com isso, é possível **montar** código para ser passado ao interpretador durante a execução de um programa. Esse recurso deve ser usado com muito cuidado, pois código montados a partir de entradas do sistema podem abrir brechas de segurança."
   ]
  },
  {
   "cell_type": "markdown",
   "metadata": {},
   "source": [
    "### Recursão\n",
    "\n",
    "+ Python também aceita recursão de funções, o que significa que uma função pode chamar a si mesma um número indefinido de vezes.\n",
    "+ Recursão é um conceito comum na matemática e em programação e que significa que uma função chama a si mesma.\n",
    "+ Recursão é um método de resolução de problemas que envolve quebrar um problema em subproblemas menores e menores até chegarmos a um problema pequeno o suficiente para que ele possa ser resolvido trivialmente.\n",
    "+ O programador deve ter muito cuidado com a recursão, pois é muito fácil *escorregar* e escrever uma função que nunca termina, ou uma que usa quantidades excessivas de memória ou de poder de processamento. \n",
    "+ No entanto, quando escrito corretamente, a recursão pode ser uma abordagem de programação muito eficiente e matematicamente elegante para problemas que, de outra forma, podem ser muito difíceis de resolver. (embora possa não parecer muito inicialmente).\n",
    "\n",
    "#### Exemplo #1\n",
    "\n",
    "Vamos começar com um problema simples que vocês já saberiam como resolver sem o uso de recursão. Suponha que vocês desejam calcular a soma de uma lista de números, tais como: \n",
    "\n",
    "```python\n",
    "[1,3,5,7,9]\n",
    "```\n",
    "\n",
    "Uma função iterativa que calcula essa soma é mostrada abaixo. A função usa uma variável acumuladora `soma` para calcular o total de todos os números da lista iniciando `soma` com 0."
   ]
  },
  {
   "cell_type": "code",
   "execution_count": 61,
   "metadata": {},
   "outputs": [
    {
     "name": "stdout",
     "output_type": "stream",
     "text": [
      "A soma da lista é igual a: 25\n"
     ]
    }
   ],
   "source": [
    "def somaLista(lista):\n",
    "    soma = 0\n",
    "    for i in lista:\n",
    "        soma = soma + i\n",
    "    return soma\n",
    "\n",
    "print('A soma da lista é igual a:', somaLista([1,3,5,7,9]))"
   ]
  },
  {
   "cell_type": "markdown",
   "metadata": {},
   "source": [
    "Agora, imaginem que vocês não tem ou não podem usar laços `while` ou `for`. Como vocês calculariam a soma de uma lista de números? \n",
    "\n",
    "Se vocês fossem matemáticos, vocês poderiam começar recordando que a adição é uma função definida para dois parâmetros, ou seja, um par de números. Para redefinir o problema da adição de uma lista como a adição de pares de números, podemos reescrever a lista como uma expressão entre parênteses, como mostrado abaixo:\n",
    "\n",
    "$$((((1+3)+5)+7)+9)$$\n",
    "\n",
    "Poderíamos também colocar os parênteses na ordem reversa,\n",
    "\n",
    "$$(1+(3+(5+(7+9))))$$\n",
    "\n",
    "Observe que o par de parênteses mais interno, (7+9), é um problema que podemos resolver sem um laço ou qualquer construção especial. Na verdade, pode-se utilizar a seguinte sequência de simplificações para calcular uma soma final.\n",
    "\n",
    "$$total = (1+(3+(5+(7+9)))) \\\\ total = (1+(3+(5+16))) \\\\ total = (1+(3+21)) \\\\ total = (1+24) \\\\ total= 25$$\n",
    "\n",
    "Como podemos usar essa ideia e transformá-la em um programa Python? Em primeiro lugar, vamos reformular o problema soma em termos de listas de Python. Poderíamos dizer que a soma da lista numList é a soma do primeiro elemento da lista (numList [0]), com a soma dos números no resto da lista (numList [1:]). De forma funcional podemos escrever:\n",
    "\n",
    "$$listSum(numList)=first(numList)+listSum(rest(numList))$$\n",
    "\n",
    "Nesta equação first(numList) retorna o primeiro elemento da lista e rest(numList) retorna a lista com tudo menos o primeiro elemento. Isso pode ser expresso facilmente em Python como no Programa 2."
   ]
  },
  {
   "cell_type": "code",
   "execution_count": 64,
   "metadata": {},
   "outputs": [
    {
     "name": "stdout",
     "output_type": "stream",
     "text": [
      "A soma da lista é igual a: 25\n"
     ]
    }
   ],
   "source": [
    "def somaLista(lista):\n",
    "    if len(lista) == 1:\n",
    "        return lista[0]\n",
    "    else:\n",
    "        return lista[0] + somaLista(lista[1:])\n",
    "\n",
    "print('A soma da lista é igual a:', somaLista([1,3,5,7,9]))"
   ]
  },
  {
   "cell_type": "markdown",
   "metadata": {},
   "source": [
    "#### Exemplo #2\n",
    "\n",
    "Escreva uma função que calcula o valor de um número real `x` elevado a um número natural `n`.\n",
    "\n",
    "##### Solução #1 (sem recursão)\n",
    "\n",
    "Calcular um produtório:  $ \\text{potencia}(x,n)= \\prod_{i=1}^{n} x $"
   ]
  },
  {
   "cell_type": "code",
   "execution_count": 57,
   "metadata": {},
   "outputs": [
    {
     "name": "stdout",
     "output_type": "stream",
     "text": [
      "O valor de 2.5 elevado a 5 é igual a: 97.66\n"
     ]
    }
   ],
   "source": [
    "def potencia(x, n):\n",
    "    pot = 1.0\n",
    "    while n > 0:\n",
    "        pot *= x\n",
    "        n -= 1\n",
    "        \n",
    "    return pot\n",
    "\n",
    "base = 2.5\n",
    "expoente = 5\n",
    "print(\"O valor de %1.1f elevado a %d é igual a: %1.2f\" % (base, expoente, potencia(base,expoente)))"
   ]
  },
  {
   "cell_type": "markdown",
   "metadata": {},
   "source": [
    "##### Solução #2 (com recursão)\n",
    "\n",
    "Calcula a seguinte recorrência:\n",
    "\n",
    "$ \\text{potencia}(x,n) =\\begin{cases}1, & \\text{ se } n = 0\\\\x*potencia(x, n−1), & \\text{ se }  n > 0 \\end{cases} $"
   ]
  },
  {
   "cell_type": "code",
   "execution_count": 58,
   "metadata": {},
   "outputs": [
    {
     "name": "stdout",
     "output_type": "stream",
     "text": [
      "O valor de 2.5 elevado a 5 é igual a: 97.66\n"
     ]
    }
   ],
   "source": [
    "def potencia(x, n):\n",
    "    if n == 0:        # Caso base seja igual a 0.\n",
    "        return 1.0    # Solução direta\n",
    "    else:\n",
    "        return x * potencia(x, n-1)    # Chamada recursiva\n",
    "    \n",
    "base = 2.5\n",
    "expoente = 5\n",
    "print(\"O valor de %1.1f elevado a %d é igual a: %1.2f\" % (base, expoente, potencia(base,expoente)))"
   ]
  },
  {
   "cell_type": "markdown",
   "metadata": {},
   "source": [
    "## Tarefas\n",
    "\n",
    "1. <span style=\"color:blue\">**QUIZ - Funções**</span>: respondam ao questionário sobre funções no MS teams, por favor. \n",
    "2. <span style=\"color:blue\">**Laboratório #5**</span>: cliquem em um dos links abaixo para accessar os exercícios do laboratório #5.\n",
    "\n",
    "[![Binder](https://mybinder.org/badge_logo.svg)](https://mybinder.org/v2/gh/zz4fap/python-programming/master?filepath=labs%2FLaboratorio5.ipynb)\n",
    "\n",
    "[![Google Colab](https://badgen.net/badge/Launch/on%20Google%20Colab/blue?icon=terminal)](https://colab.research.google.com/github/zz4fap/python-programming/blob/master/labs/Laboratorio5.ipynb)\n",
    "\n",
    "**IMPORTANTE**: Para acessar o material das aulas e realizar as entregas dos exercícios de laboratório, por favor, leiam o tutorial no seguinte link:\n",
    "[Material-das-Aulas](../docs/Acesso-ao-material-das-aulas-resolucao-e-entrega-dos-laboratorios.pdf)"
   ]
  },
  {
   "cell_type": "markdown",
   "metadata": {},
   "source": [
    "## Avisos\n",
    "\n",
    "* Se atentem aos prazos de entrega das tarefas na aba de **Avaliações** do MS Teams.\n",
    "* Horário de atendimento todas as Quintas-feiras as 17:30 às 19:30 via MS Teams enquanto as aulas presenciais não retornam."
   ]
  },
  {
   "cell_type": "markdown",
   "metadata": {},
   "source": [
    "<img src=\"../figures/obrigado.png\" width=\"1000\" height=\"1000\">"
   ]
  }
 ],
 "metadata": {
  "kernelspec": {
   "display_name": "Python 3",
   "language": "python",
   "name": "python3"
  },
  "language_info": {
   "codemirror_mode": {
    "name": "ipython",
    "version": 3
   },
   "file_extension": ".py",
   "mimetype": "text/x-python",
   "name": "python",
   "nbconvert_exporter": "python",
   "pygments_lexer": "ipython3",
   "version": "3.8.3"
  }
 },
 "nbformat": 4,
 "nbformat_minor": 4
}
