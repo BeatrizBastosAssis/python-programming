{
 "cells": [
  {
   "cell_type": "markdown",
   "metadata": {},
   "source": [
    "# Módulos e Pacotes"
   ]
  },
  {
   "cell_type": "markdown",
   "metadata": {},
   "source": [
    "## O que é um módulo?\n",
    "\n",
    "Um módulo é igual a uma biblioteca de código. É um arquivo contendo um conjunto de funções que você deseja incluir em seu programa.\n",
    "\n",
    "## Criando um módulo\n",
    "\n",
    "Para criar um módulo basta salvar o código desejado em um arquivo com a extensão ```.py```.\n",
    "\n",
    "#### Nomeando um Módulo\n",
    "\n",
    "Você pode nomear o arquivo de módulo como quiser, mas ele deve ter a extensão de arquivo ```.py```.\n",
    "\n",
    "Por exemplo, vamos crirar o arquivo `mymodule.py` com o seguinte código\n",
    "\n",
    "```python\n",
    "def greeting(name):\n",
    "    print(\"Hello, \" + name + \"!\")\n",
    "```\n",
    "\n",
    "## Usando um módulo\n",
    "\n",
    "Agora podemos usar o módulo que acabamos de criar, usando a instrução `import`:\n",
    "\n",
    "Por exemplo, importe o módulo seu `mymodule` e chame a função de saudação `greeting` com seu nome:"
   ]
  },
  {
   "cell_type": "code",
   "execution_count": 15,
   "metadata": {},
   "outputs": [
    {
     "name": "stdout",
     "output_type": "stream",
     "text": [
      "Hello, Felipe !\n"
     ]
    }
   ],
   "source": [
    "import mymodule\n",
    "\n",
    "mymodule.greeting('Felipe')"
   ]
  },
  {
   "cell_type": "markdown",
   "metadata": {},
   "source": [
    "## Variáveis em um módulo\n",
    "\n",
    "Um módulo pode conter funções, conforme já visto, mas também variáveis de todos os tipos (arrays, dicionários, objetos etc):\n",
    "\n",
    "Por exemplo, salve o código do dicionário abaixo no arquivo `mymodule.py`\n",
    "\n",
    "```python\n",
    "person1 = {\n",
    "  \"name\": \"John\",\n",
    "  \"age\": 36,\n",
    "  \"country\": \"Norway\"\n",
    "}\n",
    "```\n",
    "\n",
    "Em seguida, importe o módulo `mymodule` e acesse o dicionário `person1` como mostrado abaixo:"
   ]
  },
  {
   "cell_type": "code",
   "execution_count": 16,
   "metadata": {},
   "outputs": [
    {
     "name": "stdout",
     "output_type": "stream",
     "text": [
      "36\n"
     ]
    }
   ],
   "source": [
    "import mymodule\n",
    "\n",
    "a = mymodule.person1[\"age\"]\n",
    "print(a)"
   ]
  },
  {
   "cell_type": "markdown",
   "metadata": {},
   "source": [
    "## Renomeando um módulo\n",
    "\n",
    "Você pode criar um **alias**, ou seja, um apelido, ao importar um módulo, usando a palavra-chave `as`.\n",
    "\n",
    "Por exemplo, crie um **alias** para `mymodule` chamado `m`:"
   ]
  },
  {
   "cell_type": "code",
   "execution_count": 17,
   "metadata": {},
   "outputs": [
    {
     "name": "stdout",
     "output_type": "stream",
     "text": [
      "Norway\n"
     ]
    }
   ],
   "source": [
    "import mymodule as m\n",
    "\n",
    "a = m.person1[\"country\"]\n",
    "print(a)"
   ]
  },
  {
   "cell_type": "markdown",
   "metadata": {},
   "source": [
    "## Importando do módulo\n",
    "\n",
    "Você pode escolher importar apenas partes de um módulo, usando a palavra-chave `from`.\n",
    "\n",
    "Por exemplo, o módulo `mymodule` tem uma função e um dicionário:\n",
    "\n",
    "```python\n",
    "def greeting(name):\n",
    "  print(\"Hello, \" + name)\n",
    "\n",
    "person1 = {\n",
    "  \"name\": \"John\",\n",
    "  \"age\": 36,\n",
    "  \"country\": \"Norway\"\n",
    "}\n",
    "```\n",
    "\n",
    "Agora, iremos importar apenas o dicionário `person1` do módulo:"
   ]
  },
  {
   "cell_type": "code",
   "execution_count": 18,
   "metadata": {},
   "outputs": [
    {
     "name": "stdout",
     "output_type": "stream",
     "text": [
      "36\n"
     ]
    }
   ],
   "source": [
    "from mymodule import person1\n",
    "\n",
    "print(person1[\"age\"])"
   ]
  },
  {
   "cell_type": "markdown",
   "metadata": {},
   "source": [
    "## Usando a função dir()\n",
    "\n",
    "Existe uma função embutida do Python que lista todos os nomes de funções (ou nomes de variáveis) em um módulo. A função `dir()`:\n",
    "\n",
    "Por exemplo, o trecho de código abaixo lista todos os nomes definidos e pertencentes ao módulo `mymodule`:"
   ]
  },
  {
   "cell_type": "code",
   "execution_count": 19,
   "metadata": {},
   "outputs": [
    {
     "name": "stdout",
     "output_type": "stream",
     "text": [
      "['__builtins__', '__cached__', '__doc__', '__file__', '__loader__', '__name__', '__package__', '__spec__', 'greeting', 'person1']\n"
     ]
    }
   ],
   "source": [
    "import mymodule\n",
    "\n",
    "x = dir(mymodule)\n",
    "print(x)"
   ]
  },
  {
   "cell_type": "code",
   "execution_count": null,
   "metadata": {},
   "outputs": [],
   "source": []
  }
 ],
 "metadata": {
  "kernelspec": {
   "display_name": "Python 3",
   "language": "python",
   "name": "python3"
  },
  "language_info": {
   "codemirror_mode": {
    "name": "ipython",
    "version": 3
   },
   "file_extension": ".py",
   "mimetype": "text/x-python",
   "name": "python",
   "nbconvert_exporter": "python",
   "pygments_lexer": "ipython3",
   "version": "3.8.3"
  }
 },
 "nbformat": 4,
 "nbformat_minor": 4
}
