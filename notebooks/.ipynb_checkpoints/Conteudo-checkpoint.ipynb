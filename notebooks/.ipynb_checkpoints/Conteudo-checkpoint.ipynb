{
 "cells": [
  {
   "cell_type": "markdown",
   "metadata": {},
   "source": [
    "# Conteúdo programático da disciplina\n",
    "\n",
    "1. Introdução ao Python [![Binder](https://mybinder.org/badge_logo.svg)](https://mybinder.org/v2/gh/zz4fap/python-programming/master?filepath=notebooks%2FIntroducao_ao_Python.ipynb)\n",
    "\n",
    "2. Controle de fluxo, laços de repetição e operadores lógicos e de comparação [![Binder](https://mybinder.org/badge_logo.svg)](https://mybinder.org/v2/gh/zz4fap/python-programming/master?filepath=notebooks%2FControle_de_fluxo_lacos_de_repeticao_e_operadores-logicos_e_de_comparacao.ipynb)\n",
    "\n",
    "3. Módulos e pacotes [![Binder](https://mybinder.org/badge_logo.svg)](https://mybinder.org/v2/gh/zz4fap/python-programming/master?filepath=notebooks%2FModulos_e_Pacotes.ipynb)\n",
    "\n",
    "4. Tipos de dados nativos [![Binder](https://mybinder.org/badge_logo.svg)](https://mybinder.org/v2/gh/zz4fap/python-programming/master?filepath=notebooks%2FTipos_de_dados_nativos.ipynb)\n",
    "\n",
    "5. Funções [![Binder](https://mybinder.org/badge_logo.svg)](https://mybinder.org/v2/gh/zz4fap/python-programming/master?filepath=notebooks%2FFuncoes.ipynb)\n",
    "\n",
    "6. Fundamentos de Orientação a Objetos [![Binder](https://mybinder.org/badge_logo.svg)](https://mybinder.org/v2/gh/zz4fap/python-programming/master?filepath=notebooks%2FFundamentos_de_Orientacao_a_Objetos.ipynb)\n",
    "\n",
    "7. Tratamento de Erros e Exceções [![Binder](https://mybinder.org/badge_logo.svg)](https://mybinder.org/v2/gh/zz4fap/python-programming/master?filepath=notebooks%2FTratamento_de_Erros_e_Excecoes.ipynb)\n",
    "\n",
    "8. Banco de dados [![Binder](https://mybinder.org/badge_logo.svg)](https://mybinder.org/v2/gh/zz4fap/python-programming/master?filepath=notebooks%2FBanco_de_dados.ipynb)\n",
    "\n",
    "9. Trabalhando com Arquivos [![Binder](https://mybinder.org/badge_logo.svg)](https://mybinder.org/v2/gh/zz4fap/python-programming/master?filepath=notebooks%2FTrabalhando_com_Arquivos.ipynb)\n",
    "\n",
    "10. Análise de dados com Python [![Binder](https://mybinder.org/badge_logo.svg)](https://mybinder.org/v2/gh/zz4fap/python-programming/master?filepath=notebooks%2FAnalise_de_dados_com_Python.ipynb)\n",
    "\n",
    "11. Estudos de caso [![Binder](https://mybinder.org/badge_logo.svg)](https://mybinder.org/v2/gh/zz4fap/python-programming/master?filepath=notebooks%2FEstudos_de_caso.ipynb)\n"
   ]
  },
  {
   "cell_type": "code",
   "execution_count": null,
   "metadata": {},
   "outputs": [],
   "source": []
  }
 ],
 "metadata": {
  "kernelspec": {
   "display_name": "Python 3",
   "language": "python",
   "name": "python3"
  },
  "language_info": {
   "codemirror_mode": {
    "name": "ipython",
    "version": 3
   },
   "file_extension": ".py",
   "mimetype": "text/x-python",
   "name": "python",
   "nbconvert_exporter": "python",
   "pygments_lexer": "ipython3",
   "version": "3.8.3"
  }
 },
 "nbformat": 4,
 "nbformat_minor": 4
}
