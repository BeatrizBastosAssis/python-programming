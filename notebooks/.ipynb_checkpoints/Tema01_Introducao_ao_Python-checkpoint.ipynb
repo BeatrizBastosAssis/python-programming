{
 "cells": [
  {
   "attachments": {},
   "cell_type": "markdown",
   "metadata": {},
   "source": [
    "# C126 - Programação em Python\n",
    "\n",
    "\n",
    "## Objetivos\n",
    "\n",
    "Meu objetivo principal é o de criar em vocês o interesse pela linguagem Python.\n",
    "\n",
    "Ao final da disciplina, eu espero que vocês:\n",
    "* Conheçam os conceitos básicos e os principais recursos disponibilizados pela linguagem de programação Python.\n",
    "* Apliquem conceitos e desenvolvam programas usando Python.\n",
    "* Sejam capazes de solucionar problemas utilizando Python.\n",
    "* Possuam a base necessária para a aprendizagem de novos conceitos.\n",
    "\n",
    "## Critério de Avaliação\n",
    "\n",
    "* 2 Provas com conteúdo prático/teórico com peso de 85% cada.\n",
    "* Exercícios práticos/teóricos com peso de 15%.\n",
    "   * Nota composta por exercícios feitos em sala de aula e em casa."
   ]
  },
  {
   "cell_type": "markdown",
   "metadata": {},
   "source": [
    "## Uma breve história\n",
    "\n",
    "* A linguagem de programação Python foi lançada em 1991 por Guido van Rossum."
   ]
  },
  {
   "cell_type": "markdown",
   "metadata": {},
   "source": [
    "\n",
    "\n",
    "\n",
    "Introdução\n",
    "----------\n",
    "[Python](http://www.python.org) é uma linguagem de alto nível orientada a objeto, de tipagem dinâmica e forte, interpretada e interativa.\n",
    "\n",
    "Características\n",
    "---------------\n",
    "O Python possui uma sintaxe clara e concisa, que favorece a legibilidade do código fonte, tornando a linguagem mais produtiva.\n",
    "\n",
    "A linguagem inclui diversas estruturas de alto nível (listas, dicionários, data / hora, complexos e outras) e uma vasta coleção de módulos prontos para uso, além de *frameworks* de terceiros que podem ser adicionados. Também possui recursos encontrados em outras linguagens modernas, tais como: geradores, introspecção, persistência, metaclasses e unidades de teste. Multiparadigma, a linguagem suporta programação modular e funcional, além da orientação a objetos. Mesmo os tipos básicos no Python são objetos. A linguagem é interpretada através de *bytecode* pela máquina virtual Python, tornando o código portável. Com isso é possível compilar aplicações em uma plataforma e rodar em outros sistemas ou executar direto do código fonte.\n",
    "\n",
    "Python é um software de código aberto (com licença compatível com a *General Public License* (GPL), porém menos restritiva, permitindo que o Python seja inclusive incorporado em produtos proprietários). A especificação da linguagem é mantida pela [ Python Software Foundation](http://www.python.org/psf/) (PSF).\n",
    "\n",
    "Além de ser utilizado como linguagem principal no desenvolvimento de sistemas, o Python também é muito utilizado como linguagem *script* em vários softwares, permitindo automatizar tarefas e adicionar novas funcionalidades, entre eles: BrOffice.org, PostgreSQL, Blender, GIMP e Inkscape.\n",
    "\n",
    "É possível integrar o Python a outras linguagens, como a Linguagem C e Fortran. Em termos gerais, a linguagem apresenta muitas similaridades com outras linguagens dinâmicas, como Perl e Ruby.\n",
    "\n",
    "Histórico\n",
    "---------\n",
    "A linguagem foi criada em 1990 por Guido van Rossum, no Instituto Nacional de Pesquisa para Matemática e Ciência da Computação da Holanda (CWI) e tinha originalmente foco em usuários como físicos e engenheiros. O Python foi concebido a partir de outra linguagem existente na época, chamada ABC.\n",
    "\n",
    "Hoje, a linguagem é bem aceita na indústria por empresas de alta tecnologia, tais como:\n",
    "\n",
    "+ Google (aplicações Web).\n",
    "+ Yahoo (aplicações Web).\n",
    "+ Microsoft (IronPython: Python para .NET)\n",
    "+ Nokia (disponível para as linhas recentes de celulares e PDAs).\n",
    "+ Disney (animações 3D).\n",
    "\n",
    "Versões\n",
    "-------\n",
    "A implementação oficial do Python é mantida pela PSF e escrita em C, e por isso, é também conhecida como CPython. A versão estável mais recente está disponível para download no endereço:\n",
    "\n",
    "[http://www.python.org/download/](http://www.python.org/download/)\n",
    "\n",
    "Para a plataforma Windows, basta executar o instalador. Para outras plataformas, como em sistemas Linux, geralmente o Python já faz parte do sistema, porém em alguns casos pode ser necessário compilar e instalar o interpretador a partir dos arquivos fonte.\n",
    "\n",
    "Existem também implementações de Python para .NET (IronPython), JVM (Jython) e em Python (PyPy).\n",
    "\n",
    "Executando programas\n",
    "--------------------\n",
    "\n",
    "Exemplo de programa em Python:"
   ]
  },
  {
   "cell_type": "code",
   "execution_count": null,
   "metadata": {},
   "outputs": [],
   "source": [
    "# Install a few pip packages in the current Jupyter kernel.\n",
    "import sys\n",
    "!{sys.executable} -m pip install numpy\n",
    "!{sys.executable} -m pip install matplotlib\n",
    "!{sys.executable} -m pip install sklearn\n",
    "# Import all the necessary libraries.\n",
    "import numpy as np\n",
    "import matplotlib.pyplot as plt\n",
    "from sklearn.neural_network import MLPRegressor # importa MLPRegressor da biblioteca rede neural \n",
    "\n",
    "%matplotlib inline\n",
    "\n",
    "x = np.arange(-10, 10, 0.1)\n",
    "\n",
    "# dados originais\n",
    "y = 3 * np.exp(-0.05*x) + 12 + 1.4 * np.sin(1.2*x) + 2.1 * np.sin(-2.2*x + 3)\n",
    "\n",
    "# faz com que o gerador de numeros aleatorios sempre forneca os mesmos valores\n",
    "np.random.seed(42) \n",
    "\n",
    "# adicionando ruido aos dados originais\n",
    "y_noise = y + np.random.normal(0, 0.5, size = len(y))\n",
    "\n",
    "# trata o ajuste de curva como um problema de regressao e treina um modelo para que se ajuste aos dados.\n",
    "mlp = MLPRegressor(hidden_layer_sizes=(30,20,10), max_iter=5000, solver='lbfgs', alpha=0.9, activation='tanh', random_state=8)\n",
    "yfit = mlp.fit(x[:, None], y_noise).predict(x[:, None])\n",
    "\n",
    "plt.figure(figsize = (10,8))\n",
    "plt.plot(x, y_noise, 'o', label = 'dado original + ruido')\n",
    "plt.plot(x, y, 'k', label = 'dado original')\n",
    "plt.plot(x, yfit, '-r', label = 'curva ajustada com MLP', zorder = 10)\n",
    "plt.legend()\n",
    "plt.xlabel('X')\n",
    "plt.ylabel('y')"
   ]
  },
  {
   "cell_type": "code",
   "execution_count": null,
   "metadata": {},
   "outputs": [],
   "source": []
  }
 ],
 "metadata": {
  "kernelspec": {
   "display_name": "Python 3",
   "language": "python",
   "name": "python3"
  },
  "language_info": {
   "codemirror_mode": {
    "name": "ipython",
    "version": 3
   },
   "file_extension": ".py",
   "mimetype": "text/x-python",
   "name": "python",
   "nbconvert_exporter": "python",
   "pygments_lexer": "ipython3",
   "version": "3.8.3"
  }
 },
 "nbformat": 4,
 "nbformat_minor": 4
}
