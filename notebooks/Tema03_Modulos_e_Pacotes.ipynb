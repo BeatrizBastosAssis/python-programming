{
 "cells": [
  {
   "cell_type": "markdown",
   "metadata": {},
   "source": [
    "# Módulos e Pacotes"
   ]
  },
  {
   "cell_type": "markdown",
   "metadata": {},
   "source": [
    "## O que é um módulo?\n",
    "\n",
    "+ Um módulo é igual a uma biblioteca de código. \n",
    "+ É um arquivo fonte contendo um conjunto de quaisquer estruturas do Python (classes, funções, variáveis, etc.) que podem ser importados para um programa.\n",
    "+ Os módulos são compilados quando importados pela primeira vez e armazenados em um arquivo com extensão `.pyc` ou `.pyo`.\n",
    "+ Eles possuem um **namespace** (i.e., espaço de nome) próprio e aceitam o uso de **docstrings**.\n",
    "+ São objetos do tipo **Singleton**, ou seja, é carregada somente uma instância em memória, que fica disponível de forma global para o programa.\n",
    "+ Os módulos são localizados pelo interpretador através da lista de pastas definidas na variável de ambiente `PYTHONPATH` (sys.path), que normalmente inclui a pasta corrente em primeiro lugar.\n",
    "\n",
    "## Vantagens de se usar módulos\n",
    "\n",
    "+ Torna o código mais legível.\n",
    "+ Permite o reaproveitamento de funcionalidades.\n",
    "+ Permite que partes do código sejam testadas isoladamente.\n",
    "+ Facilita a localização de falhas no código.\n",
    "\n",
    "## Criando um módulo\n",
    "\n",
    "Para criar um módulo basta salvar o código desejado em um arquivo com a extensão ```.py```.\n",
    "\n",
    "#### Nomeando um Módulo\n",
    "\n",
    "Você pode nomear o arquivo de módulo como quiser, mas ele deve ter a extensão de arquivo ```.py```.\n",
    "\n",
    "Por exemplo, vamos crirar o arquivo `mymodule.py` com o seguinte código\n",
    "\n",
    "```python\n",
    "def greeting(name):\n",
    "    print(\"Hello, \" + name + \"!\")\n",
    "```\n",
    "\n",
    "## Usando um módulo\n",
    "\n",
    "Agora podemos usar (ou seja, importar) o módulo que acabamos de criar, usando a instrução `import`:\n",
    "\n",
    "Por exemplo, importe o módulo seu `mymodule` e chame a função de saudação `greeting` com seu nome:"
   ]
  },
  {
   "cell_type": "code",
   "execution_count": 1,
   "metadata": {},
   "outputs": [
    {
     "name": "stdout",
     "output_type": "stream",
     "text": [
      "Hello, Felipe !\n"
     ]
    }
   ],
   "source": [
    "import mymodule\n",
    "\n",
    "mymodule.greeting('Felipe')"
   ]
  },
  {
   "cell_type": "markdown",
   "metadata": {},
   "source": [
    "Através desta forma de importar o módulo, ao usar alguma estrutura dele, é necessário identificar o módulo. Isto é chamado de **importação absoluta**."
   ]
  },
  {
   "cell_type": "markdown",
   "metadata": {},
   "source": [
    "## Variáveis em um módulo\n",
    "\n",
    "Um módulo pode conter funções, conforme já visto, mas também variáveis de todos os tipos (arrays, dicionários, objetos etc):\n",
    "\n",
    "Por exemplo, salve o código do dicionário abaixo no arquivo `mymodule.py`\n",
    "\n",
    "```python\n",
    "person1 = {\n",
    "  \"name\": \"John\",\n",
    "  \"age\": 36,\n",
    "  \"country\": \"Norway\"\n",
    "}\n",
    "```\n",
    "\n",
    "Em seguida, importe o módulo `mymodule` e acesse o dicionário `person1` como mostrado abaixo:"
   ]
  },
  {
   "cell_type": "code",
   "execution_count": 2,
   "metadata": {},
   "outputs": [
    {
     "name": "stdout",
     "output_type": "stream",
     "text": [
      "36\n"
     ]
    }
   ],
   "source": [
    "import mymodule\n",
    "\n",
    "a = mymodule.person1[\"age\"]\n",
    "print(a)"
   ]
  },
  {
   "cell_type": "markdown",
   "metadata": {},
   "source": [
    "## Renomeando um módulo\n",
    "\n",
    "Você pode criar um **alias**, ou seja, um apelido, ao importar um módulo, usando a palavra-chave `as`.\n",
    "\n",
    "Por exemplo, crie um **alias** para `mymodule` chamado `m`:"
   ]
  },
  {
   "cell_type": "code",
   "execution_count": 3,
   "metadata": {},
   "outputs": [
    {
     "name": "stdout",
     "output_type": "stream",
     "text": [
      "Norway\n"
     ]
    }
   ],
   "source": [
    "import mymodule as m\n",
    "\n",
    "a = m.person1[\"country\"]\n",
    "print(a)"
   ]
  },
  {
   "cell_type": "markdown",
   "metadata": {},
   "source": [
    "## Importando estruturas específicas do módulo\n",
    "\n",
    "Você pode escolher importar apenas partes de um módulo, usando a palavra-chave `from`. Este tipo de importação de partes especícias de um módulo é chamada de **importação relativa**.\n",
    "\n",
    "Por exemplo, o módulo `mymodule` tem uma função e um dicionário:\n",
    "\n",
    "```python\n",
    "def greeting(name):\n",
    "  print(\"Hello, \" + name)\n",
    "\n",
    "person1 = {\n",
    "  \"name\": \"John\",\n",
    "  \"age\": 36,\n",
    "  \"country\": \"Norway\"\n",
    "}\n",
    "```\n",
    "\n",
    "Agora, iremos importar apenas o dicionário `person1` do módulo:"
   ]
  },
  {
   "cell_type": "code",
   "execution_count": 4,
   "metadata": {},
   "outputs": [
    {
     "name": "stdout",
     "output_type": "stream",
     "text": [
      "36\n"
     ]
    }
   ],
   "source": [
    "from mymodule import person1\n",
    "\n",
    "print(person1[\"age\"])"
   ]
  },
  {
   "cell_type": "markdown",
   "metadata": {},
   "source": [
    "**IMPORTANTE** Por evitar problemas, como a ofuscação de variáveis, a importação absoluta é considerada uma prática de programação melhor do que a importação relativa."
   ]
  },
  {
   "cell_type": "markdown",
   "metadata": {},
   "source": [
    "## Recarregando módulos\n",
    "\n",
    "Por razões de eficiência, cada módulo é importado apenas uma vez por sessão do interpretador. Portanto, se você alterar seus módulos, você deverá reiniciar o interpretador; ou, se for apenas um módulo que você deseja testar interativamente, use `importlib.reload()`, por exemplo \n",
    "\n",
    "```python\n",
    "import importlib\n",
    "importlib.reload(modulename)\n",
    "```\n",
    "\n",
    "Por exemplo, abra o código do módulo `mymodule` e adicione o seguinte trecho código\n",
    "\n",
    "```python\n",
    "def getPersonId(name):\n",
    "    return len(name)\n",
    "```\n",
    "\n",
    "Em seguida, tente chamar a nova função `getPersonId`:"
   ]
  },
  {
   "cell_type": "code",
   "execution_count": 5,
   "metadata": {},
   "outputs": [
    {
     "ename": "AttributeError",
     "evalue": "module 'mymodule' has no attribute 'getPersonId'",
     "output_type": "error",
     "traceback": [
      "\u001b[1;31m---------------------------------------------------------------------------\u001b[0m",
      "\u001b[1;31mAttributeError\u001b[0m                            Traceback (most recent call last)",
      "\u001b[1;32m<ipython-input-5-5e5bd49b694e>\u001b[0m in \u001b[0;36m<module>\u001b[1;34m\u001b[0m\n\u001b[0;32m      1\u001b[0m \u001b[1;32mimport\u001b[0m \u001b[0mmymodule\u001b[0m \u001b[1;32mas\u001b[0m \u001b[0mm\u001b[0m\u001b[1;33m\u001b[0m\u001b[1;33m\u001b[0m\u001b[0m\n\u001b[0;32m      2\u001b[0m \u001b[1;33m\u001b[0m\u001b[0m\n\u001b[1;32m----> 3\u001b[1;33m \u001b[0mm\u001b[0m\u001b[1;33m.\u001b[0m\u001b[0mgetPersonId\u001b[0m\u001b[1;33m(\u001b[0m\u001b[1;34m'Felipe'\u001b[0m\u001b[1;33m)\u001b[0m\u001b[1;33m\u001b[0m\u001b[1;33m\u001b[0m\u001b[0m\n\u001b[0m",
      "\u001b[1;31mAttributeError\u001b[0m: module 'mymodule' has no attribute 'getPersonId'"
     ]
    }
   ],
   "source": [
    "import mymodule as m\n",
    "\n",
    "m.getPersonId('Felipe')"
   ]
  },
  {
   "cell_type": "code",
   "execution_count": 6,
   "metadata": {},
   "outputs": [
    {
     "ename": "AttributeError",
     "evalue": "module 'mymodule' has no attribute 'getPersonId'",
     "output_type": "error",
     "traceback": [
      "\u001b[1;31m---------------------------------------------------------------------------\u001b[0m",
      "\u001b[1;31mAttributeError\u001b[0m                            Traceback (most recent call last)",
      "\u001b[1;32m<ipython-input-6-fd6dcfdc5b78>\u001b[0m in \u001b[0;36m<module>\u001b[1;34m\u001b[0m\n\u001b[0;32m      4\u001b[0m \u001b[0mimportlib\u001b[0m\u001b[1;33m.\u001b[0m\u001b[0mreload\u001b[0m\u001b[1;33m(\u001b[0m\u001b[0mm\u001b[0m\u001b[1;33m)\u001b[0m\u001b[1;33m\u001b[0m\u001b[1;33m\u001b[0m\u001b[0m\n\u001b[0;32m      5\u001b[0m \u001b[1;33m\u001b[0m\u001b[0m\n\u001b[1;32m----> 6\u001b[1;33m \u001b[0mm\u001b[0m\u001b[1;33m.\u001b[0m\u001b[0mgetPersonId\u001b[0m\u001b[1;33m(\u001b[0m\u001b[1;34m'Felipe'\u001b[0m\u001b[1;33m)\u001b[0m\u001b[1;33m\u001b[0m\u001b[1;33m\u001b[0m\u001b[0m\n\u001b[0m",
      "\u001b[1;31mAttributeError\u001b[0m: module 'mymodule' has no attribute 'getPersonId'"
     ]
    }
   ],
   "source": [
    "import importlib\n",
    "import mymodule as m\n",
    "\n",
    "importlib.reload(m)\n",
    "\n",
    "m.getPersonId('Felipe')"
   ]
  },
  {
   "cell_type": "markdown",
   "metadata": {},
   "source": [
    "## Usando a função dir()\n",
    "\n",
    "Existe uma função embutida do Python que lista todos os nomes de funções (ou nomes de variáveis) em um módulo. A função `dir()`.\n",
    "\n",
    "Por exemplo, o trecho de código abaixo lista todos os nomes definidos e pertencentes ao módulo `mymodule`:"
   ]
  },
  {
   "cell_type": "code",
   "execution_count": 7,
   "metadata": {},
   "outputs": [
    {
     "name": "stdout",
     "output_type": "stream",
     "text": [
      "['__builtins__', '__cached__', '__doc__', '__file__', '__loader__', '__name__', '__package__', '__spec__', 'greeting', 'person1']\n"
     ]
    }
   ],
   "source": [
    "import mymodule\n",
    "\n",
    "x = dir(mymodule)\n",
    "print(x)"
   ]
  },
  {
   "cell_type": "markdown",
   "metadata": {},
   "source": [
    "## Escopo de nomes\n",
    "\n",
    "+ Um escopo de nomes ou do Inglês, **namespace**, é basicamente um sistema para certificar-se que todos os nomes em um programa são únicos e podem ser usados sem qualquer conflito/confusão.\n",
    "+ Em Python, o escopo de nomes é mantido através de **namespaces**, que são dicionários que relacionam os nomes dos objetos (referências) e os objetos em si.\n",
    "\n",
    "Alguns exemplos de namespaces são:\n",
    "\n",
    "+ **Namespace local**: Este namespace inclui nomes locais dentro de uma função. É criado quando uma função é chamada, e só dura até que a função retorne.\n",
    "+ **Namespace global**: Este namespace inclui nomes de vários módulos importados que você está usando em um programa. Ele é criado quando um módulo importado no programa, e dura até ele terminar.\n",
    "\n",
    "Variáveis globais podem ser ofuscadas por variáveis locais (pois o escopo local é consultado antes do escopo global). Para evitar isso, é preciso declarar a variável como global no escopo local. Veja o exemplo a seguir."
   ]
  },
  {
   "cell_type": "code",
   "execution_count": 8,
   "metadata": {},
   "outputs": [
    {
     "name": "stdout",
     "output_type": "stream",
     "text": [
      "Resultado: 15\n"
     ]
    }
   ],
   "source": [
    "def somaValoresLista(lista):\n",
    "    \"\"\"\n",
    "    Soma os valores de de uma lista, recursivamente e\n",
    "    coloca o resultado final em uma variável global\n",
    "    \"\"\"\n",
    "    global soma\n",
    "    \n",
    "    for i in lista:\n",
    "        soma += i\n",
    "    return soma\n",
    "\n",
    "\n",
    "# Variável global.\n",
    "soma = 0\n",
    "\n",
    "somaValoresLista([1, 2, 3, 4, 5])\n",
    "\n",
    "print('Resultado:', soma)"
   ]
  },
  {
   "cell_type": "markdown",
   "metadata": {},
   "source": [
    "**IMPORTANTE**: Usar variáveis globais não é considerada uma boa prática de desenvolvimento, pois elas tornam mais difícil entender o código, portanto é melhor evitar seu uso. E ofuscar variáveis também."
   ]
  },
  {
   "cell_type": "markdown",
   "metadata": {},
   "source": [
    "## Pacotes\n",
    "\n",
    "+ Pacotes, ou do Inglês, **packages**, são pastas que são identificadas pelo interpretador pela presença de um arquivo com o nome `__init__.py`. \n",
    "+ Os pacotes funcionam como coleções para organizar módulos de forma hierárquica.\n",
    "+ É possível importar todos os módulos do pacote usando a declaração `from nome_do_pacote import *`.\n",
    "+ O arquivo `__init__.py` pode estar vazio, conter código de inicialização do pacote ou definir uma variável chamada `__all__`.\n",
    "+ A variável `__all__` especifica a lista de módulos do pacote que serão importados quando `import *` for usado.\n",
    "+ Quando a variável `__all__` não é especificada, a declaração `import *` não importará nada. Lembre-se que `__all__` apenas afeta o import com `*`.\n",
    "+ Sem o arquivo `__init__.py`, o interpretador Python não identifica a pasta como sendo um pacote válido."
   ]
  },
  {
   "cell_type": "code",
   "execution_count": null,
   "metadata": {},
   "outputs": [],
   "source": []
  },
  {
   "cell_type": "code",
   "execution_count": null,
   "metadata": {},
   "outputs": [],
   "source": []
  },
  {
   "cell_type": "code",
   "execution_count": null,
   "metadata": {},
   "outputs": [],
   "source": []
  },
  {
   "cell_type": "code",
   "execution_count": null,
   "metadata": {},
   "outputs": [],
   "source": []
  }
 ],
 "metadata": {
  "kernelspec": {
   "display_name": "Python 3",
   "language": "python",
   "name": "python3"
  },
  "language_info": {
   "codemirror_mode": {
    "name": "ipython",
    "version": 3
   },
   "file_extension": ".py",
   "mimetype": "text/x-python",
   "name": "python",
   "nbconvert_exporter": "python",
   "pygments_lexer": "ipython3",
   "version": "3.8.3"
  }
 },
 "nbformat": 4,
 "nbformat_minor": 4
}
