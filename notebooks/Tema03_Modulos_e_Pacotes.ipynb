{
 "cells": [
  {
   "cell_type": "markdown",
   "metadata": {},
   "source": [
    "# Módulos e Pacotes"
   ]
  },
  {
   "cell_type": "markdown",
   "metadata": {},
   "source": [
    "## O que é um módulo?\n",
    "\n",
    "+ Um módulo é igual a uma biblioteca de código. \n",
    "+ É um arquivo fonte, com extensão `.py`, contendo um conjunto de quaisquer estruturas do Python (classes, funções, variáveis, etc.) que podem ser importados para um programa.\n",
    "+ Os módulos são compilados quando importadas pela primeira vez e armazenados em um arquivo com extensão `.pyc` ou `.pyo`.\n",
    "+ Eles possuem um **namespace** (i.e., espaço de nome) próprio e aceitam o uso de **docstrings**.\n",
    "+ São objetos do tipo **Singleton**, ou seja, é carregada somente uma instância em memória, que fica disponível de forma global para o programa.\n",
    "+ Os módulos são localizados pelo interpretador através da lista de pastas definidas na variável de ambiente `PYTHONPATH` (sys.path), que normalmente inclui a pasta corrente em primeiro lugar.\n",
    "\n",
    "## Vantagens de se usar módulos\n",
    "\n",
    "+ Torna o código mais legível.\n",
    "+ Permite o reaproveitamento de funcionalidades.\n",
    "+ Permite que partes do código sejam testadas isoladamente.\n",
    "+ Facilita a localização de falhas no código.\n",
    "\n",
    "## Criando um módulo\n",
    "\n",
    "Para criar um módulo basta salvar o código desejado em um arquivo com a extensão ```.py```.\n",
    "\n",
    "#### Nomeando um Módulo\n",
    "\n",
    "Você pode nomear o arquivo de módulo como quiser, mas ele deve ter a extensão de arquivo ```.py```.\n",
    "\n",
    "Por exemplo, vamos crirar o arquivo `mymodule.py` com o seguinte código\n",
    "\n",
    "```python\n",
    "def greeting(name):\n",
    "    print(\"Hello, \" + name + \"!\")\n",
    "```\n",
    "\n",
    "## Usando um módulo\n",
    "\n",
    "Agora podemos usar (ou seja, importar) o módulo que acabamos de criar, usando a instrução `import`:\n",
    "\n",
    "Por exemplo, importe o módulo seu `mymodule` e chame a função de saudação `greeting` com seu nome:"
   ]
  },
  {
   "cell_type": "code",
   "execution_count": 1,
   "metadata": {},
   "outputs": [
    {
     "name": "stdout",
     "output_type": "stream",
     "text": [
      "Hello, Felipe !\n"
     ]
    }
   ],
   "source": [
    "import mymodule\n",
    "\n",
    "mymodule.greeting('Felipe')"
   ]
  },
  {
   "cell_type": "markdown",
   "metadata": {},
   "source": [
    "Através desta forma de importar o módulo, ao usar alguma estrutura dele, é necessário identificar o módulo. Isto é chamado de **importação absoluta**."
   ]
  },
  {
   "cell_type": "markdown",
   "metadata": {},
   "source": [
    "## Variáveis em um módulo\n",
    "\n",
    "Um módulo pode conter funções, conforme já visto, mas também variáveis de todos os tipos (arrays, dicionários, objetos etc):\n",
    "\n",
    "Por exemplo, salve o código do dicionário abaixo no arquivo `mymodule.py`\n",
    "\n",
    "```python\n",
    "person1 = {\n",
    "  \"name\": \"John\",\n",
    "  \"age\": 36,\n",
    "  \"country\": \"Norway\"\n",
    "}\n",
    "```\n",
    "\n",
    "Em seguida, importe o módulo `mymodule` e acesse o dicionário `person1` como mostrado abaixo:"
   ]
  },
  {
   "cell_type": "code",
   "execution_count": 2,
   "metadata": {},
   "outputs": [
    {
     "name": "stdout",
     "output_type": "stream",
     "text": [
      "36\n"
     ]
    }
   ],
   "source": [
    "import mymodule\n",
    "\n",
    "a = mymodule.person1[\"age\"]\n",
    "print(a)"
   ]
  },
  {
   "cell_type": "markdown",
   "metadata": {},
   "source": [
    "## Renomeando um módulo\n",
    "\n",
    "Você pode criar um **alias**, ou seja, um apelido, ao importar um módulo, usando a palavra-chave `as`.\n",
    "\n",
    "Por exemplo, crie um **alias** para `mymodule` chamado `m`:"
   ]
  },
  {
   "cell_type": "code",
   "execution_count": 3,
   "metadata": {},
   "outputs": [
    {
     "name": "stdout",
     "output_type": "stream",
     "text": [
      "Norway\n"
     ]
    }
   ],
   "source": [
    "import mymodule as m\n",
    "\n",
    "a = m.person1[\"country\"]\n",
    "print(a)"
   ]
  },
  {
   "cell_type": "markdown",
   "metadata": {},
   "source": [
    "## Importando estruturas específicas do módulo\n",
    "\n",
    "Você pode escolher importar apenas partes de um módulo, usando a palavra-chave `from`. Este tipo de importação de partes especícias de um módulo é chamada de **importação relativa**.\n",
    "\n",
    "Por exemplo, o módulo `mymodule` tem uma função e um dicionário:\n",
    "\n",
    "```python\n",
    "def greeting(name):\n",
    "  print(\"Hello, \" + name)\n",
    "\n",
    "person1 = {\n",
    "  \"name\": \"John\",\n",
    "  \"age\": 36,\n",
    "  \"country\": \"Norway\"\n",
    "}\n",
    "```\n",
    "\n",
    "Agora, iremos importar apenas o dicionário `person1` do módulo:"
   ]
  },
  {
   "cell_type": "code",
   "execution_count": 4,
   "metadata": {},
   "outputs": [
    {
     "name": "stdout",
     "output_type": "stream",
     "text": [
      "36\n"
     ]
    }
   ],
   "source": [
    "from mymodule import person1\n",
    "\n",
    "print(person1[\"age\"])"
   ]
  },
  {
   "cell_type": "markdown",
   "metadata": {},
   "source": [
    "**IMPORTANTE** Por evitar problemas, como a ofuscação de variáveis, a importação absoluta é considerada uma prática de programação melhor do que a importação relativa."
   ]
  },
  {
   "cell_type": "markdown",
   "metadata": {},
   "source": [
    "## Recarregando módulos\n",
    "\n",
    "Por razões de eficiência, cada módulo é importado apenas uma vez por sessão do interpretador. Portanto, se você alterar seus módulos, você deverá reiniciar o interpretador; ou, se for apenas um módulo que você deseja testar interativamente, use `importlib.reload()`, por exemplo \n",
    "\n",
    "```python\n",
    "import importlib\n",
    "importlib.reload(modulename)\n",
    "```\n",
    "\n",
    "Por exemplo, abra o código do módulo `mymodule` e adicione o seguinte trecho código\n",
    "\n",
    "```python\n",
    "def getPersonId(name):\n",
    "    return len(name)\n",
    "```\n",
    "\n",
    "Em seguida, tente chamar a nova função `getPersonId`:"
   ]
  },
  {
   "cell_type": "code",
   "execution_count": 5,
   "metadata": {},
   "outputs": [
    {
     "ename": "AttributeError",
     "evalue": "module 'mymodule' has no attribute 'getPersonId'",
     "output_type": "error",
     "traceback": [
      "\u001b[1;31m---------------------------------------------------------------------------\u001b[0m",
      "\u001b[1;31mAttributeError\u001b[0m                            Traceback (most recent call last)",
      "\u001b[1;32m<ipython-input-5-5e5bd49b694e>\u001b[0m in \u001b[0;36m<module>\u001b[1;34m\u001b[0m\n\u001b[0;32m      1\u001b[0m \u001b[1;32mimport\u001b[0m \u001b[0mmymodule\u001b[0m \u001b[1;32mas\u001b[0m \u001b[0mm\u001b[0m\u001b[1;33m\u001b[0m\u001b[1;33m\u001b[0m\u001b[0m\n\u001b[0;32m      2\u001b[0m \u001b[1;33m\u001b[0m\u001b[0m\n\u001b[1;32m----> 3\u001b[1;33m \u001b[0mm\u001b[0m\u001b[1;33m.\u001b[0m\u001b[0mgetPersonId\u001b[0m\u001b[1;33m(\u001b[0m\u001b[1;34m'Felipe'\u001b[0m\u001b[1;33m)\u001b[0m\u001b[1;33m\u001b[0m\u001b[1;33m\u001b[0m\u001b[0m\n\u001b[0m",
      "\u001b[1;31mAttributeError\u001b[0m: module 'mymodule' has no attribute 'getPersonId'"
     ]
    }
   ],
   "source": [
    "import mymodule as m\n",
    "\n",
    "m.getPersonId('Felipe')"
   ]
  },
  {
   "cell_type": "code",
   "execution_count": 6,
   "metadata": {},
   "outputs": [
    {
     "ename": "AttributeError",
     "evalue": "module 'mymodule' has no attribute 'getPersonId'",
     "output_type": "error",
     "traceback": [
      "\u001b[1;31m---------------------------------------------------------------------------\u001b[0m",
      "\u001b[1;31mAttributeError\u001b[0m                            Traceback (most recent call last)",
      "\u001b[1;32m<ipython-input-6-fd6dcfdc5b78>\u001b[0m in \u001b[0;36m<module>\u001b[1;34m\u001b[0m\n\u001b[0;32m      4\u001b[0m \u001b[0mimportlib\u001b[0m\u001b[1;33m.\u001b[0m\u001b[0mreload\u001b[0m\u001b[1;33m(\u001b[0m\u001b[0mm\u001b[0m\u001b[1;33m)\u001b[0m\u001b[1;33m\u001b[0m\u001b[1;33m\u001b[0m\u001b[0m\n\u001b[0;32m      5\u001b[0m \u001b[1;33m\u001b[0m\u001b[0m\n\u001b[1;32m----> 6\u001b[1;33m \u001b[0mm\u001b[0m\u001b[1;33m.\u001b[0m\u001b[0mgetPersonId\u001b[0m\u001b[1;33m(\u001b[0m\u001b[1;34m'Felipe'\u001b[0m\u001b[1;33m)\u001b[0m\u001b[1;33m\u001b[0m\u001b[1;33m\u001b[0m\u001b[0m\n\u001b[0m",
      "\u001b[1;31mAttributeError\u001b[0m: module 'mymodule' has no attribute 'getPersonId'"
     ]
    }
   ],
   "source": [
    "import importlib\n",
    "import mymodule as m\n",
    "\n",
    "importlib.reload(m)\n",
    "\n",
    "m.getPersonId('Felipe')"
   ]
  },
  {
   "cell_type": "markdown",
   "metadata": {},
   "source": [
    "## Usando a função dir()\n",
    "\n",
    "Existe uma função embutida do Python que lista todos os nomes de funções (ou nomes de variáveis) em um módulo. A função `dir()`.\n",
    "\n",
    "Por exemplo, o trecho de código abaixo lista todos os nomes definidos e pertencentes ao módulo `mymodule`:"
   ]
  },
  {
   "cell_type": "code",
   "execution_count": 7,
   "metadata": {},
   "outputs": [
    {
     "name": "stdout",
     "output_type": "stream",
     "text": [
      "['__builtins__', '__cached__', '__doc__', '__file__', '__loader__', '__name__', '__package__', '__spec__', 'greeting', 'person1']\n"
     ]
    }
   ],
   "source": [
    "import mymodule\n",
    "\n",
    "x = dir(mymodule)\n",
    "print(x)"
   ]
  },
  {
   "cell_type": "markdown",
   "metadata": {},
   "source": [
    "## Escopo de nomes\n",
    "\n",
    "+ Um escopo de nomes ou do Inglês, **namespace**, é basicamente um sistema para certificar-se que todos os nomes em um programa são únicos e podem ser usados sem qualquer conflito/confusão.\n",
    "+ Em Python, o escopo de nomes é mantido através de **namespaces**, que são dicionários que relacionam os nomes dos objetos (referências) e os objetos em si.\n",
    "\n",
    "Alguns exemplos de namespaces são:\n",
    "\n",
    "+ **Namespace local**: Este namespace inclui nomes locais dentro de uma função. É criado quando uma função é chamada, e só dura até que a função retorne.\n",
    "+ **Namespace global**: Este namespace inclui nomes de vários módulos importados que você está usando em um programa. Ele é criado quando um módulo importado no programa, e dura até ele terminar.\n",
    "\n",
    "**IMPORTANTE**: Em Python, diferentemente de outras linguagens, variáveis são sempre tratadas como sendo **locais** caso não sejam declaradas de outra forma. \n",
    "\n",
    "Portanto, variáveis globais podem ser ofuscadas por variáveis locais (pois o escopo local é consultado antes do escopo global). Para evitar isso, é preciso declarar a variável como **global** (com a palavra reservada `global`) no escopo local. Veja o exemplo a seguir."
   ]
  },
  {
   "cell_type": "code",
   "execution_count": 8,
   "metadata": {},
   "outputs": [
    {
     "name": "stdout",
     "output_type": "stream",
     "text": [
      "5\n"
     ]
    }
   ],
   "source": [
    "# Variável global inicializada com o valor 5.\n",
    "myGlobal = 5\n",
    "\n",
    "def func1():\n",
    "    #global myGlobal\n",
    "    # Variável definida no escopo local.\n",
    "    myGlobal = 42\n",
    "\n",
    "def func2():\n",
    "    # O escopo local foi consultado inicialmente, como nada foi encontrado, procura no escopo global.\n",
    "    print(myGlobal)\n",
    "\n",
    "func1()\n",
    "\n",
    "func2()"
   ]
  },
  {
   "cell_type": "markdown",
   "metadata": {},
   "source": [
    "O exemplo seguinte mostra como as coisas podem ficar *confusas* com o uso de variáveis globais."
   ]
  },
  {
   "cell_type": "code",
   "execution_count": 10,
   "metadata": {},
   "outputs": [
    {
     "name": "stdout",
     "output_type": "stream",
     "text": [
      "42 17 4 17\n",
      "42 15 3 4\n"
     ]
    }
   ],
   "source": [
    "def foo(x, y):\n",
    "    global a\n",
    "    a = 42\n",
    "    x,y = y,x\n",
    "    b = 33\n",
    "    b = 17\n",
    "    c = 100\n",
    "    print(a,b,x,y)\n",
    "\n",
    "a, b, x, y = 1, 15, 3,4 \n",
    "foo(17, 4)\n",
    "print(a, b, x, y)"
   ]
  },
  {
   "cell_type": "markdown",
   "metadata": {},
   "source": [
    "**IMPORTANTE**: Usar variáveis globais não é considerada uma boa prática de programação, pois elas podem:\n",
    "+ tornar mais difícil entender o código,\n",
    "+ levar a um aumento desnecessário da complexidade do código,\n",
    "+ fazer com que funções tenham efeitos colaterais ocultos (i.e., efeitos não óbvios, surpreendentes, difíceis de detectar, difíceis de diagnosticar),\n",
    "+ ser ofuscadas por variáveis locais.\n",
    "\n",
    "Portanto, se você não souber como utilizá-las, é melhor evitar seu uso."
   ]
  },
  {
   "cell_type": "markdown",
   "metadata": {},
   "source": [
    "## Pacotes\n",
    "\n",
    "+ Pacotes, ou do Inglês, **packages**, são **namespaces** que contêm vários sub-pacotes e módulos.\n",
    "+ Os pacotes funcionam como coleções para organizar módulos de forma hierárquica.\n",
    "+ Eles são simplesmente pastas (ou diretórios) que são identificadas pelo interpretador como sendo pacotes pela presença de um arquivo com o nome `__init__.py`.\n",
    "+ Sem o arquivo `__init__.py`, o interpretador Python não identifica a pasta como sendo um pacote válido.\n",
    "+ O arquivo `__init__.py` pode estar vazio, conter código de inicialização do pacote ou definir uma variável chamada `__all__`.\n",
    "+ A variável `__all__` especifica a lista de **módulos** do pacote que serão importados quando `from nome_do_pacote import *` for usado.\n",
    "+ Quando a variável `__all__` não é especificada, a declaração `from nome_do_pacote import *` não importará nada. Lembre-se que `__all__` apenas afeta o import com `*`."
   ]
  },
  {
   "cell_type": "code",
   "execution_count": 1,
   "metadata": {},
   "outputs": [
    {
     "name": "stdout",
     "output_type": "stream",
     "text": [
      "Este é o módulo: mod1: Audio\n",
      "Este é o módulo: mod2: Video\n",
      "Intel HDA\n",
      "NVIDIA GTX1080\n",
      "Playing audio\n",
      "Playing video\n"
     ]
    }
   ],
   "source": [
    "import mypackage.mod1\n",
    "import mypackage.mod2\n",
    "\n",
    "mypackage.mod1.mod1Name()\n",
    "\n",
    "mypackage.mod2.mod2Name()\n",
    "\n",
    "print(mypackage.mod1.audio_device['name'])\n",
    "\n",
    "print(mypackage.mod2.video_device['name'])\n",
    "\n",
    "audio = mypackage.mod1.Audio()\n",
    "audio.play()\n",
    "\n",
    "video = mypackage.mod2.Video()\n",
    "video.play()"
   ]
  },
  {
   "cell_type": "code",
   "execution_count": 2,
   "metadata": {},
   "outputs": [
    {
     "name": "stdout",
     "output_type": "stream",
     "text": [
      "Este é o módulo: mod1: Audio\n",
      "Este é o módulo: mod2: Video\n"
     ]
    }
   ],
   "source": [
    "from mypackage import mod1\n",
    "from mypackage import mod2\n",
    "\n",
    "mod1.mod1Name()\n",
    "\n",
    "mod2.mod2Name()"
   ]
  },
  {
   "cell_type": "code",
   "execution_count": 3,
   "metadata": {},
   "outputs": [
    {
     "name": "stdout",
     "output_type": "stream",
     "text": [
      "Este é o módulo: mod1: Audio\n",
      "Este é o módulo: mod2: Video\n"
     ]
    }
   ],
   "source": [
    "from mypackage import mod1 as m1\n",
    "from mypackage import mod2 as m2\n",
    "\n",
    "m1.mod1Name()\n",
    "\n",
    "m2.mod2Name()"
   ]
  },
  {
   "cell_type": "code",
   "execution_count": 4,
   "metadata": {},
   "outputs": [
    {
     "name": "stdout",
     "output_type": "stream",
     "text": [
      "Este é o módulo: mod1: Audio\n",
      "Este é o módulo: mod2: Video\n"
     ]
    },
    {
     "ename": "NameError",
     "evalue": "name 'audio_device' is not defined",
     "output_type": "error",
     "traceback": [
      "\u001b[1;31m---------------------------------------------------------------------------\u001b[0m",
      "\u001b[1;31mNameError\u001b[0m                                 Traceback (most recent call last)",
      "\u001b[1;32m<ipython-input-4-01648bd88b2b>\u001b[0m in \u001b[0;36m<module>\u001b[1;34m\u001b[0m\n\u001b[0;32m      6\u001b[0m \u001b[0mmod2Name\u001b[0m\u001b[1;33m(\u001b[0m\u001b[1;33m)\u001b[0m\u001b[1;33m\u001b[0m\u001b[1;33m\u001b[0m\u001b[0m\n\u001b[0;32m      7\u001b[0m \u001b[1;33m\u001b[0m\u001b[0m\n\u001b[1;32m----> 8\u001b[1;33m \u001b[0maudio_device\u001b[0m\u001b[1;33m[\u001b[0m\u001b[1;34m'name'\u001b[0m\u001b[1;33m]\u001b[0m\u001b[1;33m\u001b[0m\u001b[1;33m\u001b[0m\u001b[0m\n\u001b[0m",
      "\u001b[1;31mNameError\u001b[0m: name 'audio_device' is not defined"
     ]
    }
   ],
   "source": [
    "from mypackage.mod1 import mod1Name\n",
    "from mypackage.mod2 import mod2Name\n",
    "\n",
    "mod1Name()\n",
    "\n",
    "mod2Name()\n",
    "\n",
    "audio_device['name']"
   ]
  },
  {
   "cell_type": "markdown",
   "metadata": {},
   "source": [
    "## Tarefas\n",
    "\n",
    "1. <span style=\"color:blue\">**QUIZ - Módulos e Pacotes**</span>: respondam ao questionário sobre módulos e pacotes no MS teams, por favor. \n",
    "2. <span style=\"color:blue\">**Laboratório #3**</span>: cliquem em um dos links abaixo para accessar os exercícios do laboratório #3.\n",
    "\n",
    "[![Binder](https://mybinder.org/badge_logo.svg)](https://mybinder.org/v2/gh/zz4fap/python-programming/master?filepath=labs%2FLaboratorio3.ipynb)\n",
    "\n",
    "[![Google Colab](https://badgen.net/badge/Launch/on%20Google%20Colab/blue?icon=terminal)](https://colab.research.google.com/github/zz4fap/python-programming/blob/master/labs/Laboratorio3.ipynb)\n",
    "\n",
    "**IMPORTANTE**: Para acessar o material das aulas e realizar as entregas dos exercícios de laboratório, por favor, leiam o tutorial no seguinte link:\n",
    "[Material-das-Aulas](../docs/Acesso-ao-material-das-aulas-resolucao-e-entrega-dos-laboratorios.pdf)"
   ]
  },
  {
   "cell_type": "markdown",
   "metadata": {},
   "source": [
    "## Avisos\n",
    "\n",
    "* Se atentem aos prazos de entrega das tarefas na aba de **Avaliações** do MS Teams.\n",
    "* Horário de atendimento todas as Quintas-feiras as 17:30 às 19:30 via MS Teams enquanto as aulas presenciais não retornam."
   ]
  },
  {
   "cell_type": "markdown",
   "metadata": {},
   "source": [
    "<img src=\"../figures/obrigado.png\" width=\"1000\" height=\"1000\">"
   ]
  },
  {
   "cell_type": "code",
   "execution_count": null,
   "metadata": {},
   "outputs": [],
   "source": []
  }
 ],
 "metadata": {
  "kernelspec": {
   "display_name": "Python 3",
   "language": "python",
   "name": "python3"
  },
  "language_info": {
   "codemirror_mode": {
    "name": "ipython",
    "version": 3
   },
   "file_extension": ".py",
   "mimetype": "text/x-python",
   "name": "python",
   "nbconvert_exporter": "python",
   "pygments_lexer": "ipython3",
   "version": "3.8.3"
  }
 },
 "nbformat": 4,
 "nbformat_minor": 4
}
