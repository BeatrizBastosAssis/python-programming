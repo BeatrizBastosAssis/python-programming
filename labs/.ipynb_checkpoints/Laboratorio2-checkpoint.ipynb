{
 "cells": [
  {
   "cell_type": "code",
   "execution_count": null,
   "metadata": {},
   "outputs": [],
   "source": []
  },
  {
   "cell_type": "markdown",
   "metadata": {},
   "source": [
    "Implemente uma função que, dado um número inteiro X passado como parâmetro, retorna a string \"X é positivo\" caso X seja um número positivo, e \"X não é positivo\" caso contrário."
   ]
  },
  {
   "cell_type": "code",
   "execution_count": null,
   "metadata": {},
   "outputs": [],
   "source": []
  },
  {
   "cell_type": "markdown",
   "metadata": {},
   "source": [
    "Implemente uma função que determine se um número inteiro X passado como parâmetro é positivo, negativo ou zero. O valor de retorno da função deve ser uma dentre as strings \"X é positivo\", \"X é negativo\" ou \"X é igual a zero\"."
   ]
  },
  {
   "cell_type": "code",
   "execution_count": null,
   "metadata": {},
   "outputs": [],
   "source": []
  },
  {
   "cell_type": "markdown",
   "metadata": {},
   "source": [
    "Implemente uma função que dada a data de nascimento de uma pessoa, retorna sua idade. Caso a pessoa esteja fazendo aniversário, além da idade, deve ser retornado uma mensagem de parabéns. \n",
    "\n",
    "**Dica**: Para saber a data atual, use o módulo ```datetime``` e a função ```datetime.datetime.now()```."
   ]
  },
  {
   "cell_type": "code",
   "execution_count": null,
   "metadata": {},
   "outputs": [],
   "source": []
  },
  {
   "cell_type": "markdown",
   "metadata": {},
   "source": [
    "Escreva um programa que receba um ano (um número inteiro) e calcule se o ano é bisexto.\n",
    "\n",
    "**Dica**: Um ano é bisexto deve ser múltiplo de 4 mas não pode ser múltiplo de 100, a menos que seja também múltiplo de 400."
   ]
  },
  {
   "cell_type": "code",
   "execution_count": null,
   "metadata": {},
   "outputs": [],
   "source": []
  },
  {
   "cell_type": "markdown",
   "metadata": {},
   "source": [
    "O João da Silva está procurando uma namorada no site alma.gemea.org e, para isso, ele preenche uma ficha com as suas preferências:\n",
    "\n",
    "altura: 155 a 170\n",
    "\n",
    "peso : 45 a 65\n",
    "\n",
    "idade : 25 a 35\n",
    "\n",
    "cabelo: “loiro”\n",
    "\n",
    "sexo : “feminino”\n",
    "\n",
    "escolaridade: não “PhD”\n",
    "\n",
    "O programa abaixo mostra os dados de uma cliente chamada Penny. Complete o programa abaixo para ver se a Penny é compatível com o Leonard, imprimindo True ou False."
   ]
  },
  {
   "cell_type": "code",
   "execution_count": null,
   "metadata": {},
   "outputs": [],
   "source": []
  },
  {
   "cell_type": "markdown",
   "metadata": {},
   "source": [
    "Escreva um expressão em função de uma incógnita nota que resulte em True caso nota esteja no intervalo aberto (3.0, 5.0), e resulte em False caso contrário."
   ]
  },
  {
   "cell_type": "code",
   "execution_count": null,
   "metadata": {},
   "outputs": [],
   "source": []
  },
  {
   "cell_type": "markdown",
   "metadata": {},
   "source": [
    "Um ano bissexto ocorre aproximadamente a cada 4 anos. Escreva uma expressão (em função de uma incógnita ano) que resulte em True caso ano seja bissexto e False caso contrário. Para ser bissexto, o valor de ano precisa ser múltiplo de 4, exceto múltiplos de 100 que não são múltiplos de 400. Assim o ano de 2020 é bissexto pois satisfaz todas essas condições.\n",
    "\n",
    "**Dica**: Use o operador ```%``` para verificar se ano é um múltiplo de algum número, como por exemplo\n",
    "\n",
    "```ano % 4 == 0```\n",
    "\n",
    "Se ```ano=12```, a expressão ```12 % 4 == 0``` resulta em ```True``` pois como 12 é múltiplo de 4 o resto da divisão (```12%4```) é zero."
   ]
  },
  {
   "cell_type": "code",
   "execution_count": null,
   "metadata": {},
   "outputs": [],
   "source": []
  }
 ],
 "metadata": {
  "kernelspec": {
   "display_name": "Python 3",
   "language": "python",
   "name": "python3"
  },
  "language_info": {
   "codemirror_mode": {
    "name": "ipython",
    "version": 3
   },
   "file_extension": ".py",
   "mimetype": "text/x-python",
   "name": "python",
   "nbconvert_exporter": "python",
   "pygments_lexer": "ipython3",
   "version": "3.8.3"
  }
 },
 "nbformat": 4,
 "nbformat_minor": 4
}
