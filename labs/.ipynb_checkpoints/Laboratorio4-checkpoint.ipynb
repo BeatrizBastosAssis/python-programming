{
 "cells": [
  {
   "cell_type": "markdown",
   "metadata": {},
   "source": [
    "# Laboratório #4\n",
    "\n",
    "### ATENCÃO\n",
    "\n",
    "1. Para cada um dos exercícios a seguir, faça o seguinte:\n",
    "    * Adicione comentários ao seu código. Os comentários servem para explicar o código, ajudando você a lembrar do que se trata aquele trecho de código, como também outras pessoas a entenderem o que foi feito.\n",
    "    * Caso o exercício involva a implementação de uma função:\n",
    "        + Coloque um comentário dizendo o que a função faz, use **docstrings**.\n",
    "        + Escolha nomes explicativos para suas funções e parâmetros.\n",
    "    \n",
    "2. Quando você terminar os exercícios do laboratório, vá ao menu do Jupyter ou Colab e selecione a opção para fazer download do notebook.\n",
    "    * Os notebooks tem extensão .ipynb. \n",
    "    * Este deve ser o arquivo que você irá entregar.\n",
    "    * No Jupyter vá até a opção **File** -> **Download as** -> **Notebook (.ipynb)**.\n",
    "    * No Colab vá até a opção **File** -> **Download .ipynb**."
   ]
  },
  {
   "cell_type": "markdown",
   "metadata": {},
   "source": [
    "**Nome**:\n",
    "\n",
    "**Matrícula**:"
   ]
  },
  {
   "cell_type": "markdown",
   "metadata": {},
   "source": [
    "## Exercícios"
   ]
  },
  {
   "cell_type": "markdown",
   "metadata": {},
   "source": [
    "#### 1)  Considere a seguinte definição de lista aninhada (ou seja, lista dentre de lista):\n",
    "\n",
    "```python\n",
    "x = [10, [3.141, 20, [30, 'baz', 2.718]], 'foo']\n",
    "```\n",
    "\n",
    "Um esquema para esta lista é mostrado abaixo:\n",
    "\n",
    "<img src=\"../figures/lab4-ex1.png\" width=\"300\" height=\"300\">\n",
    "\n",
    "Qual é a expressão que retorna o caracter 'z' na string 'baz'?"
   ]
  },
  {
   "cell_type": "markdown",
   "metadata": {},
   "source": [
    "#### 2)  Considere a mesma lista aninhada do exercício anterior:\n",
    "\n",
    "```python\n",
    "x = [10, [3.141, 20, [30, 'baz', 2.718]], 'foo']\n",
    "```\n",
    "\n",
    "Qual expressão retorna a lista `['baz', 2.718]`?"
   ]
  },
  {
   "cell_type": "code",
   "execution_count": null,
   "metadata": {},
   "outputs": [],
   "source": []
  },
  {
   "cell_type": "markdown",
   "metadata": {},
   "source": [
    "#### 3)  Escreva um programa que receba a temperatura média de cada mês do ano e armazene-as em uma lista. Após isto, calcule a média anual das temperaturas e mostre todas as temperaturas acima da média anual, e em que mês elas ocorreram (mostrar o mês por extenso: 1 – Janeiro, 2 – Fevereiro, . . . ).\n",
    "\n",
    "|    Mês    | Média (°C) |\n",
    "|:---------:|:----------:|\n",
    "|  Janeiro  |     28     |\n",
    "| Fevereiro |     27     |\n",
    "|   Março   |     25     |\n",
    "|   Abril   |     20     |\n",
    "|    Maio   |     18     |\n",
    "|   Junho   |     15     |\n",
    "|   Julho   |     15     |\n",
    "|   Agosto  |     20     |\n",
    "|  Setembro |     20     |\n",
    "|  Outubro  |     25     |\n",
    "|  Novembro |     27     |\n",
    "|  Dezembro |     29     |"
   ]
  },
  {
   "cell_type": "code",
   "execution_count": null,
   "metadata": {},
   "outputs": [],
   "source": []
  },
  {
   "cell_type": "markdown",
   "metadata": {},
   "source": [
    "#### 4)  Escreva um programa que simule o lançamento de dados. Lance o dado 1000 vezes e armazene os resultados em uma lista. Depois, imprima na tela quantas vezes cada valor foi conseguido.\n",
    "\n",
    "**Dica**: Use a função `randint(inicio,fim)` do módulo `random` (ou seja, importe o módulo `random`) para gerar um número aleatório, onde os valores de (início, fim) representam o intervalo desejado para os números a serem gerados.\n",
    "\n",
    "Exemplo: randint(1,10) → gera um número aleatório entre 1 e 10, inclusive."
   ]
  },
  {
   "cell_type": "markdown",
   "metadata": {},
   "source": [
    "#### 4) Repita o exercício número (3) utilizando tuplas ao invés de listas.  \n",
    "**Dica**: transforme a lista que você criou no exercício (3) em uma tupla."
   ]
  },
  {
   "cell_type": "code",
   "execution_count": null,
   "metadata": {},
   "outputs": [],
   "source": []
  },
  {
   "cell_type": "markdown",
   "metadata": {},
   "source": [
    "#### 5)  EXERCICIOS COM CONJUNTOS!!!!!\n",
    "\n",
    "http://www.freelearningpoints.com/python/exercises/sets"
   ]
  },
  {
   "cell_type": "code",
   "execution_count": null,
   "metadata": {},
   "outputs": [],
   "source": []
  }
 ],
 "metadata": {
  "kernelspec": {
   "display_name": "Python 3",
   "language": "python",
   "name": "python3"
  },
  "language_info": {
   "codemirror_mode": {
    "name": "ipython",
    "version": 3
   },
   "file_extension": ".py",
   "mimetype": "text/x-python",
   "name": "python",
   "nbconvert_exporter": "python",
   "pygments_lexer": "ipython3",
   "version": "3.8.3"
  }
 },
 "nbformat": 4,
 "nbformat_minor": 4
}
